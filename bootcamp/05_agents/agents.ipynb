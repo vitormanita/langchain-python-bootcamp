{
 "cells": [
  {
   "cell_type": "markdown",
   "id": "9a93c017-5d4c-4391-8a3a-c26190b31577",
   "metadata": {},
   "source": [
    "# Agents\n",
    "\n",
    "- Agents are one of the newest (and most experimental) parts of Langchain, but with huge potential for LLM Applications\n",
    "- They combine what we already learned about Model IO, data connections, and chains, but allow us to create more robust applications\n",
    "- Agents take this one step further with the ReACT framework\n",
    "\n",
    "At their core, agents allow LLM to connect to tools (e.g. Wikipedia, calculator, google search, etc.) and conduct a structured approach to complete a task based on ReACT: Reasoning and Acting.\n",
    "\n",
    "ReACT prompting can help an LLM reason about a task and perform correct actions based on observations.\n",
    "\n",
    "The agent is given a task and can reason which tools are appropriate to use and can then utilize those results to continue on via an internal chain until it solves the task.\n",
    "\n",
    "Internally, LangChain labels the thinking in terms of:\n",
    "- Observation\n",
    "- Thought\n",
    "- Action\n",
    "\n",
    "**Why are they useful?**\n",
    "- Extremely powerful, especially when we combine them with custom tools\n",
    "- Imagine an agent with access to internal corporate documents and the ability to conduct outside relevant searches, you have a very powerful corporate assistant with perfect recall and memory to answer questions\n",
    "\n",
    "\n",
    "**Attention!:** They are not perfect and we may experience funny behaviors as we experiment with them."
   ]
  },
  {
   "cell_type": "markdown",
   "id": "391a72e2-4470-415a-9f13-07d0a69ba845",
   "metadata": {},
   "source": [
    "# Agent basics"
   ]
  },
  {
   "cell_type": "code",
   "execution_count": 1,
   "id": "87c9bc9f-2830-49eb-8153-b4062bdcef3d",
   "metadata": {},
   "outputs": [],
   "source": [
    "from langchain.agents import load_tools, initialize_agent, AgentType\n",
    "from langchain.chat_models import ChatOpenAI\n",
    "from langchain.llms import OpenAI"
   ]
  },
  {
   "cell_type": "markdown",
   "id": "18a31757-33e1-4042-a5f4-ede2097b2347",
   "metadata": {},
   "source": [
    "How to check available tools? https://python.langchain.com/docs/modules/agents/tools/"
   ]
  },
  {
   "cell_type": "code",
   "execution_count": 3,
   "id": "18248d9c-5641-439a-9677-6d674f6ac8dd",
   "metadata": {},
   "outputs": [],
   "source": [
    "# What tools should the agent have access to?\n",
    "llm = ChatOpenAI(temperature=0)  # usually, with agents, we want to keep hallucinations very low\n",
    "tools = load_tools([\"llm-math\"], llm=llm)"
   ]
  },
  {
   "cell_type": "code",
   "execution_count": 10,
   "id": "b7e116af-0e28-451d-b387-de8ac8022408",
   "metadata": {},
   "outputs": [
    {
     "data": {
      "text/plain": [
       "['CHAT_CONVERSATIONAL_REACT_DESCRIPTION',\n",
       " 'CHAT_ZERO_SHOT_REACT_DESCRIPTION',\n",
       " 'CONVERSATIONAL_REACT_DESCRIPTION',\n",
       " 'OPENAI_FUNCTIONS',\n",
       " 'OPENAI_MULTI_FUNCTIONS',\n",
       " 'REACT_DOCSTORE',\n",
       " 'SELF_ASK_WITH_SEARCH',\n",
       " 'STRUCTURED_CHAT_ZERO_SHOT_REACT_DESCRIPTION',\n",
       " 'ZERO_SHOT_REACT_DESCRIPTION',\n",
       " '__add__',\n",
       " '__class__',\n",
       " '__contains__',\n",
       " '__delattr__',\n",
       " '__dir__',\n",
       " '__doc__',\n",
       " '__eq__',\n",
       " '__format__',\n",
       " '__ge__',\n",
       " '__getattribute__',\n",
       " '__getitem__',\n",
       " '__getnewargs__',\n",
       " '__getstate__',\n",
       " '__gt__',\n",
       " '__hash__',\n",
       " '__init__',\n",
       " '__init_subclass__',\n",
       " '__iter__',\n",
       " '__le__',\n",
       " '__len__',\n",
       " '__lt__',\n",
       " '__members__',\n",
       " '__mod__',\n",
       " '__module__',\n",
       " '__mul__',\n",
       " '__name__',\n",
       " '__ne__',\n",
       " '__new__',\n",
       " '__qualname__',\n",
       " '__reduce__',\n",
       " '__reduce_ex__',\n",
       " '__repr__',\n",
       " '__rmod__',\n",
       " '__rmul__',\n",
       " '__setattr__',\n",
       " '__sizeof__',\n",
       " '__str__',\n",
       " '__subclasshook__',\n",
       " 'capitalize',\n",
       " 'casefold',\n",
       " 'center',\n",
       " 'count',\n",
       " 'encode',\n",
       " 'endswith',\n",
       " 'expandtabs',\n",
       " 'find',\n",
       " 'format',\n",
       " 'format_map',\n",
       " 'index',\n",
       " 'isalnum',\n",
       " 'isalpha',\n",
       " 'isascii',\n",
       " 'isdecimal',\n",
       " 'isdigit',\n",
       " 'isidentifier',\n",
       " 'islower',\n",
       " 'isnumeric',\n",
       " 'isprintable',\n",
       " 'isspace',\n",
       " 'istitle',\n",
       " 'isupper',\n",
       " 'join',\n",
       " 'ljust',\n",
       " 'lower',\n",
       " 'lstrip',\n",
       " 'maketrans',\n",
       " 'partition',\n",
       " 'removeprefix',\n",
       " 'removesuffix',\n",
       " 'replace',\n",
       " 'rfind',\n",
       " 'rindex',\n",
       " 'rjust',\n",
       " 'rpartition',\n",
       " 'rsplit',\n",
       " 'rstrip',\n",
       " 'split',\n",
       " 'splitlines',\n",
       " 'startswith',\n",
       " 'strip',\n",
       " 'swapcase',\n",
       " 'title',\n",
       " 'translate',\n",
       " 'upper',\n",
       " 'zfill']"
      ]
     },
     "execution_count": 10,
     "metadata": {},
     "output_type": "execute_result"
    }
   ],
   "source": [
    "# Available attributes in agent type\n",
    "# Most common will be 'ZERO_SHOT_REACT_DESCRIPTION'\n",
    "# In this case, we will give 0 examples to the model\n",
    "dir(AgentType)"
   ]
  },
  {
   "cell_type": "code",
   "execution_count": 14,
   "id": "1acd3297-3743-4997-8001-93b707968ec0",
   "metadata": {},
   "outputs": [],
   "source": [
    "agent = initialize_agent(tools=tools, llm=llm, agent=AgentType.ZERO_SHOT_REACT_DESCRIPTION, verbose=True)"
   ]
  },
  {
   "cell_type": "code",
   "execution_count": 15,
   "id": "a0f94f36-9d47-45e1-ad4a-af2896171494",
   "metadata": {},
   "outputs": [
    {
     "name": "stdout",
     "output_type": "stream",
     "text": [
      "\n",
      "\n",
      "\u001b[1m> Entering new AgentExecutor chain...\u001b[0m\n",
      "\u001b[32;1m\u001b[1;3mI need to multiply 134292 by 29384920.\n",
      "Action: Calculator\n",
      "Action Input: 134292 * 29384920\u001b[0m\n",
      "Observation: \u001b[36;1m\u001b[1;3mAnswer: 3946159676640\u001b[0m\n",
      "Thought:\u001b[32;1m\u001b[1;3mI now know the final answer\n",
      "Final Answer: 3946159676640\u001b[0m\n",
      "\n",
      "\u001b[1m> Finished chain.\u001b[0m\n"
     ]
    },
    {
     "data": {
      "text/plain": [
       "'3946159676640'"
      ]
     },
     "execution_count": 15,
     "metadata": {},
     "output_type": "execute_result"
    }
   ],
   "source": [
    "# Agent is just a chain\n",
    "agent.run(\"What is 134292 times 29384920?\")"
   ]
  },
  {
   "cell_type": "code",
   "execution_count": 16,
   "id": "f1e61f5d-e262-4f07-b12b-77f63eecadba",
   "metadata": {},
   "outputs": [
    {
     "data": {
      "text/plain": [
       "'3946159676640'"
      ]
     },
     "execution_count": 16,
     "metadata": {},
     "output_type": "execute_result"
    }
   ],
   "source": [
    "agent = initialize_agent(tools=tools, llm=llm, agent=AgentType.ZERO_SHOT_REACT_DESCRIPTION)\n",
    "agent.run(\"What is 134292 times 29384920?\")"
   ]
  },
  {
   "cell_type": "code",
   "execution_count": 17,
   "id": "e4c6d6cd-6b72-424a-87cd-6a9dd9426ab4",
   "metadata": {},
   "outputs": [
    {
     "data": {
      "text/plain": [
       "3946159676640"
      ]
     },
     "execution_count": 17,
     "metadata": {},
     "output_type": "execute_result"
    }
   ],
   "source": [
    "134292*29384920"
   ]
  },
  {
   "cell_type": "markdown",
   "id": "92d37da4-009f-4e47-93b6-4307dbcedb64",
   "metadata": {},
   "source": [
    "# Agent Tools\n",
    "Integrations: https://python.langchain.com/docs/integrations/tools/\n",
    "\n",
    "Usually, requires 2 things:\n",
    "- Install a package\n",
    "- Get a key\n",
    "\n",
    "We'll use as an example, SerpAPI (free 100 searches per month): https://serpapi.com/dashboard\n",
    "Requirements:\n",
    "- install `google-search-results`\n",
    "- Set `SERPAPI_API_KEY` environment key"
   ]
  },
  {
   "cell_type": "code",
   "execution_count": 2,
   "id": "dc10d312-541d-425c-b1fa-7849a0127dab",
   "metadata": {},
   "outputs": [],
   "source": [
    "llm = ChatOpenAI(temperature=0)\n",
    "tools = load_tools([\"serpapi\", \"llm-math\"], llm=llm)"
   ]
  },
  {
   "cell_type": "code",
   "execution_count": 3,
   "id": "93f81cb9-5714-4bfb-974d-220a8ea6321b",
   "metadata": {},
   "outputs": [],
   "source": [
    "agent = initialize_agent(\n",
    "    tools=tools,\n",
    "    llm=llm,\n",
    "    agent=AgentType.ZERO_SHOT_REACT_DESCRIPTION,\n",
    "    verbose=True\n",
    ")"
   ]
  },
  {
   "cell_type": "code",
   "execution_count": 4,
   "id": "e5306092-0aec-4341-9b79-b07f9e4c5d97",
   "metadata": {},
   "outputs": [
    {
     "name": "stdout",
     "output_type": "stream",
     "text": [
      "\n",
      "\n",
      "\u001b[1m> Entering new AgentExecutor chain...\u001b[0m\n",
      "\u001b[32;1m\u001b[1;3mI can use the search tool to find the year Albert Einstein was born. Then I can use the calculator to multiply that year by 5.\n",
      "Action: Search\n",
      "Action Input: \"Albert Einstein birth year\"\u001b[0m\n",
      "Observation: \u001b[36;1m\u001b[1;3mMarch 14, 1879\u001b[0m\n",
      "Thought:\u001b[32;1m\u001b[1;3mNow I can use the calculator to multiply 1879 by 5.\n",
      "Action: Calculator\n",
      "Action Input: 1879 * 5\u001b[0m\n",
      "Observation: \u001b[33;1m\u001b[1;3mAnswer: 9395\u001b[0m\n",
      "Thought:\u001b[32;1m\u001b[1;3mI now know the final answer\n",
      "Final Answer: Albert Einstein was born in 1879. When multiplied by 5, that is equal to 9395.\u001b[0m\n",
      "\n",
      "\u001b[1m> Finished chain.\u001b[0m\n"
     ]
    },
    {
     "data": {
      "text/plain": [
       "'Albert Einstein was born in 1879. When multiplied by 5, that is equal to 9395.'"
      ]
     },
     "execution_count": 4,
     "metadata": {},
     "output_type": "execute_result"
    }
   ],
   "source": [
    "agent.run(\"What year was Albert Einstein born? What is that year multiplied by 5?\")"
   ]
  },
  {
   "cell_type": "code",
   "execution_count": 7,
   "id": "b435cc98-ea31-4420-92d9-00298d7332c0",
   "metadata": {},
   "outputs": [],
   "source": [
    "from langchain.tools.python.tool import PythonREPLTool\n",
    "from langchain.python import PythonREPL\n",
    "from langchain.agents.agent_toolkits import create_python_agent"
   ]
  },
  {
   "cell_type": "code",
   "execution_count": 8,
   "id": "bac4fa74-38cb-42e8-82d6-14e953c385c2",
   "metadata": {},
   "outputs": [],
   "source": [
    "llm = ChatOpenAI(temperature=0)\n",
    "agent = create_python_agent(\n",
    "    tool=PythonREPLTool(),\n",
    "    llm=llm,\n",
    "    agent=AgentType.ZERO_SHOT_REACT_DESCRIPTION,\n",
    "    verbose=True\n",
    ")"
   ]
  },
  {
   "cell_type": "code",
   "execution_count": 11,
   "id": "d0297ee6-bd04-41e3-b0ff-322dfc3c59ad",
   "metadata": {},
   "outputs": [],
   "source": [
    "python_list = [1, 3, 2, 4, 1, 2, 3, 4, 1, 1, 2, 3, 5, 10]"
   ]
  },
  {
   "cell_type": "code",
   "execution_count": 12,
   "id": "3fee3a1a-4f12-48e5-893a-77727f093b75",
   "metadata": {},
   "outputs": [
    {
     "name": "stdout",
     "output_type": "stream",
     "text": [
      "\n",
      "\n",
      "\u001b[1m> Entering new AgentExecutor chain...\u001b[0m\n"
     ]
    },
    {
     "name": "stderr",
     "output_type": "stream",
     "text": [
      "Python REPL can execute arbitrary code. Use with caution.\n"
     ]
    },
    {
     "name": "stdout",
     "output_type": "stream",
     "text": [
      "\u001b[32;1m\u001b[1;3mI can use the `sorted()` function to sort the list in ascending order.\n",
      "Action: Python_REPL\n",
      "Action Input: sorted([1, 3, 2, 4, 1, 2, 3, 4, 1, 1, 2, 3, 5, 10])\u001b[0m\n",
      "Observation: \u001b[36;1m\u001b[1;3m\u001b[0m\n",
      "Thought:\u001b[32;1m\u001b[1;3mThe list is sorted in ascending order.\n",
      "Final Answer: [1, 1, 1, 1, 2, 2, 2, 3, 3, 3, 4, 4, 5, 10]\u001b[0m\n",
      "\n",
      "\u001b[1m> Finished chain.\u001b[0m\n"
     ]
    },
    {
     "data": {
      "text/plain": [
       "'[1, 1, 1, 1, 2, 2, 2, 3, 3, 3, 4, 4, 5, 10]'"
      ]
     },
     "execution_count": 12,
     "metadata": {},
     "output_type": "execute_result"
    }
   ],
   "source": [
    "agent.run(f\"\"\"Sort this Python list: {python_list}\"\"\")"
   ]
  },
  {
   "cell_type": "markdown",
   "id": "02e49ede-f8e1-4038-a56b-bf4d200c4be2",
   "metadata": {},
   "source": [
    "# Custom tools"
   ]
  },
  {
   "cell_type": "code",
   "execution_count": 14,
   "id": "b75709c1-e9a1-41c6-a60e-778ee61e3b7c",
   "metadata": {},
   "outputs": [],
   "source": [
    "from langchain.agents import tool  # this is a decorator"
   ]
  },
  {
   "cell_type": "code",
   "execution_count": 16,
   "id": "1324c9d5-6091-4a84-8743-4203e813f1cf",
   "metadata": {},
   "outputs": [],
   "source": [
    "# LLM -> Tools docstrings -> pick tool -> action -> observation -> \n",
    "\n",
    "@tool\n",
    "def coolest_guy(text: str) -> str:\n",
    "    '''Returns the name of the coolest person in the universe. \n",
    "    Expects an input of an empty string '' and returns the \n",
    "    name of the coolest person in the universe'''\n",
    "    return \"James Bond\""
   ]
  },
  {
   "cell_type": "markdown",
   "id": "2322b32b-a7ae-4e7c-af0d-880b66c75332",
   "metadata": {},
   "source": [
    "### Without custom tool"
   ]
  },
  {
   "cell_type": "code",
   "execution_count": 18,
   "id": "28af47d2-7981-4711-8b3b-cc4e3f964dda",
   "metadata": {},
   "outputs": [],
   "source": [
    "llm = ChatOpenAI(temperature=0)\n",
    "tools = load_tools([\"wikipedia\", \"llm-math\"], llm=llm)"
   ]
  },
  {
   "cell_type": "code",
   "execution_count": 19,
   "id": "a1ef5bb8-868e-4293-bdb7-07e5c83c42a9",
   "metadata": {},
   "outputs": [],
   "source": [
    "agent = initialize_agent(\n",
    "    tools=tools,\n",
    "    llm=llm,\n",
    "    agent=AgentType.ZERO_SHOT_REACT_DESCRIPTION,\n",
    "    verbose=True\n",
    ")"
   ]
  },
  {
   "cell_type": "code",
   "execution_count": 20,
   "id": "564ff6ad-a3fe-4312-aabf-d3683664cc3f",
   "metadata": {},
   "outputs": [
    {
     "name": "stdout",
     "output_type": "stream",
     "text": [
      "\n",
      "\n",
      "\u001b[1m> Entering new AgentExecutor chain...\u001b[0m\n",
      "\u001b[32;1m\u001b[1;3mThis question is subjective and cannot be answered with factual information.\n",
      "Final Answer: There is no definitive answer to this question as it is based on personal opinion.\u001b[0m\n",
      "\n",
      "\u001b[1m> Finished chain.\u001b[0m\n"
     ]
    },
    {
     "data": {
      "text/plain": [
       "'There is no definitive answer to this question as it is based on personal opinion.'"
      ]
     },
     "execution_count": 20,
     "metadata": {},
     "output_type": "execute_result"
    }
   ],
   "source": [
    "agent.run(\"Who is the coolest person in the universe?\")"
   ]
  },
  {
   "cell_type": "markdown",
   "id": "cb210393-b4ed-4bfa-87b7-228624156e38",
   "metadata": {},
   "source": [
    "### With custom tool"
   ]
  },
  {
   "cell_type": "code",
   "execution_count": 22,
   "id": "e39467a8-8e1b-4a5d-819a-49f1f0dc580d",
   "metadata": {},
   "outputs": [],
   "source": [
    "llm = ChatOpenAI(temperature=0)\n",
    "\n",
    "tools = load_tools([\"wikipedia\", \"llm-math\"], llm=llm)\n",
    "tools = tools + [coolest_guy]"
   ]
  },
  {
   "cell_type": "code",
   "execution_count": 23,
   "id": "9bd46ecb-4a6f-432a-9d1d-b452d3091427",
   "metadata": {},
   "outputs": [],
   "source": [
    "agent = initialize_agent(\n",
    "    tools=tools,\n",
    "    llm=llm,\n",
    "    agent=AgentType.ZERO_SHOT_REACT_DESCRIPTION,\n",
    "    verbose=True\n",
    ")"
   ]
  },
  {
   "cell_type": "code",
   "execution_count": 24,
   "id": "4d7e77af-db5b-46f5-beed-de301f572d65",
   "metadata": {},
   "outputs": [
    {
     "name": "stdout",
     "output_type": "stream",
     "text": [
      "\n",
      "\n",
      "\u001b[1m> Entering new AgentExecutor chain...\u001b[0m\n",
      "\u001b[32;1m\u001b[1;3mI can use the coolest_guy function to find the answer.\n",
      "Action: coolest_guy\n",
      "Action Input: ''\u001b[0m\n",
      "Observation: \u001b[38;5;200m\u001b[1;3mJames Bond\u001b[0m\n",
      "Thought:\u001b[32;1m\u001b[1;3mI now know the final answer\n",
      "Final Answer: James Bond\u001b[0m\n",
      "\n",
      "\u001b[1m> Finished chain.\u001b[0m\n"
     ]
    },
    {
     "data": {
      "text/plain": [
       "'James Bond'"
      ]
     },
     "execution_count": 24,
     "metadata": {},
     "output_type": "execute_result"
    }
   ],
   "source": [
    "agent.run(\"Who is the coolest person in the universe?\")"
   ]
  },
  {
   "cell_type": "code",
   "execution_count": 25,
   "id": "f591a764-12eb-4062-8f7f-1ee41b0bc709",
   "metadata": {},
   "outputs": [],
   "source": [
    "# Example for internal company api\n",
    "# @tool\n",
    "# def some_api(text: str) -> str:\n",
    "#     '''Connect this API and use this key...'''\n",
    "#     return answer"
   ]
  },
  {
   "cell_type": "code",
   "execution_count": 26,
   "id": "7d292b7e-5591-47b7-bcde-5d9b9fa2a9fc",
   "metadata": {},
   "outputs": [
    {
     "name": "stdout",
     "output_type": "stream",
     "text": [
      "\n",
      "\n",
      "\u001b[1m> Entering new AgentExecutor chain...\u001b[0m\n"
     ]
    },
    {
     "ename": "OutputParserException",
     "evalue": "Could not parse LLM output: `I don't have access to real-time information, so I can't answer this question directly.\nAction: N/A`",
     "output_type": "error",
     "traceback": [
      "\u001b[0;31m---------------------------------------------------------------------------\u001b[0m",
      "\u001b[0;31mOutputParserException\u001b[0m                     Traceback (most recent call last)",
      "Cell \u001b[0;32mIn[26], line 1\u001b[0m\n\u001b[0;32m----> 1\u001b[0m \u001b[43magent\u001b[49m\u001b[38;5;241;43m.\u001b[39;49m\u001b[43mrun\u001b[49m\u001b[43m(\u001b[49m\u001b[38;5;124;43m\"\u001b[39;49m\u001b[38;5;124;43mWhat time is it right now?\u001b[39;49m\u001b[38;5;124;43m\"\u001b[39;49m\u001b[43m)\u001b[49m\n",
      "File \u001b[0;32m~/.cache/pypoetry/virtualenvs/langchain-python-bootcamp-zWDH7Erk-py3.11/lib/python3.11/site-packages/langchain/chains/base.py:475\u001b[0m, in \u001b[0;36mChain.run\u001b[0;34m(self, callbacks, tags, metadata, *args, **kwargs)\u001b[0m\n\u001b[1;32m    473\u001b[0m     \u001b[38;5;28;01mif\u001b[39;00m \u001b[38;5;28mlen\u001b[39m(args) \u001b[38;5;241m!=\u001b[39m \u001b[38;5;241m1\u001b[39m:\n\u001b[1;32m    474\u001b[0m         \u001b[38;5;28;01mraise\u001b[39;00m \u001b[38;5;167;01mValueError\u001b[39;00m(\u001b[38;5;124m\"\u001b[39m\u001b[38;5;124m`run` supports only one positional argument.\u001b[39m\u001b[38;5;124m\"\u001b[39m)\n\u001b[0;32m--> 475\u001b[0m     \u001b[38;5;28;01mreturn\u001b[39;00m \u001b[38;5;28;43mself\u001b[39;49m\u001b[43m(\u001b[49m\u001b[43margs\u001b[49m\u001b[43m[\u001b[49m\u001b[38;5;241;43m0\u001b[39;49m\u001b[43m]\u001b[49m\u001b[43m,\u001b[49m\u001b[43m \u001b[49m\u001b[43mcallbacks\u001b[49m\u001b[38;5;241;43m=\u001b[39;49m\u001b[43mcallbacks\u001b[49m\u001b[43m,\u001b[49m\u001b[43m \u001b[49m\u001b[43mtags\u001b[49m\u001b[38;5;241;43m=\u001b[39;49m\u001b[43mtags\u001b[49m\u001b[43m,\u001b[49m\u001b[43m \u001b[49m\u001b[43mmetadata\u001b[49m\u001b[38;5;241;43m=\u001b[39;49m\u001b[43mmetadata\u001b[49m\u001b[43m)\u001b[49m[\n\u001b[1;32m    476\u001b[0m         _output_key\n\u001b[1;32m    477\u001b[0m     ]\n\u001b[1;32m    479\u001b[0m \u001b[38;5;28;01mif\u001b[39;00m kwargs \u001b[38;5;129;01mand\u001b[39;00m \u001b[38;5;129;01mnot\u001b[39;00m args:\n\u001b[1;32m    480\u001b[0m     \u001b[38;5;28;01mreturn\u001b[39;00m \u001b[38;5;28mself\u001b[39m(kwargs, callbacks\u001b[38;5;241m=\u001b[39mcallbacks, tags\u001b[38;5;241m=\u001b[39mtags, metadata\u001b[38;5;241m=\u001b[39mmetadata)[\n\u001b[1;32m    481\u001b[0m         _output_key\n\u001b[1;32m    482\u001b[0m     ]\n",
      "File \u001b[0;32m~/.cache/pypoetry/virtualenvs/langchain-python-bootcamp-zWDH7Erk-py3.11/lib/python3.11/site-packages/langchain/chains/base.py:282\u001b[0m, in \u001b[0;36mChain.__call__\u001b[0;34m(self, inputs, return_only_outputs, callbacks, tags, metadata, include_run_info)\u001b[0m\n\u001b[1;32m    280\u001b[0m \u001b[38;5;28;01mexcept\u001b[39;00m (\u001b[38;5;167;01mKeyboardInterrupt\u001b[39;00m, \u001b[38;5;167;01mException\u001b[39;00m) \u001b[38;5;28;01mas\u001b[39;00m e:\n\u001b[1;32m    281\u001b[0m     run_manager\u001b[38;5;241m.\u001b[39mon_chain_error(e)\n\u001b[0;32m--> 282\u001b[0m     \u001b[38;5;28;01mraise\u001b[39;00m e\n\u001b[1;32m    283\u001b[0m run_manager\u001b[38;5;241m.\u001b[39mon_chain_end(outputs)\n\u001b[1;32m    284\u001b[0m final_outputs: Dict[\u001b[38;5;28mstr\u001b[39m, Any] \u001b[38;5;241m=\u001b[39m \u001b[38;5;28mself\u001b[39m\u001b[38;5;241m.\u001b[39mprep_outputs(\n\u001b[1;32m    285\u001b[0m     inputs, outputs, return_only_outputs\n\u001b[1;32m    286\u001b[0m )\n",
      "File \u001b[0;32m~/.cache/pypoetry/virtualenvs/langchain-python-bootcamp-zWDH7Erk-py3.11/lib/python3.11/site-packages/langchain/chains/base.py:276\u001b[0m, in \u001b[0;36mChain.__call__\u001b[0;34m(self, inputs, return_only_outputs, callbacks, tags, metadata, include_run_info)\u001b[0m\n\u001b[1;32m    270\u001b[0m run_manager \u001b[38;5;241m=\u001b[39m callback_manager\u001b[38;5;241m.\u001b[39mon_chain_start(\n\u001b[1;32m    271\u001b[0m     dumpd(\u001b[38;5;28mself\u001b[39m),\n\u001b[1;32m    272\u001b[0m     inputs,\n\u001b[1;32m    273\u001b[0m )\n\u001b[1;32m    274\u001b[0m \u001b[38;5;28;01mtry\u001b[39;00m:\n\u001b[1;32m    275\u001b[0m     outputs \u001b[38;5;241m=\u001b[39m (\n\u001b[0;32m--> 276\u001b[0m         \u001b[38;5;28;43mself\u001b[39;49m\u001b[38;5;241;43m.\u001b[39;49m\u001b[43m_call\u001b[49m\u001b[43m(\u001b[49m\u001b[43minputs\u001b[49m\u001b[43m,\u001b[49m\u001b[43m \u001b[49m\u001b[43mrun_manager\u001b[49m\u001b[38;5;241;43m=\u001b[39;49m\u001b[43mrun_manager\u001b[49m\u001b[43m)\u001b[49m\n\u001b[1;32m    277\u001b[0m         \u001b[38;5;28;01mif\u001b[39;00m new_arg_supported\n\u001b[1;32m    278\u001b[0m         \u001b[38;5;28;01melse\u001b[39;00m \u001b[38;5;28mself\u001b[39m\u001b[38;5;241m.\u001b[39m_call(inputs)\n\u001b[1;32m    279\u001b[0m     )\n\u001b[1;32m    280\u001b[0m \u001b[38;5;28;01mexcept\u001b[39;00m (\u001b[38;5;167;01mKeyboardInterrupt\u001b[39;00m, \u001b[38;5;167;01mException\u001b[39;00m) \u001b[38;5;28;01mas\u001b[39;00m e:\n\u001b[1;32m    281\u001b[0m     run_manager\u001b[38;5;241m.\u001b[39mon_chain_error(e)\n",
      "File \u001b[0;32m~/.cache/pypoetry/virtualenvs/langchain-python-bootcamp-zWDH7Erk-py3.11/lib/python3.11/site-packages/langchain/agents/agent.py:1036\u001b[0m, in \u001b[0;36mAgentExecutor._call\u001b[0;34m(self, inputs, run_manager)\u001b[0m\n\u001b[1;32m   1034\u001b[0m \u001b[38;5;66;03m# We now enter the agent loop (until it returns something).\u001b[39;00m\n\u001b[1;32m   1035\u001b[0m \u001b[38;5;28;01mwhile\u001b[39;00m \u001b[38;5;28mself\u001b[39m\u001b[38;5;241m.\u001b[39m_should_continue(iterations, time_elapsed):\n\u001b[0;32m-> 1036\u001b[0m     next_step_output \u001b[38;5;241m=\u001b[39m \u001b[38;5;28;43mself\u001b[39;49m\u001b[38;5;241;43m.\u001b[39;49m\u001b[43m_take_next_step\u001b[49m\u001b[43m(\u001b[49m\n\u001b[1;32m   1037\u001b[0m \u001b[43m        \u001b[49m\u001b[43mname_to_tool_map\u001b[49m\u001b[43m,\u001b[49m\n\u001b[1;32m   1038\u001b[0m \u001b[43m        \u001b[49m\u001b[43mcolor_mapping\u001b[49m\u001b[43m,\u001b[49m\n\u001b[1;32m   1039\u001b[0m \u001b[43m        \u001b[49m\u001b[43minputs\u001b[49m\u001b[43m,\u001b[49m\n\u001b[1;32m   1040\u001b[0m \u001b[43m        \u001b[49m\u001b[43mintermediate_steps\u001b[49m\u001b[43m,\u001b[49m\n\u001b[1;32m   1041\u001b[0m \u001b[43m        \u001b[49m\u001b[43mrun_manager\u001b[49m\u001b[38;5;241;43m=\u001b[39;49m\u001b[43mrun_manager\u001b[49m\u001b[43m,\u001b[49m\n\u001b[1;32m   1042\u001b[0m \u001b[43m    \u001b[49m\u001b[43m)\u001b[49m\n\u001b[1;32m   1043\u001b[0m     \u001b[38;5;28;01mif\u001b[39;00m \u001b[38;5;28misinstance\u001b[39m(next_step_output, AgentFinish):\n\u001b[1;32m   1044\u001b[0m         \u001b[38;5;28;01mreturn\u001b[39;00m \u001b[38;5;28mself\u001b[39m\u001b[38;5;241m.\u001b[39m_return(\n\u001b[1;32m   1045\u001b[0m             next_step_output, intermediate_steps, run_manager\u001b[38;5;241m=\u001b[39mrun_manager\n\u001b[1;32m   1046\u001b[0m         )\n",
      "File \u001b[0;32m~/.cache/pypoetry/virtualenvs/langchain-python-bootcamp-zWDH7Erk-py3.11/lib/python3.11/site-packages/langchain/agents/agent.py:844\u001b[0m, in \u001b[0;36mAgentExecutor._take_next_step\u001b[0;34m(self, name_to_tool_map, color_mapping, inputs, intermediate_steps, run_manager)\u001b[0m\n\u001b[1;32m    842\u001b[0m     raise_error \u001b[38;5;241m=\u001b[39m \u001b[38;5;28;01mFalse\u001b[39;00m\n\u001b[1;32m    843\u001b[0m \u001b[38;5;28;01mif\u001b[39;00m raise_error:\n\u001b[0;32m--> 844\u001b[0m     \u001b[38;5;28;01mraise\u001b[39;00m e\n\u001b[1;32m    845\u001b[0m text \u001b[38;5;241m=\u001b[39m \u001b[38;5;28mstr\u001b[39m(e)\n\u001b[1;32m    846\u001b[0m \u001b[38;5;28;01mif\u001b[39;00m \u001b[38;5;28misinstance\u001b[39m(\u001b[38;5;28mself\u001b[39m\u001b[38;5;241m.\u001b[39mhandle_parsing_errors, \u001b[38;5;28mbool\u001b[39m):\n",
      "File \u001b[0;32m~/.cache/pypoetry/virtualenvs/langchain-python-bootcamp-zWDH7Erk-py3.11/lib/python3.11/site-packages/langchain/agents/agent.py:833\u001b[0m, in \u001b[0;36mAgentExecutor._take_next_step\u001b[0;34m(self, name_to_tool_map, color_mapping, inputs, intermediate_steps, run_manager)\u001b[0m\n\u001b[1;32m    830\u001b[0m     intermediate_steps \u001b[38;5;241m=\u001b[39m \u001b[38;5;28mself\u001b[39m\u001b[38;5;241m.\u001b[39m_prepare_intermediate_steps(intermediate_steps)\n\u001b[1;32m    832\u001b[0m     \u001b[38;5;66;03m# Call the LLM to see what to do.\u001b[39;00m\n\u001b[0;32m--> 833\u001b[0m     output \u001b[38;5;241m=\u001b[39m \u001b[38;5;28;43mself\u001b[39;49m\u001b[38;5;241;43m.\u001b[39;49m\u001b[43magent\u001b[49m\u001b[38;5;241;43m.\u001b[39;49m\u001b[43mplan\u001b[49m\u001b[43m(\u001b[49m\n\u001b[1;32m    834\u001b[0m \u001b[43m        \u001b[49m\u001b[43mintermediate_steps\u001b[49m\u001b[43m,\u001b[49m\n\u001b[1;32m    835\u001b[0m \u001b[43m        \u001b[49m\u001b[43mcallbacks\u001b[49m\u001b[38;5;241;43m=\u001b[39;49m\u001b[43mrun_manager\u001b[49m\u001b[38;5;241;43m.\u001b[39;49m\u001b[43mget_child\u001b[49m\u001b[43m(\u001b[49m\u001b[43m)\u001b[49m\u001b[43m \u001b[49m\u001b[38;5;28;43;01mif\u001b[39;49;00m\u001b[43m \u001b[49m\u001b[43mrun_manager\u001b[49m\u001b[43m \u001b[49m\u001b[38;5;28;43;01melse\u001b[39;49;00m\u001b[43m \u001b[49m\u001b[38;5;28;43;01mNone\u001b[39;49;00m\u001b[43m,\u001b[49m\n\u001b[1;32m    836\u001b[0m \u001b[43m        \u001b[49m\u001b[38;5;241;43m*\u001b[39;49m\u001b[38;5;241;43m*\u001b[39;49m\u001b[43minputs\u001b[49m\u001b[43m,\u001b[49m\n\u001b[1;32m    837\u001b[0m \u001b[43m    \u001b[49m\u001b[43m)\u001b[49m\n\u001b[1;32m    838\u001b[0m \u001b[38;5;28;01mexcept\u001b[39;00m OutputParserException \u001b[38;5;28;01mas\u001b[39;00m e:\n\u001b[1;32m    839\u001b[0m     \u001b[38;5;28;01mif\u001b[39;00m \u001b[38;5;28misinstance\u001b[39m(\u001b[38;5;28mself\u001b[39m\u001b[38;5;241m.\u001b[39mhandle_parsing_errors, \u001b[38;5;28mbool\u001b[39m):\n",
      "File \u001b[0;32m~/.cache/pypoetry/virtualenvs/langchain-python-bootcamp-zWDH7Erk-py3.11/lib/python3.11/site-packages/langchain/agents/agent.py:457\u001b[0m, in \u001b[0;36mAgent.plan\u001b[0;34m(self, intermediate_steps, callbacks, **kwargs)\u001b[0m\n\u001b[1;32m    455\u001b[0m full_inputs \u001b[38;5;241m=\u001b[39m \u001b[38;5;28mself\u001b[39m\u001b[38;5;241m.\u001b[39mget_full_inputs(intermediate_steps, \u001b[38;5;241m*\u001b[39m\u001b[38;5;241m*\u001b[39mkwargs)\n\u001b[1;32m    456\u001b[0m full_output \u001b[38;5;241m=\u001b[39m \u001b[38;5;28mself\u001b[39m\u001b[38;5;241m.\u001b[39mllm_chain\u001b[38;5;241m.\u001b[39mpredict(callbacks\u001b[38;5;241m=\u001b[39mcallbacks, \u001b[38;5;241m*\u001b[39m\u001b[38;5;241m*\u001b[39mfull_inputs)\n\u001b[0;32m--> 457\u001b[0m \u001b[38;5;28;01mreturn\u001b[39;00m \u001b[38;5;28;43mself\u001b[39;49m\u001b[38;5;241;43m.\u001b[39;49m\u001b[43moutput_parser\u001b[49m\u001b[38;5;241;43m.\u001b[39;49m\u001b[43mparse\u001b[49m\u001b[43m(\u001b[49m\u001b[43mfull_output\u001b[49m\u001b[43m)\u001b[49m\n",
      "File \u001b[0;32m~/.cache/pypoetry/virtualenvs/langchain-python-bootcamp-zWDH7Erk-py3.11/lib/python3.11/site-packages/langchain/agents/mrkl/output_parser.py:61\u001b[0m, in \u001b[0;36mMRKLOutputParser.parse\u001b[0;34m(self, text)\u001b[0m\n\u001b[1;32m     52\u001b[0m     \u001b[38;5;28;01mraise\u001b[39;00m OutputParserException(\n\u001b[1;32m     53\u001b[0m         \u001b[38;5;124mf\u001b[39m\u001b[38;5;124m\"\u001b[39m\u001b[38;5;124mCould not parse LLM output: `\u001b[39m\u001b[38;5;132;01m{\u001b[39;00mtext\u001b[38;5;132;01m}\u001b[39;00m\u001b[38;5;124m`\u001b[39m\u001b[38;5;124m\"\u001b[39m,\n\u001b[1;32m     54\u001b[0m         observation\u001b[38;5;241m=\u001b[39mMISSING_ACTION_AFTER_THOUGHT_ERROR_MESSAGE,\n\u001b[1;32m     55\u001b[0m         llm_output\u001b[38;5;241m=\u001b[39mtext,\n\u001b[1;32m     56\u001b[0m         send_to_llm\u001b[38;5;241m=\u001b[39m\u001b[38;5;28;01mTrue\u001b[39;00m,\n\u001b[1;32m     57\u001b[0m     )\n\u001b[1;32m     58\u001b[0m \u001b[38;5;28;01melif\u001b[39;00m \u001b[38;5;129;01mnot\u001b[39;00m re\u001b[38;5;241m.\u001b[39msearch(\n\u001b[1;32m     59\u001b[0m     \u001b[38;5;124mr\u001b[39m\u001b[38;5;124m\"\u001b[39m\u001b[38;5;124m[\u001b[39m\u001b[38;5;124m\\\u001b[39m\u001b[38;5;124ms]*Action\u001b[39m\u001b[38;5;124m\\\u001b[39m\u001b[38;5;124ms*\u001b[39m\u001b[38;5;124m\\\u001b[39m\u001b[38;5;124md*\u001b[39m\u001b[38;5;124m\\\u001b[39m\u001b[38;5;124ms*Input\u001b[39m\u001b[38;5;124m\\\u001b[39m\u001b[38;5;124ms*\u001b[39m\u001b[38;5;124m\\\u001b[39m\u001b[38;5;124md*\u001b[39m\u001b[38;5;124m\\\u001b[39m\u001b[38;5;124ms*:[\u001b[39m\u001b[38;5;124m\\\u001b[39m\u001b[38;5;124ms]*(.*)\u001b[39m\u001b[38;5;124m\"\u001b[39m, text, re\u001b[38;5;241m.\u001b[39mDOTALL\n\u001b[1;32m     60\u001b[0m ):\n\u001b[0;32m---> 61\u001b[0m     \u001b[38;5;28;01mraise\u001b[39;00m OutputParserException(\n\u001b[1;32m     62\u001b[0m         \u001b[38;5;124mf\u001b[39m\u001b[38;5;124m\"\u001b[39m\u001b[38;5;124mCould not parse LLM output: `\u001b[39m\u001b[38;5;132;01m{\u001b[39;00mtext\u001b[38;5;132;01m}\u001b[39;00m\u001b[38;5;124m`\u001b[39m\u001b[38;5;124m\"\u001b[39m,\n\u001b[1;32m     63\u001b[0m         observation\u001b[38;5;241m=\u001b[39mMISSING_ACTION_INPUT_AFTER_ACTION_ERROR_MESSAGE,\n\u001b[1;32m     64\u001b[0m         llm_output\u001b[38;5;241m=\u001b[39mtext,\n\u001b[1;32m     65\u001b[0m         send_to_llm\u001b[38;5;241m=\u001b[39m\u001b[38;5;28;01mTrue\u001b[39;00m,\n\u001b[1;32m     66\u001b[0m     )\n\u001b[1;32m     67\u001b[0m \u001b[38;5;28;01melse\u001b[39;00m:\n\u001b[1;32m     68\u001b[0m     \u001b[38;5;28;01mraise\u001b[39;00m OutputParserException(\u001b[38;5;124mf\u001b[39m\u001b[38;5;124m\"\u001b[39m\u001b[38;5;124mCould not parse LLM output: `\u001b[39m\u001b[38;5;132;01m{\u001b[39;00mtext\u001b[38;5;132;01m}\u001b[39;00m\u001b[38;5;124m`\u001b[39m\u001b[38;5;124m\"\u001b[39m)\n",
      "\u001b[0;31mOutputParserException\u001b[0m: Could not parse LLM output: `I don't have access to real-time information, so I can't answer this question directly.\nAction: N/A`"
     ]
    }
   ],
   "source": [
    "# This error is a flaw of agents, ideally, it would just say it can't get the answer, and not raise an error\n",
    "agent.run(\"What time is it right now?\")"
   ]
  },
  {
   "cell_type": "code",
   "execution_count": 27,
   "id": "31375a4a-fc03-4977-a415-ce0a38673e51",
   "metadata": {},
   "outputs": [],
   "source": [
    "from datetime import datetime\n",
    "\n",
    "# This may be a weird python docstring, but it's the best format for the LLM to understand\n",
    "\n",
    "@tool\n",
    "def get_current_time(text: str) -> str:\n",
    "    '''Returns the current time. Use this for any questions regarding the current time.\n",
    "    Input is an empty string and the current time is returned in a string format.\n",
    "    Only use this function for the current time, other time related questions should use another tool.'''\n",
    "    return str(datetime.now())"
   ]
  },
  {
   "cell_type": "code",
   "execution_count": 28,
   "id": "5f7108c0-0329-4630-afce-9970a2c85397",
   "metadata": {},
   "outputs": [],
   "source": [
    "tools = tools + [get_current_time]\n",
    "\n",
    "agent = initialize_agent(\n",
    "    tools=tools,\n",
    "    llm=llm,\n",
    "    agent=AgentType.ZERO_SHOT_REACT_DESCRIPTION,\n",
    "    verbose=True\n",
    ")"
   ]
  },
  {
   "cell_type": "code",
   "execution_count": 29,
   "id": "c4fecdfb-9704-4fa2-ba36-a5be5547352e",
   "metadata": {},
   "outputs": [
    {
     "name": "stdout",
     "output_type": "stream",
     "text": [
      "\n",
      "\n",
      "\u001b[1m> Entering new AgentExecutor chain...\u001b[0m\n",
      "\u001b[32;1m\u001b[1;3mI should use the get_current_time tool to get the current time.\n",
      "Action: get_current_time\n",
      "Action Input: ''\u001b[0m\n",
      "Observation: \u001b[36;1m\u001b[1;3m2023-09-29 12:35:03.931386\u001b[0m\n",
      "Thought:\u001b[32;1m\u001b[1;3mI now know the current time.\n",
      "Final Answer: The current time is 2023-09-29 12:35:03.931386.\u001b[0m\n",
      "\n",
      "\u001b[1m> Finished chain.\u001b[0m\n"
     ]
    },
    {
     "data": {
      "text/plain": [
       "'The current time is 2023-09-29 12:35:03.931386.'"
      ]
     },
     "execution_count": 29,
     "metadata": {},
     "output_type": "execute_result"
    }
   ],
   "source": [
    "agent.run(\"What time is it right now?\")"
   ]
  },
  {
   "cell_type": "code",
   "execution_count": 30,
   "id": "2e8179b6-174f-45d3-871f-4e2d23232daa",
   "metadata": {},
   "outputs": [
    {
     "name": "stdout",
     "output_type": "stream",
     "text": [
      "\n",
      "\n",
      "\u001b[1m> Entering new AgentExecutor chain...\u001b[0m\n",
      "\u001b[32;1m\u001b[1;3mI should use Wikipedia to find the answer to this historical event.\n",
      "Action: Wikipedia\n",
      "Action Input: \"Pearl Harbor attack\"\u001b[0m\n",
      "Observation: \u001b[36;1m\u001b[1;3mPage: Attack on Pearl Harbor\n",
      "Summary: The attack on Pearl Harbor was a surprise military strike by the Imperial Japanese Navy Air Service upon the United States against the U.S. naval base at Pearl Harbor in Honolulu, Hawaii, just before 8:00 a.m. (local time) on Sunday, December 7, 1941. The United States was a neutral country at the time; the attack led to its formal entry into World War II on the side of the Allies the next day. The Japanese military leadership referred to the attack as the Hawaii Operation and Operation AI, and as Operation Z during its planning.The attack was preceded by months of negotiations between the U.S. and Japan over the future of the Pacific. Japanese demands included that the U.S. end its sanctions against Japan, cease aiding China in the Second Sino-Japanese war, and allow Japan to access the resources of the Dutch East Indies. Anticipating a negative response from the US, Japan sent out its naval attack groups in November 1941 just prior to receiving the Hull note—the U.S. demand that Japan withdraw from China and French Indochina. Japan intended the attack as a preventive action. Its aim was to prevent the United States Pacific Fleet from interfering with its planned military actions in Southeast Asia against overseas territories of the United Kingdom, the Netherlands, and those of the United States. Over the course of seven hours there were coordinated Japanese attacks on the U.S.-held Philippines, Guam, and Wake Island and on the British Empire in Malaya, Singapore, and Hong Kong.The attack commenced at 7:48 a.m. Hawaiian Time (6:18 p.m. GMT). The base was attacked by 353 Imperial Japanese aircraft (including fighters, level and dive bombers, and torpedo bombers) in two waves, launched from six aircraft carriers. Of the eight U.S. Navy battleships present, all were damaged, with four sunk. All but USS Arizona were later raised, and six were returned to service and went on to fight in the war. The Japanese also sank or damaged three cruisers, three destroyers, an anti-aircraft training ship, and one minelayer. More than 180 US aircraft were destroyed. A total of 2,403 Americans were killed and 1,178 others were wounded, making it the deadliest event ever recorded in Hawaii. Important base installations such as the power station, dry dock, shipyard, maintenance, and fuel and torpedo storage facilities, as well as the submarine piers and headquarters building (also home of the intelligence section) were not attacked. Japanese losses were light: 29 aircraft and five midget submarines lost, and 64 servicemen killed. Kazuo Sakamaki, the commanding officer of one of the submarines, was captured.Japan announced declarations of war on the United States and the British Empire later that day (December 8 in Tokyo), but the declarations were not delivered until the following day. The British government declared war on Japan immediately after learning that their territory had also been attacked, while the following day (December 8) the United States Congress declared war on Japan. On December 11, though they had no formal obligation to do so under the Tripartite Pact with Japan, Germany and Italy each declared war on the U.S., which responded with a declaration of war against Germany and Italy. There were numerous historical precedents for the unannounced military action by Japan, but the lack of any formal warning (required by part III of the Hague Convention of 1907), particularly while negotiations were still apparently ongoing, led President Franklin D. Roosevelt to proclaim December 7, 1941, \"a date which will live in infamy\".\n",
      "\n",
      "Page: Consequences of the attack on Pearl Harbor\n",
      "Summary: Japan's attack on Pearl Harbor took place on December 7, 1941. The United States military suffered 18 ships damaged or sunk, and 2,400 people were killed. Its most significant consequence was the entrance of the United States into World War II. The US had previously been officially neutral but subsequently entered the \u001b[0m\n",
      "Thought:\u001b[32;1m\u001b[1;3mI have found the answer to the question. The attack on Pearl Harbor happened just before 8:00 a.m. (local time) on Sunday, December 7, 1941.\n",
      "Final Answer: The attack on Pearl Harbor happened just before 8:00 a.m. on Sunday, December 7, 1941.\u001b[0m\n",
      "\n",
      "\u001b[1m> Finished chain.\u001b[0m\n"
     ]
    },
    {
     "data": {
      "text/plain": [
       "'The attack on Pearl Harbor happened just before 8:00 a.m. on Sunday, December 7, 1941.'"
      ]
     },
     "execution_count": 30,
     "metadata": {},
     "output_type": "execute_result"
    }
   ],
   "source": [
    "agent.run(\"What time did Pearl Harbor attack happen?\")"
   ]
  },
  {
   "cell_type": "markdown",
   "id": "662d2339-f4e7-4aa9-8926-d53fde230ad0",
   "metadata": {},
   "source": [
    "# Conversation Agents"
   ]
  },
  {
   "cell_type": "code",
   "execution_count": 31,
   "id": "0621e5c1-9731-4064-aada-cd2a24c96809",
   "metadata": {},
   "outputs": [],
   "source": [
    "from langchain.memory import ConversationBufferMemory"
   ]
  },
  {
   "cell_type": "code",
   "execution_count": 52,
   "id": "0fcbd440-b671-46be-890a-088cbff2679b",
   "metadata": {},
   "outputs": [],
   "source": [
    "memory = ConversationBufferMemory(memory_key=\"chat_history\")"
   ]
  },
  {
   "cell_type": "code",
   "execution_count": 57,
   "id": "48cba8d3-b0e7-47eb-8cfd-e2122ce64834",
   "metadata": {},
   "outputs": [],
   "source": [
    "llm = ChatOpenAI(temperature=0)"
   ]
  },
  {
   "cell_type": "code",
   "execution_count": 58,
   "id": "e900d6f4-5023-4a8d-8b6e-13771dc42524",
   "metadata": {},
   "outputs": [],
   "source": [
    "tools = load_tools([\"llm-math\"], llm=llm)"
   ]
  },
  {
   "cell_type": "code",
   "execution_count": 59,
   "id": "ee161928-3934-4f6c-8fd2-0b935c218701",
   "metadata": {},
   "outputs": [],
   "source": [
    "agent = initialize_agent(\n",
    "    tools=tools,\n",
    "    llm=llm,\n",
    "    agent=AgentType.CONVERSATIONAL_REACT_DESCRIPTION,\n",
    "    memory=memory,\n",
    "    verbose=True\n",
    ")"
   ]
  },
  {
   "cell_type": "code",
   "execution_count": 60,
   "id": "bbd44c6f-8d78-4866-ac7f-9527f0831b6a",
   "metadata": {},
   "outputs": [
    {
     "name": "stdout",
     "output_type": "stream",
     "text": [
      "\n",
      "\n",
      "\u001b[1m> Entering new AgentExecutor chain...\u001b[0m\n",
      "\u001b[32;1m\u001b[1;3mThought: Do I need to use a tool? No\n",
      "AI: Thai cuisine is known for its bold flavors and aromatic ingredients. Here are a few popular Thai food recipes that you might enjoy:\n",
      "\n",
      "1. Pad Thai: This stir-fried noodle dish is a classic Thai favorite. It typically includes rice noodles, shrimp or chicken, eggs, tofu, bean sprouts, and a tangy sauce made from tamarind paste, fish sauce, and lime juice.\n",
      "\n",
      "2. Green Curry: This spicy curry is made with a paste of green chilies, garlic, lemongrass, and other herbs and spices. It is typically cooked with coconut milk, vegetables, and your choice of meat or tofu.\n",
      "\n",
      "3. Tom Yum Soup: This hot and sour soup is a popular Thai appetizer. It is made with a flavorful broth, shrimp or chicken, mushrooms, lemongrass, lime juice, and chili peppers.\n",
      "\n",
      "4. Massaman Curry: This rich and flavorful curry is made with a paste of roasted spices, including cinnamon, cardamom, and cloves. It is typically cooked with coconut milk, potatoes, onions, and your choice of meat or tofu.\n",
      "\n",
      "5. Mango Sticky Rice: This delicious dessert is made with sweet sticky rice, fresh mango slices, and a coconut milk sauce. It's a perfect way to end a Thai meal.\n",
      "\n",
      "These are just a few examples, but there are many more delicious Thai dishes to explore. I hope you enjoy trying out these recipes! Let me know if you need any more information or if there's anything else I can assist you with.\u001b[0m\n",
      "\n",
      "\u001b[1m> Finished chain.\u001b[0m\n"
     ]
    },
    {
     "data": {
      "text/plain": [
       "\"Thai cuisine is known for its bold flavors and aromatic ingredients. Here are a few popular Thai food recipes that you might enjoy:\\n\\n1. Pad Thai: This stir-fried noodle dish is a classic Thai favorite. It typically includes rice noodles, shrimp or chicken, eggs, tofu, bean sprouts, and a tangy sauce made from tamarind paste, fish sauce, and lime juice.\\n\\n2. Green Curry: This spicy curry is made with a paste of green chilies, garlic, lemongrass, and other herbs and spices. It is typically cooked with coconut milk, vegetables, and your choice of meat or tofu.\\n\\n3. Tom Yum Soup: This hot and sour soup is a popular Thai appetizer. It is made with a flavorful broth, shrimp or chicken, mushrooms, lemongrass, lime juice, and chili peppers.\\n\\n4. Massaman Curry: This rich and flavorful curry is made with a paste of roasted spices, including cinnamon, cardamom, and cloves. It is typically cooked with coconut milk, potatoes, onions, and your choice of meat or tofu.\\n\\n5. Mango Sticky Rice: This delicious dessert is made with sweet sticky rice, fresh mango slices, and a coconut milk sauce. It's a perfect way to end a Thai meal.\\n\\nThese are just a few examples, but there are many more delicious Thai dishes to explore. I hope you enjoy trying out these recipes! Let me know if you need any more information or if there's anything else I can assist you with.\""
      ]
     },
     "execution_count": 60,
     "metadata": {},
     "output_type": "execute_result"
    }
   ],
   "source": [
    "agent.run(input=\"What are some good Thai food recipes?\")"
   ]
  },
  {
   "cell_type": "code",
   "execution_count": 61,
   "id": "c88b74ab-7096-4fdf-b3b9-9677545ed2d6",
   "metadata": {},
   "outputs": [
    {
     "name": "stdout",
     "output_type": "stream",
     "text": [
      "\n",
      "\n",
      "\u001b[1m> Entering new AgentExecutor chain...\u001b[0m\n",
      "\u001b[32;1m\u001b[1;3mThought: Do I need to use a tool? No\n",
      "AI: Among the dishes mentioned, the Green Curry is typically the spiciest. It is made with a paste of green chilies, which gives it its vibrant color and fiery heat. However, the level of spiciness can vary depending on personal preference and the amount of chili used in the recipe. If you prefer milder flavors, you can always adjust the amount of chili or use a milder variety of chili.\u001b[0m\n",
      "\n",
      "\u001b[1m> Finished chain.\u001b[0m\n"
     ]
    },
    {
     "data": {
      "text/plain": [
       "'Among the dishes mentioned, the Green Curry is typically the spiciest. It is made with a paste of green chilies, which gives it its vibrant color and fiery heat. However, the level of spiciness can vary depending on personal preference and the amount of chili used in the recipe. If you prefer milder flavors, you can always adjust the amount of chili or use a milder variety of chili.'"
      ]
     },
     "execution_count": 61,
     "metadata": {},
     "output_type": "execute_result"
    }
   ],
   "source": [
    "agent.run(input=\"Which one of those dishes tends to be the spiceiest?\")"
   ]
  },
  {
   "cell_type": "code",
   "execution_count": 62,
   "id": "da2e9542-c0c5-427a-babf-cdc2bfab06b6",
   "metadata": {},
   "outputs": [
    {
     "name": "stdout",
     "output_type": "stream",
     "text": [
      "\n",
      "\n",
      "\u001b[1m> Entering new AgentExecutor chain...\u001b[0m\n",
      "\u001b[32;1m\u001b[1;3mThought: Do I need to use a tool? No\n",
      "AI: Sure! Here's a grocery shopping list for Green Curry:\n",
      "\n",
      "- Green curry paste\n",
      "- Coconut milk\n",
      "- Chicken, beef, shrimp, or tofu (depending on your preference)\n",
      "- Vegetables (such as bell peppers, eggplant, and bamboo shoots)\n",
      "- Thai basil leaves\n",
      "- Fish sauce\n",
      "- Palm sugar or brown sugar\n",
      "- Kaffir lime leaves (optional)\n",
      "- Thai bird's eye chilies (optional, for extra spiciness)\n",
      "- Jasmine rice (to serve with the curry)\n",
      "\n",
      "These are the basic ingredients you'll need to make a delicious Green Curry. Of course, you can customize the recipe by adding or omitting ingredients based on your taste preferences. Enjoy cooking! Let me know if there's anything else I can assist you with.\u001b[0m\n",
      "\n",
      "\u001b[1m> Finished chain.\u001b[0m\n"
     ]
    },
    {
     "data": {
      "text/plain": [
       "\"Sure! Here's a grocery shopping list for Green Curry:\\n\\n- Green curry paste\\n- Coconut milk\\n- Chicken, beef, shrimp, or tofu (depending on your preference)\\n- Vegetables (such as bell peppers, eggplant, and bamboo shoots)\\n- Thai basil leaves\\n- Fish sauce\\n- Palm sugar or brown sugar\\n- Kaffir lime leaves (optional)\\n- Thai bird's eye chilies (optional, for extra spiciness)\\n- Jasmine rice (to serve with the curry)\\n\\nThese are the basic ingredients you'll need to make a delicious Green Curry. Of course, you can customize the recipe by adding or omitting ingredients based on your taste preferences. Enjoy cooking! Let me know if there's anything else I can assist you with.\""
      ]
     },
     "execution_count": 62,
     "metadata": {},
     "output_type": "execute_result"
    }
   ],
   "source": [
    "agent.run(input=\"Give me a grocery shopping list for that dish.\")"
   ]
  },
  {
   "cell_type": "code",
   "execution_count": null,
   "id": "50aa94b1-c357-43e3-9993-1e65f7f43aae",
   "metadata": {},
   "outputs": [],
   "source": []
  }
 ],
 "metadata": {
  "kernelspec": {
   "display_name": "Python 3 (ipykernel)",
   "language": "python",
   "name": "python3"
  },
  "language_info": {
   "codemirror_mode": {
    "name": "ipython",
    "version": 3
   },
   "file_extension": ".py",
   "mimetype": "text/x-python",
   "name": "python",
   "nbconvert_exporter": "python",
   "pygments_lexer": "ipython3",
   "version": "3.11.1"
  }
 },
 "nbformat": 4,
 "nbformat_minor": 5
}
