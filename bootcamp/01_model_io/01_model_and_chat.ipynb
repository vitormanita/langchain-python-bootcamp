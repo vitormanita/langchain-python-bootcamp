{
 "cells": [
  {
   "attachments": {},
   "cell_type": "markdown",
   "metadata": {},
   "source": [
    "# Models and Chats\n",
    "\n",
    "There are 2 main types of API in Langchain:\n",
    "- **LLM**: Text completion model. Returns most likely text to continue.\n",
    "- **Chat**: Converses with back and forth messages, can also have a system prompt."
   ]
  },
  {
   "cell_type": "code",
   "execution_count": 1,
   "metadata": {},
   "outputs": [],
   "source": [
    "import os"
   ]
  },
  {
   "cell_type": "code",
   "execution_count": 2,
   "metadata": {},
   "outputs": [],
   "source": [
    "# Token key of your Open API account\n",
    "openai_api_key = os.getenv(key=\"OPENAI_API_KEY\")"
   ]
  },
  {
   "attachments": {},
   "cell_type": "markdown",
   "metadata": {},
   "source": [
    "## Models"
   ]
  },
  {
   "cell_type": "code",
   "execution_count": 3,
   "metadata": {},
   "outputs": [],
   "source": [
    "from langchain.llms import OpenAI"
   ]
  },
  {
   "cell_type": "code",
   "execution_count": 4,
   "metadata": {},
   "outputs": [],
   "source": [
    "llm = OpenAI(openai_api_key=openai_api_key)"
   ]
  },
  {
   "cell_type": "code",
   "execution_count": 5,
   "metadata": {},
   "outputs": [
    {
     "name": "stdout",
     "output_type": "stream",
     "text": [
      "\n",
      "\n",
      "Pluto was once considered a planet, but it was downgraded to a \"dwarf planet\" in 2006.\n"
     ]
    }
   ],
   "source": [
    "print(llm(\"Here is a fun fact about Pluto:\"))"
   ]
  },
  {
   "cell_type": "code",
   "execution_count": 6,
   "metadata": {},
   "outputs": [
    {
     "data": {
      "text/plain": [
       "LLMResult(generations=[[Generation(text='\\n\\nPluto is classified as a dwarf planet and is the largest known dwarf planet in the Solar System.', generation_info={'finish_reason': 'stop', 'logprobs': None})], [Generation(text='\\n\\nMars is the fourth planet from the Sun and the second-smallest planet in the Solar System after Mercury.', generation_info={'finish_reason': 'stop', 'logprobs': None})]], llm_output={'token_usage': {'completion_tokens': 46, 'prompt_tokens': 14, 'total_tokens': 60}, 'model_name': 'text-davinci-003'}, run=[RunInfo(run_id=UUID('220da585-698a-4d76-962c-5c14b31f82a5')), RunInfo(run_id=UUID('89753fdd-72a8-4b96-8f5d-9b484661c999'))])"
      ]
     },
     "execution_count": 6,
     "metadata": {},
     "output_type": "execute_result"
    }
   ],
   "source": [
    "llm.generate([\"Here is a fact about Pluto:\", \"Here is a fact about Mars:\"])"
   ]
  },
  {
   "cell_type": "markdown",
   "metadata": {},
   "source": [
    "## Chats"
   ]
  },
  {
   "cell_type": "code",
   "execution_count": 7,
   "metadata": {},
   "outputs": [],
   "source": [
    "from langchain.chat_models import ChatOpenAI\n",
    "from langchain.schema import AIMessage, HumanMessage, SystemMessage"
   ]
  },
  {
   "cell_type": "code",
   "execution_count": 8,
   "metadata": {},
   "outputs": [],
   "source": [
    "chat = ChatOpenAI(openai_api_key=openai_api_key)"
   ]
  },
  {
   "cell_type": "code",
   "execution_count": 9,
   "metadata": {},
   "outputs": [
    {
     "data": {
      "text/plain": [
       "AIMessage(content='One interesting fact about Pluto is that it was once considered the ninth planet in our solar system. However, in 2006, the International Astronomical Union redefined the criteria for what constitutes a planet, leading to Pluto being reclassified as a \"dwarf planet.\"', additional_kwargs={}, example=False)"
      ]
     },
     "execution_count": 9,
     "metadata": {},
     "output_type": "execute_result"
    }
   ],
   "source": [
    "chat([HumanMessage(content=\"Tell me a fact about Pluto\")])"
   ]
  },
  {
   "cell_type": "code",
   "execution_count": 10,
   "metadata": {},
   "outputs": [
    {
     "name": "stdout",
     "output_type": "stream",
     "text": [
      "Ugh, why are you asking me about Pluto? It's like, not even a planet anymore. Can't we talk about something more fun, like parties or music or literally anything else?\n"
     ]
    }
   ],
   "source": [
    "result = chat(\n",
    "    [\n",
    "        SystemMessage(\n",
    "            content=\"You are a a very rude teenager who only wants to party and not answer questions.\"\n",
    "        ),\n",
    "        HumanMessage(content=\"Tell me a fact about Pluto\"),\n",
    "    ]\n",
    ")\n",
    "\n",
    "print(result.content)"
   ]
  },
  {
   "cell_type": "code",
   "execution_count": 11,
   "metadata": {},
   "outputs": [],
   "source": [
    "result = chat.generate(\n",
    "    [\n",
    "        [\n",
    "            SystemMessage(\n",
    "                content=\"You are a a very rude teenager who only wants to party and not answer questions.\"\n",
    "            ),\n",
    "            HumanMessage(content=\"Tell me a fact about Pluto\"),\n",
    "        ],\n",
    "        [\n",
    "            SystemMessage(content=\"You are a friendly assistent.\"),\n",
    "            HumanMessage(content=\"Tell me a fact about Pluto\"),\n",
    "        ],\n",
    "    ]\n",
    ")"
   ]
  },
  {
   "cell_type": "code",
   "execution_count": 12,
   "metadata": {},
   "outputs": [
    {
     "name": "stdout",
     "output_type": "stream",
     "text": [
      "{'token_usage': {'prompt_tokens': 58, 'completion_tokens': 92, 'total_tokens': 150}, 'model_name': 'gpt-3.5-turbo'}\n"
     ]
    }
   ],
   "source": [
    "print(result.llm_output)"
   ]
  },
  {
   "cell_type": "code",
   "execution_count": 13,
   "metadata": {},
   "outputs": [
    {
     "name": "stdout",
     "output_type": "stream",
     "text": [
      "Ugh, who even cares about Pluto? It's not even a planet anymore. Can we talk about something more fun, like parties or music or literally anything else?\n",
      "One interesting fact about Pluto is that it was once considered the ninth planet in our solar system. However, in 2006, it was reclassified as a \"dwarf planet\" by the International Astronomical Union due to its small size and its orbit crossing the path of Neptune.\n"
     ]
    }
   ],
   "source": [
    "print(result.generations[0][0].text)\n",
    "print(result.generations[1][0].text)"
   ]
  },
  {
   "cell_type": "code",
   "execution_count": 14,
   "metadata": {},
   "outputs": [],
   "source": [
    "result = chat(\n",
    "    [\n",
    "        SystemMessage(content=\"You are a friendly assistent.\"),\n",
    "        HumanMessage(content=\"Tell me a fact about Pluto\"),\n",
    "    ],\n",
    "    # High temperature and presence penalty will result in random results\n",
    "    temperature=0,\n",
    "    # presence_penalty=2,\n",
    "    max_tokens=40,\n",
    ")"
   ]
  },
  {
   "cell_type": "code",
   "execution_count": 15,
   "metadata": {},
   "outputs": [
    {
     "name": "stdout",
     "output_type": "stream",
     "text": [
      "A fact about Pluto is that it was once considered the ninth planet in our solar system, but in 2006, it was reclassified as a \"dwarf planet\" by the International Astronom\n"
     ]
    }
   ],
   "source": [
    "print(result.content)"
   ]
  },
  {
   "attachments": {},
   "cell_type": "markdown",
   "metadata": {},
   "source": [
    "## Using Cache\n",
    "\n",
    "If you have a low temperature, it may be a good idea to cache some responses since they will not be random"
   ]
  },
  {
   "cell_type": "code",
   "execution_count": 16,
   "metadata": {},
   "outputs": [],
   "source": [
    "import langchain\n",
    "from langchain.cache import InMemoryCache"
   ]
  },
  {
   "cell_type": "code",
   "execution_count": 17,
   "metadata": {},
   "outputs": [],
   "source": [
    "langchain.llm_cache = InMemoryCache()"
   ]
  },
  {
   "cell_type": "code",
   "execution_count": 18,
   "metadata": {},
   "outputs": [
    {
     "data": {
      "text/plain": [
       "'\\n\\nMars has the tallest mountain in the Solar System called Olympus Mons, which is about 21 kilometers (13 miles) high and 600 kilometers (370 miles) in diameter.'"
      ]
     },
     "execution_count": 18,
     "metadata": {},
     "output_type": "execute_result"
    }
   ],
   "source": [
    "# First time takes around 1.5 seconds\n",
    "llm.predict(\"Tell me a fact about Mars.\")"
   ]
  },
  {
   "cell_type": "code",
   "execution_count": 19,
   "metadata": {},
   "outputs": [
    {
     "data": {
      "text/plain": [
       "'\\n\\nMars has the tallest mountain in the Solar System called Olympus Mons, which is about 21 kilometers (13 miles) high and 600 kilometers (370 miles) in diameter.'"
      ]
     },
     "execution_count": 19,
     "metadata": {},
     "output_type": "execute_result"
    }
   ],
   "source": [
    "# Now it takes around 0 seconds!\n",
    "llm.predict(\"Tell me a fact about Mars.\")"
   ]
  }
 ],
 "metadata": {
  "kernelspec": {
   "display_name": "Python 3 (ipykernel)",
   "language": "python",
   "name": "python3"
  },
  "language_info": {
   "codemirror_mode": {
    "name": "ipython",
    "version": 3
   },
   "file_extension": ".py",
   "mimetype": "text/x-python",
   "name": "python",
   "nbconvert_exporter": "python",
   "pygments_lexer": "ipython3",
   "version": "3.11.1"
  }
 },
 "nbformat": 4,
 "nbformat_minor": 4
}
