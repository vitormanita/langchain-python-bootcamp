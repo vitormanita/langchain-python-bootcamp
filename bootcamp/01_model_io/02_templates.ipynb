{
 "cells": [
  {
   "cell_type": "markdown",
   "id": "381fd3a6-d3a4-4dd5-9033-8e6daf0e842e",
   "metadata": {},
   "source": [
    "# Templates"
   ]
  },
  {
   "cell_type": "code",
   "execution_count": 27,
   "id": "d50ac815-1126-41f8-a40e-4e89b7adb8f3",
   "metadata": {},
   "outputs": [],
   "source": [
    "import os\n",
    "from langchain.llms import OpenAI\n",
    "from langchain.chat_models import ChatOpenAI"
   ]
  },
  {
   "cell_type": "code",
   "execution_count": 28,
   "id": "dbe275f7-e9ef-4745-a8ec-251797e37dad",
   "metadata": {},
   "outputs": [],
   "source": [
    "openai_api_key = os.getenv(\"OPENAI_API_KEY\")"
   ]
  },
  {
   "cell_type": "code",
   "execution_count": 29,
   "id": "3775d25f-eaef-4828-88f5-e06b4d392f7b",
   "metadata": {},
   "outputs": [],
   "source": [
    "llm = OpenAI(openai_api_key=openai_api_key)\n",
    "chat = ChatOpenAI(openai_api_key=openai_api_key)"
   ]
  },
  {
   "cell_type": "markdown",
   "id": "2e663a22-5dc9-41da-9642-a54c5e15a329",
   "metadata": {},
   "source": [
    "## Template for LLM"
   ]
  },
  {
   "cell_type": "code",
   "execution_count": 30,
   "id": "0c492bae-44a4-4274-854b-1a0c1f98eb1c",
   "metadata": {},
   "outputs": [
    {
     "data": {
      "text/plain": [
       "'\\n\\nVenus is the second planet from the Sun and is the second brightest object in the night sky after the Moon. It is the hottest planet in the Solar System, with an average surface temperature of 864°F (462°C).'"
      ]
     },
     "execution_count": 30,
     "metadata": {},
     "output_type": "execute_result"
    }
   ],
   "source": [
    "planet = \"Venus\"\n",
    "\n",
    "llm(f\"Here is a fact about {planet}:\")"
   ]
  },
  {
   "cell_type": "markdown",
   "id": "3ff81fc9-bbf8-47a8-858f-7472c9bd4bf8",
   "metadata": {},
   "source": [
    "It works, but it does not scale very well when dealing with chains. We can use prompt templates to solve this."
   ]
  },
  {
   "cell_type": "code",
   "execution_count": 31,
   "id": "d9246316-f87d-4522-bfa5-eb357318a719",
   "metadata": {},
   "outputs": [],
   "source": [
    "from langchain import PromptTemplate"
   ]
  },
  {
   "cell_type": "code",
   "execution_count": 32,
   "id": "16328da6-e14b-47fe-8c43-398e2d932caa",
   "metadata": {},
   "outputs": [],
   "source": [
    "no_input_prompt = PromptTemplate(input_variables=[], template=\"Tell me a fact.\")"
   ]
  },
  {
   "cell_type": "code",
   "execution_count": 33,
   "id": "25eb8659-1d0b-4320-bafc-45de2f87adf1",
   "metadata": {},
   "outputs": [
    {
     "data": {
      "text/plain": [
       "'Tell me a fact.'"
      ]
     },
     "execution_count": 33,
     "metadata": {},
     "output_type": "execute_result"
    }
   ],
   "source": [
    "no_input_prompt.format()"
   ]
  },
  {
   "cell_type": "code",
   "execution_count": 34,
   "id": "f7cd134a-ae9f-4ecf-b44e-1eba4039ff91",
   "metadata": {},
   "outputs": [
    {
     "data": {
      "text/plain": [
       "'\\n\\nThe average person spends 6 months of their lifetime waiting on a red light to change.'"
      ]
     },
     "execution_count": 34,
     "metadata": {},
     "output_type": "execute_result"
    }
   ],
   "source": [
    "llm(no_input_prompt.format())"
   ]
  },
  {
   "cell_type": "code",
   "execution_count": 35,
   "id": "c61537a5-7184-4472-a7e3-706b64f6ddeb",
   "metadata": {},
   "outputs": [],
   "source": [
    "single_input_prompt = PromptTemplate(\n",
    "    input_variables=[\"topic\"], template=\"Tell me a fact about {topic}.\"\n",
    ")"
   ]
  },
  {
   "cell_type": "code",
   "execution_count": 36,
   "id": "5f1998b5-1ee4-4765-9734-bb7910ded144",
   "metadata": {},
   "outputs": [
    {
     "data": {
      "text/plain": [
       "\"\\n\\nThe ocean covers about 70% of the Earth's surface, and contains 97% of the Earth's water.\""
      ]
     },
     "execution_count": 36,
     "metadata": {},
     "output_type": "execute_result"
    }
   ],
   "source": [
    "llm(single_input_prompt.format(topic=\"Ocean\"))"
   ]
  },
  {
   "cell_type": "code",
   "execution_count": 37,
   "id": "44723f71-cae3-41ac-832e-0bda788811f3",
   "metadata": {},
   "outputs": [],
   "source": [
    "multi_input_prompt = PromptTemplate(\n",
    "    input_variables=[\"topic\", \"level\"],\n",
    "    template=\"Tell me a fact about {topic} for a {level} student.\",\n",
    ")"
   ]
  },
  {
   "cell_type": "code",
   "execution_count": 38,
   "id": "15b6a89c-69ae-4feb-8a0c-5dae1066cac1",
   "metadata": {},
   "outputs": [
    {
     "data": {
      "text/plain": [
       "\"\\n\\nThe ocean covers more than 70% of the Earth's surface and contains 97% of the Earth's water.\""
      ]
     },
     "execution_count": 38,
     "metadata": {},
     "output_type": "execute_result"
    }
   ],
   "source": [
    "llm(multi_input_prompt.format(topic=\"the Ocean\", level=\"3rd grade\"))"
   ]
  },
  {
   "cell_type": "code",
   "execution_count": 39,
   "id": "48d24a12-c6eb-42e4-97a9-9a035dfff24e",
   "metadata": {},
   "outputs": [
    {
     "data": {
      "text/plain": [
       "'\\n\\nThe ocean is a dynamic and complex system, with a variety of physical and chemical processes occurring at multiple scales. The ocean plays an important role in global climate regulation, influencing the global climate system through heat storage, the exchange of energy between the atmosphere and the ocean, and the transport of moisture from the tropics to the poles. It also plays a major role in the global carbon cycle, acting as a sink for atmospheric carbon dioxide and playing a role in the sequestration and storage of carbon.'"
      ]
     },
     "execution_count": 39,
     "metadata": {},
     "output_type": "execute_result"
    }
   ],
   "source": [
    "llm(multi_input_prompt.format(topic=\"the Ocean\", level=\"PhD level\"))"
   ]
  },
  {
   "cell_type": "markdown",
   "id": "857c8e04-edc7-4f8b-b499-d9c1952577b4",
   "metadata": {},
   "source": [
    "## Template for Chat"
   ]
  },
  {
   "cell_type": "code",
   "execution_count": 40,
   "id": "11bf45a8-673b-485b-ac82-2b3e7dc220ce",
   "metadata": {},
   "outputs": [],
   "source": [
    "from langchain.prompts import (\n",
    "    ChatPromptTemplate,\n",
    "    SystemMessagePromptTemplate,\n",
    "    AIMessagePromptTemplate,\n",
    "    HumanMessagePromptTemplate,\n",
    ")"
   ]
  },
  {
   "cell_type": "code",
   "execution_count": 41,
   "id": "fed6c213-969f-42fc-9464-c3e6ab159c9e",
   "metadata": {},
   "outputs": [],
   "source": [
    "system_template = \"You are an AI recipe assistant that specializes in {dietary_preference} dishes that can be prepared in {cooking_time}.\"\n",
    "human_template = \"{recipe_request}\"\n",
    "\n",
    "system_message_prompt = SystemMessagePromptTemplate.from_template(\n",
    "    template=system_template\n",
    ")\n",
    "human_message_prompt = HumanMessagePromptTemplate.from_template(template=human_template)"
   ]
  },
  {
   "cell_type": "code",
   "execution_count": 42,
   "id": "b74616fa-1b8d-4e60-b129-5ce407a8f542",
   "metadata": {},
   "outputs": [
    {
     "name": "stdout",
     "output_type": "stream",
     "text": [
      "['cooking_time', 'dietary_preference']\n",
      "['recipe_request']\n"
     ]
    }
   ],
   "source": [
    "print(system_message_prompt.input_variables)\n",
    "print(human_message_prompt.input_variables)"
   ]
  },
  {
   "cell_type": "code",
   "execution_count": 43,
   "id": "c0adce07-4d1a-4f7b-83d1-61e6f169e3db",
   "metadata": {},
   "outputs": [],
   "source": [
    "# Pack everything in a single chat prompt\n",
    "chat_prompt = ChatPromptTemplate.from_messages(\n",
    "    [system_message_prompt, human_message_prompt]\n",
    ")"
   ]
  },
  {
   "cell_type": "code",
   "execution_count": 44,
   "id": "69c1df3c-16dd-4bc0-b89b-e9a8541a63e3",
   "metadata": {},
   "outputs": [
    {
     "data": {
      "text/plain": [
       "['cooking_time', 'dietary_preference', 'recipe_request']"
      ]
     },
     "execution_count": 44,
     "metadata": {},
     "output_type": "execute_result"
    }
   ],
   "source": [
    "chat_prompt.input_variables"
   ]
  },
  {
   "cell_type": "code",
   "execution_count": 45,
   "id": "fa5ec915-2fc3-4d11-8a0d-c54ddd48ab7d",
   "metadata": {},
   "outputs": [],
   "source": [
    "prompt = chat_prompt.format_prompt(\n",
    "    cooking_time=\"60 min\", dietary_preference=\"Vegan\", recipe_request=\"Quick Snack\"\n",
    ").to_messages()"
   ]
  },
  {
   "cell_type": "code",
   "execution_count": 47,
   "id": "0a6fdc9b-d32a-4439-be41-9343bdaac8c6",
   "metadata": {},
   "outputs": [],
   "source": [
    "result = chat(prompt)"
   ]
  },
  {
   "cell_type": "code",
   "execution_count": 48,
   "id": "e89abb57-246a-43bf-a89d-7535e42f04c6",
   "metadata": {},
   "outputs": [
    {
     "name": "stdout",
     "output_type": "stream",
     "text": [
      "One quick and delicious vegan snack you can make in under 60 minutes is roasted chickpeas. Here's a simple recipe:\n",
      "\n",
      "Ingredients:\n",
      "- 1 can of chickpeas, drained and rinsed\n",
      "- 1 tablespoon olive oil\n",
      "- 1 teaspoon paprika\n",
      "- 1/2 teaspoon garlic powder\n",
      "- 1/2 teaspoon onion powder\n",
      "- 1/2 teaspoon cumin\n",
      "- Salt and pepper, to taste\n",
      "\n",
      "Instructions:\n",
      "1. Preheat your oven to 400°F (200°C) and line a baking sheet with parchment paper.\n",
      "2. In a bowl, combine the chickpeas, olive oil, paprika, garlic powder, onion powder, cumin, salt, and pepper. Mix well to ensure all the chickpeas are coated.\n",
      "3. Spread the seasoned chickpeas in a single layer on the prepared baking sheet.\n",
      "4. Bake in the preheated oven for about 30-40 minutes, or until the chickpeas are crispy and golden brown. Make sure to stir them every 10-15 minutes to ensure even cooking.\n",
      "5. Once done, remove from the oven and let them cool for a few minutes before enjoying.\n",
      "\n",
      "Roasted chickpeas make a crunchy and protein-packed snack that you can enjoy on their own or add to salads, trail mixes, or even as a topping for soups. Feel free to experiment with different spices and seasonings to customize the flavor to your liking.\n"
     ]
    }
   ],
   "source": [
    "print(result.content)"
   ]
  },
  {
   "cell_type": "code",
   "execution_count": null,
   "id": "d8d09f84-2694-4927-a6bf-6726517e7ba7",
   "metadata": {},
   "outputs": [],
   "source": []
  }
 ],
 "metadata": {
  "kernelspec": {
   "display_name": "Python 3 (ipykernel)",
   "language": "python",
   "name": "python3"
  },
  "language_info": {
   "codemirror_mode": {
    "name": "ipython",
    "version": 3
   },
   "file_extension": ".py",
   "mimetype": "text/x-python",
   "name": "python",
   "nbconvert_exporter": "python",
   "pygments_lexer": "ipython3",
   "version": "3.11.1"
  }
 },
 "nbformat": 4,
 "nbformat_minor": 5
}
