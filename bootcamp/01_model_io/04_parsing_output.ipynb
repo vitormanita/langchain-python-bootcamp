{
 "cells": [
  {
   "cell_type": "markdown",
   "id": "bd6d46b5-d19a-4545-9189-bcae64448b4e",
   "metadata": {},
   "source": [
    "# Parsing Output\n",
    "\n",
    "Two Key elements:\n",
    "- `format_instructions`: An extra string that LangChain adds to the end of a prompt to assist formatting\n",
    "- `parse()` method: A method for using eval() to internally to parse the string to the Python object."
   ]
  },
  {
   "cell_type": "code",
   "execution_count": 1,
   "id": "b1962f58-477f-4cb0-a49e-4db3651e4fe6",
   "metadata": {},
   "outputs": [],
   "source": [
    "import os\n",
    "from langchain.chat_models import ChatOpenAI\n",
    "from langchain.prompts.chat import (\n",
    "    ChatPromptTemplate,\n",
    "    SystemMessagePromptTemplate,\n",
    "    HumanMessagePromptTemplate,\n",
    "    AIMessagePromptTemplate,\n",
    ")"
   ]
  },
  {
   "cell_type": "code",
   "execution_count": 2,
   "id": "685cd4d9-9e65-4cdb-b0da-3a38316f060b",
   "metadata": {},
   "outputs": [],
   "source": [
    "model = ChatOpenAI(openai_api_key=os.getenv(\"openai_api_key\"))"
   ]
  },
  {
   "cell_type": "markdown",
   "id": "172f414e-df3c-4804-b52d-cd8c4d4f0f6c",
   "metadata": {},
   "source": [
    "## Steps"
   ]
  },
  {
   "cell_type": "markdown",
   "id": "19b80bc9-9a0c-402e-af64-9f8cfc0d6a86",
   "metadata": {},
   "source": [
    "### Step 1: Import Parser"
   ]
  },
  {
   "cell_type": "code",
   "execution_count": 3,
   "id": "5773b72c-3c65-4cb9-9ca1-c18832c0ea0d",
   "metadata": {},
   "outputs": [],
   "source": [
    "from langchain.output_parsers import CommaSeparatedListOutputParser\n",
    "\n",
    "output_parser = CommaSeparatedListOutputParser()"
   ]
  },
  {
   "cell_type": "markdown",
   "id": "f4f8b240-3732-4726-be27-093e76fddc15",
   "metadata": {},
   "source": [
    "### Step 2: Format Instructions\n",
    "This is a set of instructions that will give this info to the Model\n"
   ]
  },
  {
   "cell_type": "code",
   "execution_count": 4,
   "id": "a04ffc40-ee0c-45d3-b1ef-d01218be4947",
   "metadata": {},
   "outputs": [
    {
     "data": {
      "text/plain": [
       "'Your response should be a list of comma separated values, eg: `foo, bar, baz`'"
      ]
     },
     "execution_count": 4,
     "metadata": {},
     "output_type": "execute_result"
    }
   ],
   "source": [
    "output_parser.get_format_instructions()"
   ]
  },
  {
   "cell_type": "markdown",
   "id": "36e06cea-bce2-435b-a1c1-9a18fcb00ec5",
   "metadata": {},
   "source": [
    "### Step 3: Parse"
   ]
  },
  {
   "cell_type": "code",
   "execution_count": 5,
   "id": "b3108535-d2c9-43e3-97a5-44270f76cb59",
   "metadata": {},
   "outputs": [
    {
     "name": "stdout",
     "output_type": "stream",
     "text": [
      "['red', 'blue', 'green']\n"
     ]
    }
   ],
   "source": [
    "reply = \"red, blue, green\"  # simulate reply\n",
    "print(output_parser.parse(reply))"
   ]
  },
  {
   "cell_type": "markdown",
   "id": "8a3391a5-be2a-4658-8113-8f85bd6155ce",
   "metadata": {},
   "source": [
    "## Wrap it up"
   ]
  },
  {
   "cell_type": "code",
   "execution_count": 6,
   "id": "daa8c383-7ca5-4f2d-8c4a-74b58971b5bd",
   "metadata": {},
   "outputs": [],
   "source": [
    "# good practice to place format instructions in new line\n",
    "human_template = \"{request}\\n{format_instructions}\"\n",
    "human_prompt = HumanMessagePromptTemplate.from_template(human_template)"
   ]
  },
  {
   "cell_type": "code",
   "execution_count": 7,
   "id": "e64f09dd-d109-4551-834d-bf169129539d",
   "metadata": {},
   "outputs": [],
   "source": [
    "chat_prompt = ChatPromptTemplate.from_messages([human_prompt])"
   ]
  },
  {
   "cell_type": "code",
   "execution_count": 8,
   "id": "193c0cfe-4698-437d-9cff-3133c2074689",
   "metadata": {},
   "outputs": [],
   "source": [
    "model_request = chat_prompt.format_prompt(\n",
    "    request=\"Give me 5 characteristics of dogs\",\n",
    "    format_instructions=output_parser.get_format_instructions(),\n",
    ").to_messages()"
   ]
  },
  {
   "cell_type": "code",
   "execution_count": 9,
   "id": "5907911b-de94-46f1-9b5d-04f0121909a6",
   "metadata": {},
   "outputs": [],
   "source": [
    "result = model(model_request)"
   ]
  },
  {
   "cell_type": "code",
   "execution_count": 11,
   "id": "ad5878c8-ccdb-4783-9233-5ff36986a830",
   "metadata": {},
   "outputs": [
    {
     "name": "stdout",
     "output_type": "stream",
     "text": [
      "Loyal, playful, friendly, protective, and trainable.\n",
      "<class 'str'>\n"
     ]
    }
   ],
   "source": [
    "print(result.content)\n",
    "print(type(result.content))"
   ]
  },
  {
   "cell_type": "code",
   "execution_count": 12,
   "id": "f129706b-b35b-4ec6-9c3f-323f1c89e947",
   "metadata": {},
   "outputs": [
    {
     "name": "stdout",
     "output_type": "stream",
     "text": [
      "['Loyal', 'playful', 'friendly', 'protective', 'and trainable.']\n",
      "<class 'list'>\n"
     ]
    }
   ],
   "source": [
    "parsed_content = output_parser.parse(result.content)\n",
    "print(parsed_content)\n",
    "print(type(parsed_content))"
   ]
  },
  {
   "cell_type": "markdown",
   "id": "914493de-b63d-4a55-a8ab-5b50e864928b",
   "metadata": {},
   "source": [
    "The basics of parsing aren't always enough to have an output in the format we desire. \n",
    "\n",
    "When this happens, we have two fixes:\n",
    "- A **strong System Prompt** with clear instructions\n",
    "- An **OutputFixingParser** that uses a chain, re-send your original reply to an LLM to fix it."
   ]
  },
  {
   "cell_type": "code",
   "execution_count": 13,
   "id": "e2e493eb-dfb5-4a9e-a08f-e6af6b62305d",
   "metadata": {},
   "outputs": [],
   "source": [
    "from langchain.output_parsers import DatetimeOutputParser"
   ]
  },
  {
   "cell_type": "code",
   "execution_count": 14,
   "id": "3130ea23-19d0-4051-a1d8-fe575e6748aa",
   "metadata": {},
   "outputs": [],
   "source": [
    "output_parser = DatetimeOutputParser()"
   ]
  },
  {
   "cell_type": "code",
   "execution_count": 15,
   "id": "0c67fc96-a8c7-4e23-bd25-133b5c95be09",
   "metadata": {},
   "outputs": [],
   "source": [
    "format_instructions = output_parser.get_format_instructions()"
   ]
  },
  {
   "cell_type": "code",
   "execution_count": 16,
   "id": "44414902-41a6-4a47-8aa6-4289a0e50d2e",
   "metadata": {},
   "outputs": [],
   "source": [
    "template_text = \"{request}\\n{format_instructions}\"\n",
    "\n",
    "human_prompt = HumanMessagePromptTemplate.from_template(template_text)"
   ]
  },
  {
   "cell_type": "code",
   "execution_count": 17,
   "id": "1430dd3d-2dd8-4519-9de4-107be11f3744",
   "metadata": {},
   "outputs": [],
   "source": [
    "chat_prompt = ChatPromptTemplate.from_messages([human_prompt])"
   ]
  },
  {
   "cell_type": "code",
   "execution_count": 18,
   "id": "491a9376-0a2c-47e0-a2d4-8a042dbc31e5",
   "metadata": {},
   "outputs": [],
   "source": [
    "model_request = chat_prompt.format_prompt(\n",
    "    request=\"What date was the 13th Amendment ratified in the US?\",\n",
    "    format_instructions=output_parser.get_format_instructions(),\n",
    ").to_messages()"
   ]
  },
  {
   "cell_type": "code",
   "execution_count": 19,
   "id": "b6ef73ed-8a18-4545-9c1c-f4a46f5ce7b6",
   "metadata": {},
   "outputs": [],
   "source": [
    "result = model(model_request, temperature=0)"
   ]
  },
  {
   "cell_type": "code",
   "execution_count": 20,
   "id": "08758d61-a38c-4267-853e-1ab3b866141a",
   "metadata": {},
   "outputs": [
    {
     "name": "stdout",
     "output_type": "stream",
     "text": [
      "The 13th Amendment was ratified in the US on December 6, 1865.\n",
      "\n",
      "The datetime string that matches the given pattern is: \"1865-12-06T00:00:00.000000Z\"\n"
     ]
    }
   ],
   "source": [
    "print(result.content)"
   ]
  },
  {
   "cell_type": "markdown",
   "id": "061e2056-677b-4308-a721-d3c54143f863",
   "metadata": {},
   "source": [
    "In this case, the reply was:\n",
    "\n",
    "```\n",
    "The 13th Amendment was ratified in the US on December 6, 1865.\n",
    "\n",
    "The datetime string that matches the given pattern is: \"1865-12-06T00:00:00.000000Z\"\n",
    "```\n",
    "which does not comply with our parser. If we try to parse it, it will raise an error."
   ]
  },
  {
   "cell_type": "markdown",
   "id": "7f3bd040-e569-479c-a090-311e3149283c",
   "metadata": {},
   "source": [
    "### Strong system prompt"
   ]
  },
  {
   "cell_type": "code",
   "execution_count": 21,
   "id": "6bb8849c-dabb-431a-8524-5f49a32870d6",
   "metadata": {},
   "outputs": [],
   "source": [
    "human_template = \"{request}\\n{format_instructions}\"\n",
    "human_prompt = HumanMessagePromptTemplate.from_template(human_template)\n",
    "\n",
    "system_template = \"You always reply to questions with only the datetime pattern.\"\n",
    "system_prompt = HumanMessagePromptTemplate.from_template(system_template)\n",
    "\n",
    "chat_prompt = ChatPromptTemplate.from_messages([system_prompt, human_prompt])\n",
    "\n",
    "model_request = chat_prompt.format_prompt(\n",
    "    request=\"What date was the 13th Amendment ratified in the US?\",\n",
    "    format_instructions=output_parser.get_format_instructions(),\n",
    ").to_messages()"
   ]
  },
  {
   "cell_type": "code",
   "execution_count": 22,
   "id": "be6c0b26-805f-4b92-9959-7f49dda7517f",
   "metadata": {},
   "outputs": [
    {
     "name": "stdout",
     "output_type": "stream",
     "text": [
      "1865-12-06T00:00:00.000000Z\n"
     ]
    }
   ],
   "source": [
    "result = model(model_request, temperature=0)\n",
    "print(result.content)"
   ]
  },
  {
   "cell_type": "code",
   "execution_count": 23,
   "id": "7bbe2533-8e24-448b-981e-c85debf92411",
   "metadata": {},
   "outputs": [
    {
     "data": {
      "text/plain": [
       "datetime.datetime(1865, 12, 6, 0, 0)"
      ]
     },
     "execution_count": 23,
     "metadata": {},
     "output_type": "execute_result"
    }
   ],
   "source": [
    "output_parser.parse(result.content)"
   ]
  },
  {
   "cell_type": "markdown",
   "id": "12e12167-54f8-4186-b614-631a73fc391e",
   "metadata": {},
   "source": [
    "### OutputFixingParser"
   ]
  },
  {
   "cell_type": "code",
   "execution_count": 24,
   "id": "e6fbd2d1-1334-4086-98af-5ff20c96d93a",
   "metadata": {},
   "outputs": [],
   "source": [
    "from langchain.output_parsers import OutputFixingParser"
   ]
  },
  {
   "cell_type": "code",
   "execution_count": 25,
   "id": "18368ffe-1748-42e8-af6e-1546045ea1a4",
   "metadata": {},
   "outputs": [],
   "source": [
    "misformatted = \"\"\"The 13th Amendment was ratified in the US on December 6, 1865.\n",
    "\n",
    "The datetime string that matches the given pattern is: \"1865-12-06T00:00:00.000000Z\"\"\""
   ]
  },
  {
   "cell_type": "code",
   "execution_count": 26,
   "id": "9412814f-d095-49a1-b161-12457b700bd8",
   "metadata": {},
   "outputs": [],
   "source": [
    "new_parser = OutputFixingParser.from_llm(llm=model, parser=output_parser)"
   ]
  },
  {
   "cell_type": "markdown",
   "id": "e4d44e36-d34d-410e-afd1-ec306ae3a911",
   "metadata": {},
   "source": [
    "This may solve it, or it may raise another error. It depends on the LLM interpretation.\n",
    "\n",
    "The best solution is to use both."
   ]
  },
  {
   "cell_type": "markdown",
   "id": "49014498-6e52-4aeb-916b-b4deaad1c57c",
   "metadata": {},
   "source": [
    "## Pydantic for custom classes"
   ]
  },
  {
   "cell_type": "code",
   "execution_count": 27,
   "id": "62028ebf-d4c4-4e85-9db1-379edc20fdd7",
   "metadata": {},
   "outputs": [],
   "source": [
    "from langchain.output_parsers import PydanticOutputParser\n",
    "from pydantic import BaseModel, Field"
   ]
  },
  {
   "cell_type": "code",
   "execution_count": 28,
   "id": "17077c7d-5b6d-44b0-b6ba-411c1184d435",
   "metadata": {},
   "outputs": [],
   "source": [
    "class Scientist(BaseModel):\n",
    "    name: str = Field(description=\"Name of a Scientist\")\n",
    "    discoveries: list[str] = Field(description=\"Python list of discoveries\")"
   ]
  },
  {
   "cell_type": "code",
   "execution_count": 29,
   "id": "1c04c9f6-4b03-4f87-9c31-ba15aa2cdcd1",
   "metadata": {},
   "outputs": [],
   "source": [
    "parser = PydanticOutputParser(pydantic_object=Scientist)"
   ]
  },
  {
   "cell_type": "code",
   "execution_count": 30,
   "id": "2b082eaf-25cf-4484-8e1d-9eae6cd67ad5",
   "metadata": {},
   "outputs": [
    {
     "name": "stdout",
     "output_type": "stream",
     "text": [
      "The output should be formatted as a JSON instance that conforms to the JSON schema below.\n",
      "\n",
      "As an example, for the schema {\"properties\": {\"foo\": {\"title\": \"Foo\", \"description\": \"a list of strings\", \"type\": \"array\", \"items\": {\"type\": \"string\"}}}, \"required\": [\"foo\"]}\n",
      "the object {\"foo\": [\"bar\", \"baz\"]} is a well-formatted instance of the schema. The object {\"properties\": {\"foo\": [\"bar\", \"baz\"]}} is not well-formatted.\n",
      "\n",
      "Here is the output schema:\n",
      "```\n",
      "{\"properties\": {\"name\": {\"description\": \"Name of a Scientist\", \"title\": \"Name\", \"type\": \"string\"}, \"discoveries\": {\"description\": \"Python list of discoveries\", \"items\": {\"type\": \"string\"}, \"title\": \"Discoveries\", \"type\": \"array\"}}, \"required\": [\"name\", \"discoveries\"]}\n",
      "```\n"
     ]
    }
   ],
   "source": [
    "format_instructions = parser.get_format_instructions()\n",
    "print(format_instructions)"
   ]
  },
  {
   "cell_type": "code",
   "execution_count": 31,
   "id": "76e58866-32a1-42e3-aa71-ec0254e64efe",
   "metadata": {},
   "outputs": [],
   "source": [
    "human_prompt = HumanMessagePromptTemplate.from_template(\n",
    "    \"{request}\\{format_instructions}\"\n",
    ")\n",
    "\n",
    "chat_prompt = ChatPromptTemplate.from_messages([human_prompt])"
   ]
  },
  {
   "cell_type": "code",
   "execution_count": 32,
   "id": "6fde3000-56f9-4cc5-831f-43b53cb5cb18",
   "metadata": {},
   "outputs": [],
   "source": [
    "model_request = chat_prompt.format_prompt(\n",
    "    request=\"Tell me about a scientist and their most famous inventions\",\n",
    "    format_instructions=format_instructions,\n",
    ").to_messages()"
   ]
  },
  {
   "cell_type": "code",
   "execution_count": 33,
   "id": "b1ec0cc2-b97a-44f3-a04b-95305f0a67b9",
   "metadata": {},
   "outputs": [],
   "source": [
    "response = model(model_request, temperature=0)"
   ]
  },
  {
   "cell_type": "code",
   "execution_count": 34,
   "id": "f9907cdc-cb76-491d-9b40-59c6a3624cd2",
   "metadata": {},
   "outputs": [
    {
     "name": "stdout",
     "output_type": "stream",
     "text": [
      "{\n",
      "  \"name\": \"Albert Einstein\",\n",
      "  \"discoveries\": [\n",
      "    \"Theory of Relativity\",\n",
      "    \"Photoelectric Effect\",\n",
      "    \"Brownian Motion\"\n",
      "  ]\n",
      "}\n"
     ]
    }
   ],
   "source": [
    "print(response.content)"
   ]
  },
  {
   "cell_type": "code",
   "execution_count": 35,
   "id": "db5c3ba3-a322-4757-8e65-be12409512b7",
   "metadata": {},
   "outputs": [
    {
     "data": {
      "text/plain": [
       "Scientist(name='Albert Einstein', discoveries=['Theory of Relativity', 'Photoelectric Effect', 'Brownian Motion'])"
      ]
     },
     "execution_count": 35,
     "metadata": {},
     "output_type": "execute_result"
    }
   ],
   "source": [
    "parser.parse(response.content)"
   ]
  },
  {
   "cell_type": "code",
   "execution_count": null,
   "id": "ed4afc20-aecb-47ec-a10e-d66a0a8d6ff9",
   "metadata": {},
   "outputs": [],
   "source": []
  }
 ],
 "metadata": {
  "kernelspec": {
   "display_name": "Python 3 (ipykernel)",
   "language": "python",
   "name": "python3"
  },
  "language_info": {
   "codemirror_mode": {
    "name": "ipython",
    "version": 3
   },
   "file_extension": ".py",
   "mimetype": "text/x-python",
   "name": "python",
   "nbconvert_exporter": "python",
   "pygments_lexer": "ipython3",
   "version": "3.11.1"
  }
 },
 "nbformat": 4,
 "nbformat_minor": 5
}
