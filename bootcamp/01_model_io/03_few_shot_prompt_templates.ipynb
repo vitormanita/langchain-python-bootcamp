{
 "cells": [
  {
   "cell_type": "markdown",
   "id": "9a404905-9791-48ef-a05f-9dfe52cb0e9c",
   "metadata": {},
   "source": [
    "# Few shot prompt tempaltes\n",
    "- Giving some examples of input/output pairs before sending main request\n",
    "- Allows LLM to learn the pattern you are looking for. May lead to better results\n",
    "- Should be noted that there is no consensus on best practices, but LangChain recommends building a history of Human and AI message inputs."
   ]
  },
  {
   "cell_type": "code",
   "execution_count": 1,
   "id": "69432370-fcff-4387-903c-55a9476437c9",
   "metadata": {},
   "outputs": [],
   "source": [
    "import os\n",
    "from langchain.chat_models import ChatOpenAI\n",
    "from langchain.prompts.chat import (\n",
    "    ChatPromptTemplate,\n",
    "    SystemMessagePromptTemplate,\n",
    "    HumanMessagePromptTemplate,\n",
    "    AIMessagePromptTemplate,\n",
    ")"
   ]
  },
  {
   "cell_type": "code",
   "execution_count": 3,
   "id": "1f2f2dc4-2886-4096-84fc-1e07cdd65c46",
   "metadata": {},
   "outputs": [],
   "source": [
    "chat = ChatOpenAI(openai_api_key=os.getenv(\"OPENAI_API_KEY\"))"
   ]
  },
  {
   "cell_type": "markdown",
   "id": "00a8cada-df63-4330-b0f5-2a5930470a1f",
   "metadata": {},
   "source": [
    "Let's build an AI Bot to explain legal documents in simple terms"
   ]
  },
  {
   "cell_type": "code",
   "execution_count": 4,
   "id": "3e409da3-d243-4747-b014-55d872e12f11",
   "metadata": {},
   "outputs": [],
   "source": [
    "system_template = \"you are a helpful legal assistent that translates complex legal terms into plain and understandable terms.\""
   ]
  },
  {
   "cell_type": "code",
   "execution_count": 5,
   "id": "7cc58d45-e10d-475f-99e7-fcc10b322f3e",
   "metadata": {},
   "outputs": [],
   "source": [
    "system_message_prompt = SystemMessagePromptTemplate.from_template(system_template)"
   ]
  },
  {
   "cell_type": "code",
   "execution_count": 6,
   "id": "22d1e434-ccd6-408e-971f-a54b0e1c3d47",
   "metadata": {},
   "outputs": [],
   "source": [
    "# Few shot examples\n",
    "# Input human\n",
    "# Output AI\n",
    "\n",
    "legal_text = \"The provisions herein shall be severable, and if any provision or portion thereof is deemed invalid, illegal, or unenforceable by a court of competent jurisdiction, the remaining provisions or portions thereof shall remain in full force and effect to the maximum extent permitted by law.\"\n",
    "example_input_one = HumanMessagePromptTemplate.from_template(legal_text)\n",
    "\n",
    "\n",
    "plain_text = \"The rules in this agreement can be separated.\"\n",
    "example_output_one = AIMessagePromptTemplate.from_template(plain_text)"
   ]
  },
  {
   "cell_type": "code",
   "execution_count": 7,
   "id": "98c99cfe-3bad-48bc-9aee-185eb9e1c6f9",
   "metadata": {},
   "outputs": [],
   "source": [
    "human_template = \"{legal_text}\"\n",
    "human_message_prompt = HumanMessagePromptTemplate.from_template(human_template)\n",
    "\n",
    "chat_prompt = ChatPromptTemplate.from_messages(\n",
    "    [system_message_prompt, example_input_one, example_output_one, human_message_prompt]\n",
    ")"
   ]
  },
  {
   "cell_type": "code",
   "execution_count": 8,
   "id": "eda50362-3aa9-48ab-8b9f-0b43c590ac27",
   "metadata": {},
   "outputs": [
    {
     "name": "stdout",
     "output_type": "stream",
     "text": [
      "The person who owns the property is giving it to someone else, along with all their rights and interests in it. However, there may be existing obligations or restrictions on the property, like loans or agreements, that the new owner will have to deal with. The new owner is paying a certain amount of money to the current owner for the property.\n"
     ]
    }
   ],
   "source": [
    "example_legal_text = \"The grantor, being the fee simple owner of the real property herein described, conveys and warrants to the grantee, his heirs and assigns, all of the grantor's right, title, and interest in and to the said property, subject to all existing encumbrances, liens, and easements, as recorded in the official records of the county, and any applicable covenants, conditions, and restrictions affecting the property, in consideration of the sum of [purchase price] paid by the grantee\"\n",
    "request = chat_prompt.format_prompt(legal_text=example_legal_text).to_messages()\n",
    "\n",
    "answer = chat(request)\n",
    "\n",
    "print(answer.content)"
   ]
  },
  {
   "cell_type": "code",
   "execution_count": null,
   "id": "5df0d22a-3a1f-47e9-ae21-501adb075945",
   "metadata": {},
   "outputs": [],
   "source": []
  }
 ],
 "metadata": {
  "kernelspec": {
   "display_name": "Python 3 (ipykernel)",
   "language": "python",
   "name": "python3"
  },
  "language_info": {
   "codemirror_mode": {
    "name": "ipython",
    "version": 3
   },
   "file_extension": ".py",
   "mimetype": "text/x-python",
   "name": "python",
   "nbconvert_exporter": "python",
   "pygments_lexer": "ipython3",
   "version": "3.11.1"
  }
 },
 "nbformat": 4,
 "nbformat_minor": 5
}
