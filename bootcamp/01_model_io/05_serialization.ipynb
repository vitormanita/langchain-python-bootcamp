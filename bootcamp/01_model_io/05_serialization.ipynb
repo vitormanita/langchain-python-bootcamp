{
 "cells": [
  {
   "cell_type": "markdown",
   "id": "223f9f3e-4f7a-43c1-96c6-1599618eb5f3",
   "metadata": {},
   "source": [
    "# Serialization\n",
    "\n",
    "Save, Share, or Load prompt objects."
   ]
  },
  {
   "cell_type": "markdown",
   "id": "849ec6bb-fcc6-4029-a09c-02cce01ac317",
   "metadata": {},
   "source": [
    "## Save"
   ]
  },
  {
   "cell_type": "code",
   "execution_count": 1,
   "id": "a8a9c017-88aa-474d-bc9c-6cb91c2c17f1",
   "metadata": {},
   "outputs": [],
   "source": [
    "from langchain import PromptTemplate"
   ]
  },
  {
   "cell_type": "code",
   "execution_count": 2,
   "id": "2c41c355-be9f-4c0b-950a-55dd7bd48688",
   "metadata": {},
   "outputs": [],
   "source": [
    "template = \"Tell me a fact about {planet}\""
   ]
  },
  {
   "cell_type": "code",
   "execution_count": 3,
   "id": "d65f375f-4ea0-4c29-b573-9cb9ee0df4f7",
   "metadata": {},
   "outputs": [],
   "source": [
    "prompt = PromptTemplate(template=template, input_variables=[\"planet\"])"
   ]
  },
  {
   "cell_type": "code",
   "execution_count": 5,
   "id": "4221ab85-71e1-4a37-aabb-08f6a0922ff3",
   "metadata": {},
   "outputs": [
    {
     "name": "stdout",
     "output_type": "stream",
     "text": [
      "input_variables=['planet'] output_parser=None partial_variables={} template='Tell me a fact about {planet}' template_format='f-string' validate_template=True\n"
     ]
    }
   ],
   "source": [
    "print(prompt)"
   ]
  },
  {
   "cell_type": "code",
   "execution_count": 6,
   "id": "b807b2b4-90e8-4674-bf77-f405e0bf399c",
   "metadata": {},
   "outputs": [],
   "source": [
    "prompt.save(\"exports/myprompt.json\")"
   ]
  },
  {
   "cell_type": "markdown",
   "id": "f976af98-0670-4b48-ae4d-fc879b13115e",
   "metadata": {},
   "source": [
    "## Load"
   ]
  },
  {
   "cell_type": "code",
   "execution_count": 7,
   "id": "b973f289-4797-43de-9b28-e8b2f5ac34b8",
   "metadata": {},
   "outputs": [],
   "source": [
    "from langchain.prompts import load_prompt"
   ]
  },
  {
   "cell_type": "code",
   "execution_count": 8,
   "id": "3deb1709-7e34-4332-9cf3-fb6e9403fff7",
   "metadata": {},
   "outputs": [],
   "source": [
    "loaded_prompt = load_prompt(\"exports/myprompt.json\")"
   ]
  },
  {
   "cell_type": "code",
   "execution_count": 9,
   "id": "dea36548-fdb6-45c9-88d1-230e72c0fd2c",
   "metadata": {},
   "outputs": [
    {
     "name": "stdout",
     "output_type": "stream",
     "text": [
      "input_variables=['planet'] output_parser=None partial_variables={} template='Tell me a fact about {planet}' template_format='f-string' validate_template=True\n"
     ]
    }
   ],
   "source": [
    "print(loaded_prompt)"
   ]
  }
 ],
 "metadata": {
  "kernelspec": {
   "display_name": "Python 3 (ipykernel)",
   "language": "python",
   "name": "python3"
  },
  "language_info": {
   "codemirror_mode": {
    "name": "ipython",
    "version": 3
   },
   "file_extension": ".py",
   "mimetype": "text/x-python",
   "name": "python",
   "nbconvert_exporter": "python",
   "pygments_lexer": "ipython3",
   "version": "3.11.1"
  }
 },
 "nbformat": 4,
 "nbformat_minor": 5
}
