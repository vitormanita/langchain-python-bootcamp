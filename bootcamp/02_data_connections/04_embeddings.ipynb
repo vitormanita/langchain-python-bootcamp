{
 "cells": [
  {
   "cell_type": "markdown",
   "id": "1bd6f742-a959-4f12-b2fb-bc011531f6ad",
   "metadata": {},
   "source": [
    "# Embeddings\n",
    "\n",
    "We need to choose the initial embedding model carefully!\n",
    "\n",
    "Different embedding models can not interact with each other, meaning we would need to re-embed an entire set of documents if we switch embedding models in the future."
   ]
  },
  {
   "cell_type": "code",
   "execution_count": 10,
   "id": "15584067-ac24-46dc-b7d4-ca7dae089fcf",
   "metadata": {},
   "outputs": [],
   "source": [
    "from langchain.embeddings import OpenAIEmbeddings\n",
    "from langchain.document_loaders import CSVLoader\n",
    "import os\n",
    "\n",
    "key = os.getenv(\"OPENAI_API_KEY\")"
   ]
  },
  {
   "cell_type": "code",
   "execution_count": 3,
   "id": "cf08c88c-6510-4b3a-a13d-56cb4158f5a6",
   "metadata": {},
   "outputs": [],
   "source": [
    "embeddings = OpenAIEmbeddings()"
   ]
  },
  {
   "cell_type": "code",
   "execution_count": 5,
   "id": "c9b1ec23-bd3a-4c25-bf20-8c0d429d7f81",
   "metadata": {},
   "outputs": [
    {
     "data": {
      "text/plain": [
       "'text-embedding-ada-002'"
      ]
     },
     "execution_count": 5,
     "metadata": {},
     "output_type": "execute_result"
    }
   ],
   "source": [
    "embeddings.model"
   ]
  },
  {
   "cell_type": "markdown",
   "id": "4f9d3abe-c2a2-48ea-9cd6-714adc02e834",
   "metadata": {},
   "source": [
    "## Embed single string"
   ]
  },
  {
   "cell_type": "code",
   "execution_count": 4,
   "id": "6faee2ef-f89e-4330-aa37-c7d2d890dc2e",
   "metadata": {},
   "outputs": [],
   "source": [
    "text = \"this is some normal text string that I want to embed as a vector\""
   ]
  },
  {
   "cell_type": "code",
   "execution_count": 6,
   "id": "59af18ad-6036-4b7e-983e-8a0efa8d6b7e",
   "metadata": {},
   "outputs": [],
   "source": [
    "embedded_text = embeddings.embed_query(text)"
   ]
  },
  {
   "cell_type": "code",
   "execution_count": 7,
   "id": "c7bd4774-f80b-4177-b288-3a77e6442588",
   "metadata": {},
   "outputs": [
    {
     "data": {
      "text/plain": [
       "[-0.021364752528356994,\n",
       " 0.0007997061014803541,\n",
       " -0.017900947753812197,\n",
       " 0.00746103713467312,\n",
       " 0.01028750293711291,\n",
       " 0.009095952984532973,\n",
       " -0.01670939873255485,\n",
       " -0.006227922254955556,\n",
       " -0.02186354096723442,\n",
       " -0.014547983405849467]"
      ]
     },
     "execution_count": 7,
     "metadata": {},
     "output_type": "execute_result"
    }
   ],
   "source": [
    "embedded_text[:10]"
   ]
  },
  {
   "cell_type": "code",
   "execution_count": 8,
   "id": "3dd7877e-6ba9-408f-922d-00d2ef5cf9aa",
   "metadata": {},
   "outputs": [
    {
     "data": {
      "text/plain": [
       "1536"
      ]
     },
     "execution_count": 8,
     "metadata": {},
     "output_type": "execute_result"
    }
   ],
   "source": [
    "len(embedded_text)"
   ]
  },
  {
   "cell_type": "markdown",
   "id": "501bad27-a6b7-4d81-a0e9-482e6d38b4c5",
   "metadata": {},
   "source": [
    "## Embed a document"
   ]
  },
  {
   "cell_type": "code",
   "execution_count": 11,
   "id": "0fd5b350-2721-4471-b725-982808a3ad51",
   "metadata": {},
   "outputs": [],
   "source": [
    "loader = CSVLoader(\"some_data/penguins.csv\")\n",
    "\n",
    "data = loader.load()"
   ]
  },
  {
   "cell_type": "code",
   "execution_count": 12,
   "id": "50d93557-a0c2-48cb-9d06-a792c6c97178",
   "metadata": {},
   "outputs": [],
   "source": [
    "# Result is a list of vectors\n",
    "embedded_docs = embeddings.embed_documents([text.page_content for text in data])"
   ]
  },
  {
   "cell_type": "code",
   "execution_count": 13,
   "id": "17bda465-82a9-48fd-be4d-286bf3d1940b",
   "metadata": {},
   "outputs": [
    {
     "data": {
      "text/plain": [
       "344"
      ]
     },
     "execution_count": 13,
     "metadata": {},
     "output_type": "execute_result"
    }
   ],
   "source": [
    "len(embedded_docs)  # nr of rows"
   ]
  },
  {
   "cell_type": "code",
   "execution_count": 14,
   "id": "6a4f95e6-a8ec-4872-8e9a-536a0d171bf7",
   "metadata": {},
   "outputs": [
    {
     "data": {
      "text/plain": [
       "1536"
      ]
     },
     "execution_count": 14,
     "metadata": {},
     "output_type": "execute_result"
    }
   ],
   "source": [
    "len(embedded_docs[0])  # Each row will be a vector"
   ]
  }
 ],
 "metadata": {
  "kernelspec": {
   "display_name": "Python 3 (ipykernel)",
   "language": "python",
   "name": "python3"
  },
  "language_info": {
   "codemirror_mode": {
    "name": "ipython",
    "version": 3
   },
   "file_extension": ".py",
   "mimetype": "text/x-python",
   "name": "python",
   "nbconvert_exporter": "python",
   "pygments_lexer": "ipython3",
   "version": "3.11.1"
  }
 },
 "nbformat": 4,
 "nbformat_minor": 5
}
