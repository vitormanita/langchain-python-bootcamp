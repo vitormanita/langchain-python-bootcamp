{
 "cells": [
  {
   "cell_type": "markdown",
   "id": "57afb6c8-1cd4-471e-8ffb-6b487ed55fbb",
   "metadata": {},
   "source": [
    "# Vector Store\n",
    "\n",
    "- Can store large N-dimensional vectors\n",
    "- Can directly index an embedded vector to its associated string text document\n",
    "- Can be queried, allowing for a cosine similarity search between a new vector not in the database and the store vectors\n",
    "- Can easily add, update, or delete new vectors\n",
    "\n",
    "We're going to use an open-source vector store called Chroma, which works great with Langchain."
   ]
  },
  {
   "cell_type": "code",
   "execution_count": 28,
   "id": "beb342ea-d501-4400-972a-208a9e0dec77",
   "metadata": {},
   "outputs": [],
   "source": [
    "import warnings\n",
    "warnings.filterwarnings('ignore')"
   ]
  },
  {
   "cell_type": "code",
   "execution_count": 1,
   "id": "8d9eeb0f-9d43-4f0b-a7cc-ae2762346d5f",
   "metadata": {},
   "outputs": [],
   "source": [
    "import chromadb\n",
    "from langchain.embeddings import OpenAIEmbeddings\n",
    "from langchain.text_splitter import CharacterTextSplitter\n",
    "from langchain.vectorstores import Chroma\n",
    "from langchain.document_loaders import TextLoader"
   ]
  },
  {
   "cell_type": "markdown",
   "id": "17ad6ba2-1fb1-41b7-8a90-5dfcb55d2063",
   "metadata": {},
   "source": [
    "Logic:\n",
    "1. Load document --> Split into chunks\n",
    "2. Use embeddings --> Embed chunks --> Vectors\n",
    "3. Vector chunks --> Save ChromaDB\n",
    "4. \"query\" --> similarity search chromadb\n",
    "   "
   ]
  },
  {
   "cell_type": "code",
   "execution_count": 2,
   "id": "8f4b6486-24d4-456f-b6e8-12c9d2d10a01",
   "metadata": {},
   "outputs": [],
   "source": [
    "loader = TextLoader(\"some_data/FDR_State_of_Union_1944.txt\")\n",
    "\n",
    "documents = loader.load()\n",
    "\n",
    "text_splitter = CharacterTextSplitter.from_tiktoken_encoder(chunk_size=500)\n",
    "\n",
    "docs = text_splitter.split_documents(documents)"
   ]
  },
  {
   "cell_type": "code",
   "execution_count": 3,
   "id": "0629f8e6-617f-41ad-9893-7b795379f092",
   "metadata": {},
   "outputs": [],
   "source": [
    "embedding_function = OpenAIEmbeddings()"
   ]
  },
  {
   "cell_type": "code",
   "execution_count": 6,
   "id": "e385f79e-d646-4281-be72-06a81f80bb99",
   "metadata": {},
   "outputs": [],
   "source": [
    "# Save\n",
    "db = Chroma.from_documents(docs, embedding_function, persist_directory=\"./db/speech_new_db\")\n",
    "db.persist()"
   ]
  },
  {
   "cell_type": "markdown",
   "id": "6eefb4d9-9eeb-4f3b-ba90-04b8d8dc692e",
   "metadata": {},
   "source": [
    "This creates 2 parquets and an index folder:\n",
    "- chroma-collections: strings\n",
    "- chroma-embeddings: vectors\n",
    "- index: connects the two above"
   ]
  },
  {
   "cell_type": "markdown",
   "id": "583aa2d9-90d5-4ae1-bdce-f209850a1c61",
   "metadata": {},
   "source": [
    "**Load DB from persisted directory**"
   ]
  },
  {
   "cell_type": "code",
   "execution_count": 7,
   "id": "f871ac1e-902b-482a-a573-e3f14d8e6982",
   "metadata": {},
   "outputs": [],
   "source": [
    "db_new_connection = Chroma(persist_directory=\"./db/speech_new_db\", embedding_function=embedding_function)"
   ]
  },
  {
   "cell_type": "code",
   "execution_count": 8,
   "id": "0f6f407f-67c5-40a8-a2c4-78392a8bcccd",
   "metadata": {},
   "outputs": [
    {
     "data": {
      "text/plain": [
       "<langchain.vectorstores.chroma.Chroma at 0x7f5e786100d0>"
      ]
     },
     "execution_count": 8,
     "metadata": {},
     "output_type": "execute_result"
    }
   ],
   "source": [
    "db_new_connection"
   ]
  },
  {
   "cell_type": "code",
   "execution_count": 9,
   "id": "f129b17b-7bc9-41d6-b5f2-7a5daff55be9",
   "metadata": {},
   "outputs": [],
   "source": [
    "new_doc = \"What did FDR say about the cost of food law?\"\n",
    "# new_doc = \"cost of food law, FDR\"  # this would be very similary, since it's just similarity search\n",
    "\n",
    "# Chroma vectorizes this and returns document most similar to this\n",
    "# It is not interpreting the question using a LLM model"
   ]
  },
  {
   "cell_type": "code",
   "execution_count": 10,
   "id": "426c4c3c-151d-46ab-bf44-71fada016fc5",
   "metadata": {},
   "outputs": [],
   "source": [
    "similar_docs = db_new_connection.similarity_search(new_doc, k=3)"
   ]
  },
  {
   "cell_type": "code",
   "execution_count": 11,
   "id": "f5c7754a-f60d-4429-9cfe-0b9a0f550102",
   "metadata": {},
   "outputs": [
    {
     "data": {
      "text/plain": [
       "3"
      ]
     },
     "execution_count": 11,
     "metadata": {},
     "output_type": "execute_result"
    }
   ],
   "source": [
    "len(similar_docs)"
   ]
  },
  {
   "cell_type": "code",
   "execution_count": 12,
   "id": "513cf873-a2be-41bb-afdc-8dfb5ff6e262",
   "metadata": {},
   "outputs": [
    {
     "name": "stdout",
     "output_type": "stream",
     "text": [
      "That is the way to fight and win a war—all out—and not with half-an-eye on the battlefronts abroad and the other eye-and-a-half on personal, selfish, or political interests here at home.\n",
      "\n",
      "Therefore, in order to concentrate all our energies and resources on winning the war, and to maintain a fair and stable economy at home, I recommend that the Congress adopt:\n",
      "\n",
      "(1) A realistic tax law—which will tax all unreasonable profits, both individual and corporate, and reduce the ultimate cost of the war to our sons and daughters. The tax bill now under consideration by the Congress does not begin to meet this test.\n",
      "\n",
      "(2) A continuation of the law for the renegotiation of war contracts—which will prevent exorbitant profits and assure fair prices to the Government. For two long years I have pleaded with the Congress to take undue profits out of war.\n",
      "\n",
      "(3) A cost of food law—which will enable the Government (a) to place a reasonable floor under the prices the farmer may expect for his production; and (b) to place a ceiling on the prices a consumer will have to pay for the food he buys. This should apply to necessities only; and will require public funds to carry out. It will cost in appropriations about one percent of the present annual cost of the war.\n",
      "\n",
      "(4) Early reenactment of. the stabilization statute of October, 1942. This expires June 30, 1944, and if it is not extended well in advance, the country might just as well expect price chaos by summer.\n",
      "\n",
      "(5) A national service law- which, for the duration of the war, will prevent strikes, and, with certain appropriate exceptions, will make available for war production or for any other essential services every able-bodied adult in this Nation.\n",
      "\n",
      "These five measures together form a just and equitable whole. I would not recommend a national service law unless the other laws were passed to keep down the cost of living, to share equitably the burdens of taxation, to hold the stabilization line, and to prevent undue profits.\n",
      "\n",
      "The Federal Government already has the basic power to draft capital and property of all kinds for war purposes on a basis of just compensation.\n"
     ]
    }
   ],
   "source": [
    "print(similar_docs[0].page_content)  # Even smaller chunks would be more effective"
   ]
  },
  {
   "cell_type": "markdown",
   "id": "f857f38e-cdde-41ca-b4b4-8bce5d57afc5",
   "metadata": {},
   "source": [
    "## Adding new vectors"
   ]
  },
  {
   "cell_type": "code",
   "execution_count": 13,
   "id": "aab28f72-52f4-4619-acb4-391e093ee631",
   "metadata": {},
   "outputs": [],
   "source": [
    "loader = TextLoader(\"some_data/Lincoln_State_of_Union_1862.txt\")\n",
    "documents = loader.load()"
   ]
  },
  {
   "cell_type": "code",
   "execution_count": 14,
   "id": "2fad7cd3-c9e9-40ee-acc8-a044ca698eb5",
   "metadata": {},
   "outputs": [
    {
     "name": "stderr",
     "output_type": "stream",
     "text": [
      "Created a chunk of size 608, which is longer than the specified 500\n",
      "Created a chunk of size 539, which is longer than the specified 500\n",
      "Created a chunk of size 686, which is longer than the specified 500\n"
     ]
    }
   ],
   "source": [
    "docs = text_splitter.split_documents(documents)"
   ]
  },
  {
   "cell_type": "code",
   "execution_count": 15,
   "id": "c973815f-c7be-4fbc-9a0e-12065086663a",
   "metadata": {},
   "outputs": [],
   "source": [
    "db_new_connection = Chroma.from_documents(\n",
    "    docs,\n",
    "    embedding_function,\n",
    "    persist_directory=\"./speech_new_db\"\n",
    ")"
   ]
  },
  {
   "cell_type": "code",
   "execution_count": 16,
   "id": "0603e605-4c1a-417b-b6b7-1e4d4f6f0c6d",
   "metadata": {},
   "outputs": [],
   "source": [
    "docs = db_new_connection.similarity_search(\"slavery\")"
   ]
  },
  {
   "cell_type": "code",
   "execution_count": 17,
   "id": "34dca1ad-5ec7-4470-bcd0-40285729bdfc",
   "metadata": {},
   "outputs": [
    {
     "data": {
      "text/plain": [
       "'As to the second article, I think it would be impracticable to return to bondage the class of persons therein contemplated. Some of them, doubtless, in the property sense belong to loyal owners, and hence provision is made in this article for compensating such. The third article relates to the future of the freed people. It does not oblige, but merely authorizes Congress to aid in colonizing such as may consent. This ought not to be regarded as objectionable on the one hand or on the other, insomuch as it comes to nothing unless by the mutual consent of the people to be deported and the American voters, through their representatives in Congress.\\n\\nI can not make it better known than it already is that I strongly favor colonization; and yet I wish to say there is an objection urged against free colored persons remaining in the country which is largely imaginary, if not sometimes malicious.\\n\\nIt is insisted that their presence would injure and displace white labor and white laborers. If there ever could be a proper time for mere catch arguments, that time surely is not now. In times like the present men should utter nothing for which they would not willingly be responsible through time and in eternity. Is it true, then, that colored people can displace any more white labor by being free than by remaining slaves? If they stay in their old places, they jostle no white laborers; if they leave their old places, they leave them open to white laborers. Logically, there is neither more nor less of it. Emancipation, even without deportation, would probably enhance the wages of white labor, and very surely would not reduce them. Thus the customary amount of labor would still have to be performed—the freed people would surely not do more than their old proportion of it, and very probably for a time would do less, leaving an increased part to white laborers, bringing their labor into greater demand, and consequently enhancing the wages of it. With deportation, even to a limited extent, enhanced wages to white labor is mathematically certain. Labor is like any other commodity in the market—increase the demand for it and you increase the price of it. Reduce the supply of black labor by colonizing the black laborer out of the country, and by precisely so much you increase the demand for and wages of white labor.'"
      ]
     },
     "execution_count": 17,
     "metadata": {},
     "output_type": "execute_result"
    }
   ],
   "source": [
    "docs[0].page_content"
   ]
  },
  {
   "cell_type": "markdown",
   "id": "36e413a4-a325-4a81-8af0-5fb010db1b65",
   "metadata": {},
   "source": [
    "## Retrievers\n",
    "\n",
    "Easier way to access methods of the vector db.\n",
    "\n",
    "In more advanced topics, we usually pass a retriever object rather than the vector store itself."
   ]
  },
  {
   "cell_type": "code",
   "execution_count": 18,
   "id": "f6eacb20-09d3-452e-8158-2af9c0edb5be",
   "metadata": {},
   "outputs": [
    {
     "data": {
      "text/plain": [
       "langchain.vectorstores.chroma.Chroma"
      ]
     },
     "execution_count": 18,
     "metadata": {},
     "output_type": "execute_result"
    }
   ],
   "source": [
    "type(db_new_connection)"
   ]
  },
  {
   "cell_type": "code",
   "execution_count": 20,
   "id": "22a2c774-2b86-4f81-82d5-44dadaf48aeb",
   "metadata": {},
   "outputs": [
    {
     "data": {
      "text/plain": [
       "langchain.vectorstores.base.VectorStoreRetriever"
      ]
     },
     "execution_count": 20,
     "metadata": {},
     "output_type": "execute_result"
    }
   ],
   "source": [
    "retriever = db_new_connection.as_retriever()\n",
    "type(retriever)"
   ]
  },
  {
   "cell_type": "code",
   "execution_count": 21,
   "id": "fb4698e3-ac7a-4d8a-9dae-bd46ca3b885f",
   "metadata": {},
   "outputs": [],
   "source": [
    "results = retriever.get_relevant_documents(\"cost food of law\")"
   ]
  },
  {
   "cell_type": "code",
   "execution_count": 23,
   "id": "1dfc2047-70da-4744-8c3e-a079d7b63696",
   "metadata": {},
   "outputs": [
    {
     "data": {
      "text/plain": [
       "4"
      ]
     },
     "execution_count": 23,
     "metadata": {},
     "output_type": "execute_result"
    }
   ],
   "source": [
    "len(results)"
   ]
  },
  {
   "cell_type": "markdown",
   "id": "e1a53867-dea5-4677-a21d-2a3d8531ae80",
   "metadata": {},
   "source": [
    "### MultiQuery retrieval\n",
    "\n",
    "Documents in the vector store may contain phrasing that we are not aware of due to their size. This can cause issues trying to think of the correct query string for similarity comparison.\n",
    "\n",
    "We can use an LLM to generate multiple variations of our query suing MultiQueryRetriever, allowing us to focus on key ideas rather than exact phrasing."
   ]
  },
  {
   "cell_type": "code",
   "execution_count": 24,
   "id": "1c398ac1-d886-4c95-953c-daca86530219",
   "metadata": {},
   "outputs": [],
   "source": [
    "from langchain.document_loaders import WikipediaLoader"
   ]
  },
  {
   "cell_type": "code",
   "execution_count": 29,
   "id": "37c881c0-abfa-4096-a572-b83f8a6534b8",
   "metadata": {},
   "outputs": [
    {
     "data": {
      "text/plain": [
       "9"
      ]
     },
     "execution_count": 29,
     "metadata": {},
     "output_type": "execute_result"
    }
   ],
   "source": [
    "loader = WikipediaLoader(query=\"MKUltra\")\n",
    "documents = loader.load()\n",
    "\n",
    "len(documents)"
   ]
  },
  {
   "cell_type": "code",
   "execution_count": 30,
   "id": "ec8956d1-97b1-48ec-a68f-4c3cee7472f3",
   "metadata": {},
   "outputs": [],
   "source": [
    "from langchain.text_splitter import CharacterTextSplitter"
   ]
  },
  {
   "cell_type": "code",
   "execution_count": 31,
   "id": "aebe0308-631a-4378-9f5c-7ccfaf4b7c30",
   "metadata": {},
   "outputs": [
    {
     "name": "stderr",
     "output_type": "stream",
     "text": [
      "Created a chunk of size 516, which is longer than the specified 500\n"
     ]
    }
   ],
   "source": [
    "text_splitter = CharacterTextSplitter.from_tiktoken_encoder(chunk_size=500)\n",
    "docs = text_splitter.split_documents(documents)"
   ]
  },
  {
   "cell_type": "code",
   "execution_count": 32,
   "id": "278159bd-aa59-45ca-aaa7-7bb3e209ed52",
   "metadata": {},
   "outputs": [
    {
     "data": {
      "text/plain": [
       "19"
      ]
     },
     "execution_count": 32,
     "metadata": {},
     "output_type": "execute_result"
    }
   ],
   "source": [
    "len(docs)"
   ]
  },
  {
   "cell_type": "markdown",
   "id": "965e7b02-f139-422c-bb79-8758358e6400",
   "metadata": {},
   "source": [
    "Since we are adding a bit of randomness in our queries with an LLM, we should set a low temperature such as zero."
   ]
  },
  {
   "cell_type": "code",
   "execution_count": 33,
   "id": "0281b2b0-b44b-4e7e-aaec-d227abfba5c3",
   "metadata": {},
   "outputs": [],
   "source": [
    "from langchain.embeddings import OpenAIEmbeddings\n",
    "\n",
    "embedding_function = OpenAIEmbeddings(temperature=0)"
   ]
  },
  {
   "cell_type": "code",
   "execution_count": 34,
   "id": "1708b428-f29a-4833-b269-e8e60f6be507",
   "metadata": {},
   "outputs": [],
   "source": [
    "from langchain.vectorstores import Chroma\n",
    "\n",
    "db = Chroma.from_documents(docs, embedding_function, persist_directory=\"./db/some_new_mkultra\")\n",
    "db.persist()"
   ]
  },
  {
   "cell_type": "code",
   "execution_count": 35,
   "id": "41de70e3-692e-493f-b674-e63a4a88d252",
   "metadata": {},
   "outputs": [],
   "source": [
    "from langchain.retrievers.multi_query import MultiQueryRetriever\n",
    "from langchain.chat_models import ChatOpenAI"
   ]
  },
  {
   "cell_type": "code",
   "execution_count": 36,
   "id": "a90912c3-6105-4629-9eab-2810f33962f4",
   "metadata": {},
   "outputs": [],
   "source": [
    "question = \"When was this declassifier?\""
   ]
  },
  {
   "cell_type": "code",
   "execution_count": 37,
   "id": "97c6e7a3-db6f-46c2-98bb-f857263c947f",
   "metadata": {},
   "outputs": [],
   "source": [
    "llm = ChatOpenAI()\n",
    "retriever_from_llm = MultiQueryRetriever.from_llm(retriever=db.as_retriever(), llm=llm)"
   ]
  },
  {
   "cell_type": "code",
   "execution_count": 38,
   "id": "bea9fabc-0740-42ab-9ba9-81e047be7e3c",
   "metadata": {},
   "outputs": [],
   "source": [
    "# Logging behind the scenes\n",
    "\n",
    "import logging\n",
    "logging.basicConfig()\n",
    "logging.getLogger(\"langchain.retrievers.multi_query\").setLevel(logging.INFO)"
   ]
  },
  {
   "cell_type": "markdown",
   "id": "4cac7d93-7a98-408e-93c9-3b8868547b8f",
   "metadata": {},
   "source": [
    "This generates multiple queries for our question. It will try to find the better phrasing."
   ]
  },
  {
   "cell_type": "code",
   "execution_count": 39,
   "id": "4c65fd0b-55bf-47ff-83a3-2a86749770c9",
   "metadata": {},
   "outputs": [
    {
     "name": "stderr",
     "output_type": "stream",
     "text": [
      "INFO:langchain.retrievers.multi_query:Generated queries: ['1. Can you provide the date of the declassification?', '2. Do you have any information about the specific date when the declassification took place?', '3. Could you please share the timeline or date of the declassifier?']\n"
     ]
    }
   ],
   "source": [
    "# This will not directly answer an query\n",
    "# returns n docs that are most similar/relevant\n",
    "unique_docs = retriever_from_llm.get_relevant_documents(query=question)"
   ]
  },
  {
   "cell_type": "code",
   "execution_count": 40,
   "id": "575c8285-fc6b-4d97-8603-f3766fcf4757",
   "metadata": {},
   "outputs": [
    {
     "data": {
      "text/plain": [
       "6"
      ]
     },
     "execution_count": 40,
     "metadata": {},
     "output_type": "execute_result"
    }
   ],
   "source": [
    "len(unique_docs)"
   ]
  },
  {
   "cell_type": "code",
   "execution_count": 41,
   "id": "9e169197-6249-492a-bf5e-0139f439224b",
   "metadata": {},
   "outputs": [
    {
     "data": {
      "text/plain": [
       "\"== See also ==\\nHuman experimentation in the United States\\nProject MKULTRA\\nProject ARTICHOKE\\nProject CHATTER\\nProject MKDELTA\\nCIA cryptonym\\nKurt Blome\\nErich Traub\\n\\n\\n== References ==\\n\\nBibliographyGoliszek, Andrew, In the name of science : a history of secret programs, medical research, and human experimentation St. Martin's Press, 2003\\nSummary Report of CIA Investigation of MKNAOMI (US National Archives, released under the JFK Assassination Records Act, December 2017)\""
      ]
     },
     "execution_count": 41,
     "metadata": {},
     "output_type": "execute_result"
    }
   ],
   "source": [
    "unique_docs[0].page_content"
   ]
  },
  {
   "cell_type": "markdown",
   "id": "00cbfe9f-260d-4b26-9b30-754268b5a5d1",
   "metadata": {},
   "source": [
    "**This has a problem:** It is returning the entire document. We want only an \"answer\". This will lbe called context compression."
   ]
  },
  {
   "cell_type": "code",
   "execution_count": null,
   "id": "bd82885b-b2c7-485b-abf4-9249b921923a",
   "metadata": {},
   "outputs": [],
   "source": []
  }
 ],
 "metadata": {
  "kernelspec": {
   "display_name": "Python 3 (ipykernel)",
   "language": "python",
   "name": "python3"
  },
  "language_info": {
   "codemirror_mode": {
    "name": "ipython",
    "version": 3
   },
   "file_extension": ".py",
   "mimetype": "text/x-python",
   "name": "python",
   "nbconvert_exporter": "python",
   "pygments_lexer": "ipython3",
   "version": "3.11.1"
  }
 },
 "nbformat": 4,
 "nbformat_minor": 5
}
