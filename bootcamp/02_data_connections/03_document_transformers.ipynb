{
 "cells": [
  {
   "cell_type": "markdown",
   "id": "ed583e53-cdbe-4b3e-985a-0eb49c46a56e",
   "metadata": {},
   "source": [
    "# Document Transformers\n",
    "\n",
    "After we load a Document object from a source, we end up having strings by page_content. In some situations, the length of the strings may be too large to feed into a model, both embedding and chat models.\n",
    "\n",
    "- LangChain provides Document Transformers that split strings into chunks.\n",
    "- These chunks are useful for embeddings\n",
    "- 2 most common splitters: Split on a specific character OR split based on token counts."
   ]
  },
  {
   "cell_type": "code",
   "execution_count": 5,
   "id": "0140b30e-8113-4900-9f18-eea66cf06ad8",
   "metadata": {},
   "outputs": [],
   "source": [
    "from langchain.text_splitter import CharacterTextSplitter\n"
   ]
  },
  {
   "cell_type": "code",
   "execution_count": 1,
   "id": "11226e15-451b-4e9b-97e4-3e665ebf30e0",
   "metadata": {},
   "outputs": [],
   "source": [
    "with open(\"some_data/FDR_State_of_Union_1944.txt\") as file:\n",
    "    speech_text = file.read()"
   ]
  },
  {
   "cell_type": "code",
   "execution_count": 2,
   "id": "e8d0916a-697a-4926-8791-fee64ea1274e",
   "metadata": {},
   "outputs": [
    {
     "data": {
      "text/plain": [
       "21927"
      ]
     },
     "execution_count": 2,
     "metadata": {},
     "output_type": "execute_result"
    }
   ],
   "source": [
    "len(speech_text)"
   ]
  },
  {
   "cell_type": "code",
   "execution_count": 3,
   "id": "98bc5b16-6037-4217-9c3e-9b21849cb0f4",
   "metadata": {},
   "outputs": [
    {
     "data": {
      "text/plain": [
       "3750"
      ]
     },
     "execution_count": 3,
     "metadata": {},
     "output_type": "execute_result"
    }
   ],
   "source": [
    "len(speech_text.split())  # no. of words"
   ]
  },
  {
   "cell_type": "markdown",
   "id": "8d29ba9f-f65b-4fc3-888e-b3094ed1ead7",
   "metadata": {},
   "source": [
    "## Text Splitter\n",
    "Even though the separator is `\"\\n\\n\"`, this will not be an hard enforcement. It will look to chunk size and try to keep the chunks the same size (~1000). Avoids too small chunks."
   ]
  },
  {
   "cell_type": "code",
   "execution_count": 7,
   "id": "6ce699bd-128b-4f64-8a50-0e95ea9c72c6",
   "metadata": {},
   "outputs": [],
   "source": [
    "text_splitter = CharacterTextSplitter(separator=\"\\n\\n\", chunk_size=1000)"
   ]
  },
  {
   "cell_type": "code",
   "execution_count": 8,
   "id": "1a64988d-8669-4461-a1bb-7177ab5fca47",
   "metadata": {},
   "outputs": [],
   "source": [
    "texts = text_splitter.create_documents([speech_text])"
   ]
  },
  {
   "cell_type": "code",
   "execution_count": 9,
   "id": "5dad9d9b-ee4d-4b97-aa64-6589575e0030",
   "metadata": {},
   "outputs": [
    {
     "data": {
      "text/plain": [
       "28"
      ]
     },
     "execution_count": 9,
     "metadata": {},
     "output_type": "execute_result"
    }
   ],
   "source": [
    "len(texts)"
   ]
  },
  {
   "cell_type": "code",
   "execution_count": 10,
   "id": "15b300d2-8a3b-464b-9c8e-3b536cad76e4",
   "metadata": {},
   "outputs": [
    {
     "data": {
      "text/plain": [
       "Document(page_content=\"This Nation in the past two years has become an active partner in the world's greatest war against human slavery.\\n\\nWe have joined with like-minded people in order to defend ourselves in a world that has been gravely threatened with gangster rule.\\n\\nBut I do not think that any of us Americans can be content with mere survival. Sacrifices that we and our allies are making impose upon us all a sacred obligation to see to it that out of this war we and our children will gain something better than mere survival.\\n\\nWe are united in determination that this war shall not be followed by another interim which leads to new disaster- that we shall not repeat the tragic errors of ostrich isolationism—that we shall not repeat the excesses of the wild twenties when this Nation went for a joy ride on a roller coaster which ended in a tragic crash.\", metadata={})"
      ]
     },
     "execution_count": 10,
     "metadata": {},
     "output_type": "execute_result"
    }
   ],
   "source": [
    "texts[0]"
   ]
  },
  {
   "cell_type": "markdown",
   "id": "40521f13-cb79-477d-a688-7a198e895a39",
   "metadata": {},
   "source": [
    "## TikToken\n",
    "Tiktoken is by OpenAI but runs locally, no costs."
   ]
  },
  {
   "cell_type": "code",
   "execution_count": 11,
   "id": "239a8529-8824-418a-9913-007bcf61842d",
   "metadata": {},
   "outputs": [],
   "source": [
    "text_splitter = CharacterTextSplitter.from_tiktoken_encoder(chunk_size=500)"
   ]
  },
  {
   "cell_type": "code",
   "execution_count": 12,
   "id": "08f058cf-a976-48c5-a8cd-9213d12f7662",
   "metadata": {},
   "outputs": [],
   "source": [
    "texts = text_splitter.split_text(speech_text)  # or create_documents"
   ]
  },
  {
   "cell_type": "code",
   "execution_count": 13,
   "id": "0462319f-3380-43e1-ab9f-899bea22f0bc",
   "metadata": {},
   "outputs": [
    {
     "data": {
      "text/plain": [
       "15"
      ]
     },
     "execution_count": 13,
     "metadata": {},
     "output_type": "execute_result"
    }
   ],
   "source": [
    "len(texts)"
   ]
  },
  {
   "cell_type": "code",
   "execution_count": 14,
   "id": "7eb7bf10-3f2f-4e85-8b89-202e83c4f140",
   "metadata": {},
   "outputs": [
    {
     "data": {
      "text/plain": [
       "'This Nation in the past two years has become an active partner in the world\\'s greatest war against human slavery.\\n\\nWe have joined with like-minded people in order to defend ourselves in a world that has been gravely threatened with gangster rule.\\n\\nBut I do not think that any of us Americans can be content with mere survival. Sacrifices that we and our allies are making impose upon us all a sacred obligation to see to it that out of this war we and our children will gain something better than mere survival.\\n\\nWe are united in determination that this war shall not be followed by another interim which leads to new disaster- that we shall not repeat the tragic errors of ostrich isolationism—that we shall not repeat the excesses of the wild twenties when this Nation went for a joy ride on a roller coaster which ended in a tragic crash.\\n\\nWhen Mr. Hull went to Moscow in October, and when I went to Cairo and Teheran in November, we knew that we were in agreement with our allies in our common determination to fight and win this war. But there were many vital questions concerning the future peace, and they were discussed in an atmosphere of complete candor and harmony.\\n\\nIn the last war such discussions, such meetings, did not even begin until the shooting had stopped and the delegates began to assemble at the peace table. There had been no previous opportunities for man-to-man discussions which lead to meetings of minds. The result was a peace which was not a peace. That was a mistake which we are not repeating in this war.\\n\\nAnd right here I want to address a word or two to some suspicious souls who are fearful that Mr. Hull or I have made \"commitments\" for the future which might pledge this Nation to secret treaties, or to enacting the role of Santa Claus.\\n\\nTo such suspicious souls—using a polite terminology—I wish to say that Mr. Churchill, and Marshal Stalin, and Generalissimo Chiang Kai-shek are all thoroughly conversant with the provisions of our Constitution. And so is Mr. Hull. And so am I.\\n\\nOf course we made some commitments. We most certainly committed ourselves to very large and very specific military plans which require the use of all Allied forces to bring about the defeat of our enemies at the earliest possible time.\\n\\nBut there were no secret treaties or political or financial commitments.'"
      ]
     },
     "execution_count": 14,
     "metadata": {},
     "output_type": "execute_result"
    }
   ],
   "source": [
    "texts[0]"
   ]
  }
 ],
 "metadata": {
  "kernelspec": {
   "display_name": "Python 3 (ipykernel)",
   "language": "python",
   "name": "python3"
  },
  "language_info": {
   "codemirror_mode": {
    "name": "ipython",
    "version": 3
   },
   "file_extension": ".py",
   "mimetype": "text/x-python",
   "name": "python",
   "nbconvert_exporter": "python",
   "pygments_lexer": "ipython3",
   "version": "3.11.1"
  }
 },
 "nbformat": 4,
 "nbformat_minor": 5
}
