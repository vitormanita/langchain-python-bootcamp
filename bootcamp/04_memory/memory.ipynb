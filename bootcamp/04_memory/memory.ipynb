{
 "cells": [
  {
   "cell_type": "markdown",
   "id": "77f4d08f-6dcf-4baf-acee-a02d7d72412d",
   "metadata": {},
   "source": [
    "# Memory\n",
    "Store memory of prior conversations. Some options with LangChain:\n",
    "- Store all messages\n",
    "- Store a limited number of interactions\n",
    "- Store a limited number of tokens\n",
    "\n",
    "It also comes with specialized chains that store memory with other transformations, such as a vector store or auto-summarizing conversations.\n",
    "\n",
    "Topics:\n",
    "- ChatMessageHistory\n",
    "- ConversationBufferMemory\n",
    "- ConversationBufferWindowMemory\n",
    "- ConversationSummaryMemory"
   ]
  },
  {
   "cell_type": "markdown",
   "id": "d1cb1a68-f25a-4139-8387-b73bdbfcdc4e",
   "metadata": {},
   "source": [
    "# ChatMessageHistory"
   ]
  },
  {
   "cell_type": "code",
   "execution_count": 1,
   "id": "1dbe0cf9-5a07-4de5-8b18-b3471139d02d",
   "metadata": {},
   "outputs": [],
   "source": [
    "from langchain.memory import ChatMessageHistory"
   ]
  },
  {
   "cell_type": "code",
   "execution_count": 2,
   "id": "5e943dda-7049-4fc7-9b93-9bc70d8705c3",
   "metadata": {},
   "outputs": [],
   "source": [
    "history = ChatMessageHistory()"
   ]
  },
  {
   "cell_type": "code",
   "execution_count": 3,
   "id": "ed053e9b-a71c-4984-bac7-f27c66f70469",
   "metadata": {},
   "outputs": [],
   "source": [
    "history.add_user_message(\"Hello, nice to meet you\")\n",
    "history.add_ai_message(\"Nice to meet you!\")"
   ]
  },
  {
   "cell_type": "code",
   "execution_count": 4,
   "id": "2bd2c163-b653-41e8-af7b-4ff543fa2d5c",
   "metadata": {},
   "outputs": [
    {
     "data": {
      "text/plain": [
       "[HumanMessage(content='Hello, nice to meet you', additional_kwargs={}, example=False),\n",
       " AIMessage(content='Nice to meet you!', additional_kwargs={}, example=False)]"
      ]
     },
     "execution_count": 4,
     "metadata": {},
     "output_type": "execute_result"
    }
   ],
   "source": [
    "history.messages"
   ]
  },
  {
   "cell_type": "markdown",
   "id": "0c90001d-cb9a-4467-a929-610489820fac",
   "metadata": {},
   "source": [
    "# ConversationBufferMemory"
   ]
  },
  {
   "cell_type": "code",
   "execution_count": 7,
   "id": "d62dcc75-a0f8-4eb0-bfd3-9c8496352d4c",
   "metadata": {},
   "outputs": [],
   "source": [
    "from langchain.chat_models import ChatOpenAI\n",
    "from langchain.chains import ConversationChain\n",
    "from langchain.memory import ConversationBufferMemory"
   ]
  },
  {
   "cell_type": "code",
   "execution_count": 17,
   "id": "6278911e-1ad5-48f3-b5ab-f00181999bcf",
   "metadata": {},
   "outputs": [],
   "source": [
    "llm = ChatOpenAI()"
   ]
  },
  {
   "cell_type": "code",
   "execution_count": 18,
   "id": "8a038933-e59b-4ddf-bc72-60f6adc0c1cc",
   "metadata": {},
   "outputs": [],
   "source": [
    "memory = ConversationBufferMemory()"
   ]
  },
  {
   "cell_type": "code",
   "execution_count": 19,
   "id": "66a154bb-03a8-4b85-884c-fe5c58b9e274",
   "metadata": {},
   "outputs": [],
   "source": [
    "conversation = ConversationChain(llm=llm, memory=memory, verbose=True)"
   ]
  },
  {
   "cell_type": "markdown",
   "id": "f0ee3a69-a392-4474-bf27-bfaa28ce0be1",
   "metadata": {},
   "source": [
    "Contrary to previous cases, we now don't need to store the output into a variable, they are stored in memory."
   ]
  },
  {
   "cell_type": "code",
   "execution_count": 20,
   "id": "45fbf34b-70f8-41fe-a074-de77d580c28f",
   "metadata": {},
   "outputs": [
    {
     "name": "stdout",
     "output_type": "stream",
     "text": [
      "\n",
      "\n",
      "\u001b[1m> Entering new ConversationChain chain...\u001b[0m\n",
      "Prompt after formatting:\n",
      "\u001b[32;1m\u001b[1;3mThe following is a friendly conversation between a human and an AI. The AI is talkative and provides lots of specific details from its context. If the AI does not know the answer to a question, it truthfully says it does not know.\n",
      "\n",
      "Current conversation:\n",
      "\n",
      "Human: Hello, nice to meet you\n",
      "AI:\u001b[0m\n",
      "\n",
      "\u001b[1m> Finished chain.\u001b[0m\n"
     ]
    },
    {
     "data": {
      "text/plain": [
       "\"Hello! It's a pleasure to meet you too. I'm an AI designed to assist with various tasks and provide information. How can I help you today?\""
      ]
     },
     "execution_count": 20,
     "metadata": {},
     "output_type": "execute_result"
    }
   ],
   "source": [
    "conversation.predict(input=\"Hello, nice to meet you\")"
   ]
  },
  {
   "cell_type": "code",
   "execution_count": 21,
   "id": "d0a01fce-2abd-4da0-a121-36b1c63e1a16",
   "metadata": {},
   "outputs": [
    {
     "name": "stdout",
     "output_type": "stream",
     "text": [
      "\n",
      "\n",
      "\u001b[1m> Entering new ConversationChain chain...\u001b[0m\n",
      "Prompt after formatting:\n",
      "\u001b[32;1m\u001b[1;3mThe following is a friendly conversation between a human and an AI. The AI is talkative and provides lots of specific details from its context. If the AI does not know the answer to a question, it truthfully says it does not know.\n",
      "\n",
      "Current conversation:\n",
      "Human: Hello, nice to meet you\n",
      "AI: Hello! It's a pleasure to meet you too. I'm an AI designed to assist with various tasks and provide information. How can I help you today?\n",
      "Human: Tell me about an interesting Physics fact.\n",
      "AI:\u001b[0m\n",
      "\n",
      "\u001b[1m> Finished chain.\u001b[0m\n"
     ]
    },
    {
     "data": {
      "text/plain": [
       "\"Sure! Here's an interesting Physics fact for you: Did you know that light travels at approximately 299,792,458 meters per second in a vacuum? This is known as the speed of light, and it is the fastest speed that anything can travel in the universe. It plays a crucial role in various phenomena, such as determining the behavior of electromagnetic waves and the principles of relativity.\""
      ]
     },
     "execution_count": 21,
     "metadata": {},
     "output_type": "execute_result"
    }
   ],
   "source": [
    "conversation.predict(input=\"Tell me about an interesting Physics fact.\")"
   ]
  },
  {
   "cell_type": "code",
   "execution_count": 25,
   "id": "c81081ea-41c3-4a7c-911a-29e601d879ca",
   "metadata": {},
   "outputs": [
    {
     "name": "stdout",
     "output_type": "stream",
     "text": [
      "Human: Hello, nice to meet you\n",
      "AI: Hello! It's a pleasure to meet you too. I'm an AI designed to assist with various tasks and provide information. How can I help you today?\n",
      "Human: Tell me about an interesting Physics fact.\n",
      "AI: Sure! Here's an interesting Physics fact for you: Did you know that light travels at approximately 299,792,458 meters per second in a vacuum? This is known as the speed of light, and it is the fastest speed that anything can travel in the universe. It plays a crucial role in various phenomena, such as determining the behavior of electromagnetic waves and the principles of relativity.\n"
     ]
    }
   ],
   "source": [
    "print(memory.buffer)"
   ]
  },
  {
   "cell_type": "code",
   "execution_count": 26,
   "id": "68f13700-8e70-49ec-81f8-b46b78ef5341",
   "metadata": {},
   "outputs": [
    {
     "data": {
      "text/plain": [
       "{'history': \"Human: Hello, nice to meet you\\nAI: Hello! It's a pleasure to meet you too. I'm an AI designed to assist with various tasks and provide information. How can I help you today?\\nHuman: Tell me about an interesting Physics fact.\\nAI: Sure! Here's an interesting Physics fact for you: Did you know that light travels at approximately 299,792,458 meters per second in a vacuum? This is known as the speed of light, and it is the fastest speed that anything can travel in the universe. It plays a crucial role in various phenomena, such as determining the behavior of electromagnetic waves and the principles of relativity.\"}"
      ]
     },
     "execution_count": 26,
     "metadata": {},
     "output_type": "execute_result"
    }
   ],
   "source": [
    "memory.load_memory_variables({})"
   ]
  },
  {
   "cell_type": "markdown",
   "id": "c60409b2-8ee6-4baf-a5ad-2569ce8f609d",
   "metadata": {},
   "source": [
    "## How to store this into a file?\n",
    "\n",
    "Easiest way, with pickle to write to disk."
   ]
  },
  {
   "cell_type": "code",
   "execution_count": 28,
   "id": "6862f70f-3317-4eb9-bc3f-ebc1776a80f6",
   "metadata": {},
   "outputs": [],
   "source": [
    "# conversation.memory"
   ]
  },
  {
   "cell_type": "code",
   "execution_count": 29,
   "id": "f83dcb3a-e211-4bbc-87f3-73101a38b4be",
   "metadata": {},
   "outputs": [],
   "source": [
    "import pickle"
   ]
  },
  {
   "cell_type": "code",
   "execution_count": 30,
   "id": "d9537923-a15c-4f2f-827d-bcb3c893034b",
   "metadata": {},
   "outputs": [],
   "source": [
    "pickled_str = pickle.dumps(conversation.memory)"
   ]
  },
  {
   "cell_type": "code",
   "execution_count": 31,
   "id": "47c64acb-4077-425f-9216-c2c9df245442",
   "metadata": {},
   "outputs": [],
   "source": [
    "# wb: write bytes\n",
    "with open(\"conversation_memory.pkl\", mode=\"wb\") as f:\n",
    "    f.write(pickled_str)"
   ]
  },
  {
   "cell_type": "code",
   "execution_count": 37,
   "id": "3491d25f-636b-4a98-b9e0-ec9e6389f25a",
   "metadata": {},
   "outputs": [],
   "source": [
    "# rb: read bytes\n",
    "with open(\"conversation_memory.pkl\", mode=\"rb\") as f:\n",
    "    new_memory_loaded = f.read()\n",
    "\n",
    "llm = ChatOpenAI()\n",
    "reload_conversation = ConversationChain(llm=llm, memory=pickle.loads(new_memory_loaded))"
   ]
  },
  {
   "cell_type": "code",
   "execution_count": 38,
   "id": "524d44a6-98d7-4359-b7a2-54c081679061",
   "metadata": {},
   "outputs": [
    {
     "name": "stdout",
     "output_type": "stream",
     "text": [
      "Human: Hello, nice to meet you\n",
      "AI: Hello! It's a pleasure to meet you too. I'm an AI designed to assist with various tasks and provide information. How can I help you today?\n",
      "Human: Tell me about an interesting Physics fact.\n",
      "AI: Sure! Here's an interesting Physics fact for you: Did you know that light travels at approximately 299,792,458 meters per second in a vacuum? This is known as the speed of light, and it is the fastest speed that anything can travel in the universe. It plays a crucial role in various phenomena, such as determining the behavior of electromagnetic waves and the principles of relativity.\n"
     ]
    }
   ],
   "source": [
    "print(reload_conversation.memory.buffer)"
   ]
  },
  {
   "cell_type": "markdown",
   "id": "b9e9bcfa-e243-4292-ac88-1070dc6511fe",
   "metadata": {},
   "source": [
    "# ConversationBufferWindowMemory\n",
    "Limited window size (interactions)"
   ]
  },
  {
   "cell_type": "code",
   "execution_count": 39,
   "id": "35df5e0d-fc37-4e92-ba9f-cc33e7a2a2a3",
   "metadata": {},
   "outputs": [],
   "source": [
    "from langchain.memory import ConversationBufferWindowMemory"
   ]
  },
  {
   "cell_type": "code",
   "execution_count": 40,
   "id": "1497b3c4-9db3-4777-a732-326eedae70f3",
   "metadata": {},
   "outputs": [],
   "source": [
    "# Human and AI is one interaction\n",
    "# k=1 WINDOW --> k interactions"
   ]
  },
  {
   "cell_type": "code",
   "execution_count": 42,
   "id": "7c320d3f-ca42-4b82-b085-a4f13c8146cc",
   "metadata": {},
   "outputs": [],
   "source": [
    "llm = ChatOpenAI()\n",
    "memory = ConversationBufferWindowMemory(k=1)\n",
    "\n",
    "conversation = ConversationChain(llm=llm, memory=memory)"
   ]
  },
  {
   "cell_type": "code",
   "execution_count": 43,
   "id": "e622a13b-e52a-4310-a7d8-8e9647e3240e",
   "metadata": {},
   "outputs": [
    {
     "data": {
      "text/plain": [
       "\"Hello! I'm an AI, so I don't have feelings, but I'm here and ready to assist you. How can I help you today?\""
      ]
     },
     "execution_count": 43,
     "metadata": {},
     "output_type": "execute_result"
    }
   ],
   "source": [
    "conversation.predict(input=\"Hello, how are you?\")"
   ]
  },
  {
   "cell_type": "code",
   "execution_count": 44,
   "id": "4c1dfdb7-3364-4ba7-9896-5a14c5977059",
   "metadata": {},
   "outputs": [
    {
     "data": {
      "text/plain": [
       "'Sure! Did you know that the number pi (π) is an irrational number, which means it cannot be expressed as a simple fraction? Its decimal representation goes on forever without repeating, making it a fascinating and mysterious number in mathematics.'"
      ]
     },
     "execution_count": 44,
     "metadata": {},
     "output_type": "execute_result"
    }
   ],
   "source": [
    "conversation.predict(input=\"Tell me a math fact.\")"
   ]
  },
  {
   "cell_type": "code",
   "execution_count": 45,
   "id": "bf1e73c9-2f76-459c-900e-65b8887a7c7d",
   "metadata": {},
   "outputs": [
    {
     "data": {
      "text/plain": [
       "'Certainly! Mars is the fourth planet from the Sun in our solar system. It is often called the \"Red Planet\" due to its reddish appearance, which is caused by iron oxide (or rust) on its surface. Mars has a thin atmosphere composed mostly of carbon dioxide, which makes it inhospitable to human life as we know it. However, scientists believe that Mars may have had liquid water in the past, and there is ongoing research to determine if Mars could support microbial life.'"
      ]
     },
     "execution_count": 45,
     "metadata": {},
     "output_type": "execute_result"
    }
   ],
   "source": [
    "conversation.predict(input=\"Tell me a fact about mars.\")"
   ]
  },
  {
   "cell_type": "code",
   "execution_count": 49,
   "id": "8e2752c1-2ee5-4b23-9b94-fc6da48e9a75",
   "metadata": {},
   "outputs": [
    {
     "name": "stdout",
     "output_type": "stream",
     "text": [
      "Human: Tell me a fact about mars.\n",
      "AI: Certainly! Mars is the fourth planet from the Sun in our solar system. It is often called the \"Red Planet\" due to its reddish appearance, which is caused by iron oxide (or rust) on its surface. Mars has a thin atmosphere composed mostly of carbon dioxide, which makes it inhospitable to human life as we know it. However, scientists believe that Mars may have had liquid water in the past, and there is ongoing research to determine if Mars could support microbial life.\n"
     ]
    }
   ],
   "source": [
    "print(conversation.memory.buffer)"
   ]
  },
  {
   "cell_type": "markdown",
   "id": "3b89c50c-bf9f-4354-8dfe-565c9b3954f2",
   "metadata": {},
   "source": [
    "# ConversationSummaryMemory"
   ]
  },
  {
   "cell_type": "code",
   "execution_count": 50,
   "id": "d9b50ccc-6771-4fd9-b105-f61a7b6dd1b2",
   "metadata": {},
   "outputs": [],
   "source": [
    "from langchain.memory import ConversationSummaryBufferMemory"
   ]
  },
  {
   "cell_type": "code",
   "execution_count": 57,
   "id": "862be1a2-a820-4801-b05d-f401169d1dde",
   "metadata": {},
   "outputs": [],
   "source": [
    "llm = ChatOpenAI()\n",
    "\n",
    "# we need to parse a model because it will use it to generate a summary\n",
    "memory = ConversationSummaryBufferMemory(llm=llm, max_token_limit=100) \n",
    "\n",
    "# Human AI Human AI --> LLM Summary --> "
   ]
  },
  {
   "cell_type": "code",
   "execution_count": 58,
   "id": "ac1374a3-e98d-4eac-8f60-2d9451799850",
   "metadata": {},
   "outputs": [],
   "source": [
    "conversation = ConversationChain(llm=llm, memory=memory)"
   ]
  },
  {
   "cell_type": "code",
   "execution_count": 59,
   "id": "6775303d-bf3d-4fce-b830-838731e07eb1",
   "metadata": {},
   "outputs": [
    {
     "data": {
      "text/plain": [
       "\"Sure! San Francisco is a beautiful city with lots to offer. In January 2024, there are several exciting things you can do. Here are some travel plans for you:\\n\\n1. Visit the Golden Gate Bridge: This iconic landmark is a must-see in San Francisco. You can take a walk across the bridge and enjoy breathtaking views of the city and the bay.\\n\\n2. Explore Alcatraz Island: Take a ferry ride to Alcatraz Island and tour the famous former prison. Learn about its intriguing history and enjoy stunning views of the city skyline.\\n\\n3. Visit Fisherman's Wharf: This vibrant waterfront area is full of shops, restaurants, and attractions. You can indulge in delicious seafood, go on a bay cruise, or visit the famous Pier 39 with its sea lions.\\n\\n4. Explore Chinatown: San Francisco's Chinatown is the largest in North America. Take a stroll through its colorful streets, visit temples, and try authentic Chinese cuisine.\\n\\n5. Explore Golden Gate Park: This expansive park offers a variety of attractions, including the Japanese Tea Garden, the de Young Museum, and the California Academy of Sciences.\\n\\n6. Take a cable car ride: San Francisco's iconic cable cars are a fun way to explore the city. Hop on a cable car and enjoy a scenic ride through the hilly streets.\\n\\n7. Visit the Painted Ladies: These picturesque Victorian houses are a famous sight in San Francisco. Located near Alamo Square, they offer a great photo opportunity.\\n\\n8. Enjoy the city's culinary scene: San Francisco is known for its diverse and delicious food. Don't miss the chance to try local favorites like clam chowder in a sourdough bread bowl or a Mission-style burrito.\\n\\nRemember to check for any specific events or festivals happening in January 2024, as San Francisco often hosts a variety of cultural and artistic events throughout the year. Enjoy your trip to San Francisco!\""
      ]
     },
     "execution_count": 59,
     "metadata": {},
     "output_type": "execute_result"
    }
   ],
   "source": [
    "conversation.predict(input=\"Give me some travel plans for San Francisco for January 2024\")"
   ]
  },
  {
   "cell_type": "code",
   "execution_count": 60,
   "id": "b70d9620-6954-419f-aac0-6c6e11928e30",
   "metadata": {},
   "outputs": [
    {
     "data": {
      "text/plain": [
       "\"In December 2024, New York City will be bustling with holiday spirit and festive activities. Here are some travel plans for your visit:\\n\\n1. Visit Rockefeller Center: Enjoy the iconic Christmas tree and go ice skating in the Rockefeller Center ice rink. The area is beautifully decorated with lights and holiday decorations.\\n\\n2. Explore Times Square: Experience the vibrant energy of Times Square, especially during the New Year's Eve celebrations. You can watch the famous ball drop and enjoy the lively atmosphere.\\n\\n3. Take a walk in Central Park: Despite the colder weather, Central Park is still a wonderful place to visit. You can take a stroll through the park, enjoy the peaceful surroundings, and maybe even catch a horse-drawn carriage ride.\\n\\n4. Discover the holiday markets: New York City is known for its diverse holiday markets, such as the Union Square Holiday Market and the Bryant Park Winter Village. These markets offer unique gifts, delicious food, and a festive atmosphere.\\n\\n5. Visit the Metropolitan Museum of Art: Explore the world-renowned Metropolitan Museum of Art, which houses an extensive collection of art from various cultures and time periods. It's a great way to spend a cold winter day indoors.\\n\\n6. Take in a Broadway show: New York City is famous for its Broadway productions. Catching a show is a must-do while you're in town. There are plenty of options to choose from, ranging from classic musicals to new and exciting productions.\\n\\n7. Indulge in holiday treats: Don't miss out on trying some of New York City's iconic holiday treats, such as hot chocolate from Serendipity 3, gingerbread cookies from Eileen's Special Cheesecake, or a slice of holiday-themed pie from Four & Twenty Blackbirds.\\n\\nRemember to check for specific events or festivals happening in New York City during December 2024, as there might be additional activities or attractions worth considering during your visit.\""
      ]
     },
     "execution_count": 60,
     "metadata": {},
     "output_type": "execute_result"
    }
   ],
   "source": [
    "conversation.predict(input=\"Give me some travel plans for New York City for December 2024\")"
   ]
  },
  {
   "cell_type": "code",
   "execution_count": 66,
   "id": "ce8f163a-6a0f-436f-a241-167ab3a4f18d",
   "metadata": {},
   "outputs": [
    {
     "data": {
      "text/plain": [
       "{'history': \"System: The human asks the AI for travel plans for San Francisco in January 2024. The AI provides a comprehensive list of attractions and activities, including visiting the Golden Gate Bridge, exploring Alcatraz Island, visiting Fisherman's Wharf, exploring Chinatown, exploring Golden Gate Park, taking a cable car ride, visiting the Painted Ladies, and enjoying the city's culinary scene. The AI also advises checking for specific events or festivals happening during that time. The human then asks for travel plans for New York City in December 2024. The AI provides a list of activities, such as visiting Rockefeller Center, exploring Times Square during New Year's Eve celebrations, taking a walk in Central Park, discovering holiday markets, visiting the Metropolitan Museum of Art, watching a Broadway show, and indulging in holiday treats. The AI also advises checking for specific events or festivals happening in New York City during that time.\"}"
      ]
     },
     "execution_count": 66,
     "metadata": {},
     "output_type": "execute_result"
    }
   ],
   "source": [
    "conversation.memory.load_memory_variables({})"
   ]
  },
  {
   "cell_type": "code",
   "execution_count": null,
   "id": "6bddeac9-4444-411a-b81d-4ac655587d0a",
   "metadata": {},
   "outputs": [],
   "source": []
  }
 ],
 "metadata": {
  "kernelspec": {
   "display_name": "Python 3 (ipykernel)",
   "language": "python",
   "name": "python3"
  },
  "language_info": {
   "codemirror_mode": {
    "name": "ipython",
    "version": 3
   },
   "file_extension": ".py",
   "mimetype": "text/x-python",
   "name": "python",
   "nbconvert_exporter": "python",
   "pygments_lexer": "ipython3",
   "version": "3.11.1"
  }
 },
 "nbformat": 4,
 "nbformat_minor": 5
}
