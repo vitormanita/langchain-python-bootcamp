{
 "cells": [
  {
   "attachments": {},
   "cell_type": "markdown",
   "id": "b8fd3f4f-6a88-4e69-8b55-64692792e3d2",
   "metadata": {},
   "source": [
    "# Chains\n",
    "\n",
    "Chains allow us to link the output of one LLM call as the input of another call.\n",
    "\n",
    "Topics:\n",
    "- LLMChain\n",
    "- SimpleSequentialChain\n",
    "- SequentialChain\n",
    "- LLMRouterChain\n",
    "- TransformChain\n",
    "- OpenAI Function Calling\n",
    "- MathChain\n",
    "- AdditionalChains"
   ]
  },
  {
   "attachments": {},
   "cell_type": "markdown",
   "id": "6bb06486-24ee-46ab-a47d-5c99e58cd1d9",
   "metadata": {},
   "source": [
    "# Chain object"
   ]
  },
  {
   "cell_type": "code",
   "execution_count": 1,
   "id": "453c5702-30f7-418e-9ba3-885fccaa88c5",
   "metadata": {},
   "outputs": [],
   "source": [
    "from langchain.chat_models import ChatOpenAI\n",
    "from langchain.prompts.chat import ChatPromptTemplate, HumanMessagePromptTemplate"
   ]
  },
  {
   "cell_type": "code",
   "execution_count": 2,
   "id": "3276626a-2468-457b-931f-9c116487c589",
   "metadata": {},
   "outputs": [],
   "source": [
    "human_prompt = HumanMessagePromptTemplate.from_template(\"Make up a funny company name for a company that makes: {product}\")\n",
    "\n",
    "chat_prompt = ChatPromptTemplate.from_messages([human_prompt])"
   ]
  },
  {
   "cell_type": "code",
   "execution_count": 3,
   "id": "f37da90e-0e6b-48cf-8892-35fe1d2fe043",
   "metadata": {},
   "outputs": [],
   "source": [
    "chat = ChatOpenAI()"
   ]
  },
  {
   "cell_type": "code",
   "execution_count": 4,
   "id": "f67134e6-5ee8-4139-af73-11529636cd7c",
   "metadata": {},
   "outputs": [],
   "source": [
    "from langchain.chains import LLMChain"
   ]
  },
  {
   "cell_type": "code",
   "execution_count": 5,
   "id": "7360fa66-887e-4207-a04a-87ccabb61b61",
   "metadata": {},
   "outputs": [],
   "source": [
    "# 2 params: LLM and Prompt\n",
    "chain = LLMChain(llm=chat, prompt=chat_prompt)"
   ]
  },
  {
   "cell_type": "code",
   "execution_count": 6,
   "id": "92cb7cad-d8e7-478e-bfe8-6ac3f4f67758",
   "metadata": {},
   "outputs": [],
   "source": [
    "result = chain.run(product=\"Computers\")"
   ]
  },
  {
   "cell_type": "code",
   "execution_count": 7,
   "id": "da979027-6735-4444-8cee-56e2407ac6fc",
   "metadata": {},
   "outputs": [
    {
     "data": {
      "text/plain": [
       "'Byte Me Computers'"
      ]
     },
     "execution_count": 7,
     "metadata": {},
     "output_type": "execute_result"
    }
   ],
   "source": [
    "result"
   ]
  },
  {
   "attachments": {},
   "cell_type": "markdown",
   "id": "0cc0c3d1-10f2-4bd6-a98b-da23990af51f",
   "metadata": {},
   "source": [
    "Output of chains is not as complex as each individual object."
   ]
  },
  {
   "attachments": {},
   "cell_type": "markdown",
   "id": "3a46520c-b5f6-45f3-bdfa-7eec1248e1c1",
   "metadata": {},
   "source": [
    "# SimpleSequentialChain\n",
    "\n",
    "We now know how to create a single LLMChain, and we can now combine multiple chains.\n",
    "\n",
    "input --> LLMChain --> LLMChain --> LLMChain --> Output\n",
    "\n",
    "The chain of chains is a SimpleSequentialChain"
   ]
  },
  {
   "cell_type": "code",
   "execution_count": 8,
   "id": "8a99d3e0-9929-4add-84ca-2b79b945e94e",
   "metadata": {},
   "outputs": [],
   "source": [
    "from langchain.chains import LLMChain, SimpleSequentialChain"
   ]
  },
  {
   "cell_type": "code",
   "execution_count": 9,
   "id": "aeebdada-b16c-4649-9245-5ad92f797ff7",
   "metadata": {},
   "outputs": [],
   "source": [
    "llm = ChatOpenAI()"
   ]
  },
  {
   "cell_type": "code",
   "execution_count": 10,
   "id": "6f4a6279-7d65-483c-9f28-61b97d498f7b",
   "metadata": {},
   "outputs": [],
   "source": [
    "# Topic for a blog post --> [[ Outline --> Create blog post from outline ]] --> Blog post text"
   ]
  },
  {
   "attachments": {},
   "cell_type": "markdown",
   "id": "0bde395b-1210-4c90-bdd9-1f3d1f5a3913",
   "metadata": {},
   "source": [
    "Usually, multiple chains share the same model. But you can use different models. For example, a cheap model for a simpler task and a heavy model for a complex one."
   ]
  },
  {
   "cell_type": "code",
   "execution_count": 11,
   "id": "4d52d729-3ed7-429b-9297-04b1f7bcb2ab",
   "metadata": {},
   "outputs": [],
   "source": [
    "# First chain\n",
    "template = \"Give me a simple bullet point outline for a blog post on {topic}\"\n",
    "first_prompt = ChatPromptTemplate.from_template(template)\n",
    "chain_one = LLMChain(llm=llm, prompt=first_prompt)"
   ]
  },
  {
   "cell_type": "code",
   "execution_count": 12,
   "id": "217e2334-71e2-40db-b0c6-4ccde16ae8dd",
   "metadata": {},
   "outputs": [],
   "source": [
    "# Second chain\n",
    "template2 = \"Write a blog post using this outline {outline}\"\n",
    "second_prompt = ChatPromptTemplate.from_template(template2)\n",
    "chain_two = LLMChain(llm=llm, prompt=second_prompt)"
   ]
  },
  {
   "cell_type": "code",
   "execution_count": 13,
   "id": "5eb886d9-cf5b-4ce7-b43c-369e40cf7f2a",
   "metadata": {},
   "outputs": [],
   "source": [
    "full_chain = SimpleSequentialChain(chains=[chain_one, chain_two], verbose=True)"
   ]
  },
  {
   "attachments": {},
   "cell_type": "markdown",
   "id": "bd2b0a4a-b21f-4701-aff0-d9dff4d1562f",
   "metadata": {},
   "source": [
    "How does the chain know the variable names? (Topic and Outline). This is a limitation of the SimpleSequentialChain. It is limited to one input and one output. With a SequentialChain, we have that flexibility."
   ]
  },
  {
   "cell_type": "code",
   "execution_count": 23,
   "id": "6ec14e94-b75b-4c75-858b-b37a25fc2528",
   "metadata": {},
   "outputs": [
    {
     "name": "stdout",
     "output_type": "stream",
     "text": [
      "\n",
      "\n",
      "\u001b[1m> Entering new SimpleSequentialChain chain...\u001b[0m\n",
      "\u001b[36;1m\u001b[1;3m- Introduction to cheesecake as a popular dessert\n",
      "- Brief history of cheesecake's origins and evolution\n",
      "- Different types of cheesecake such as classic, New York-style, and specialty flavors\n",
      "- Ingredients commonly used in cheesecake recipes\n",
      "- Step-by-step instructions for making a basic cheesecake from scratch\n",
      "- Tips and tricks for achieving the perfect texture and flavor\n",
      "- Creative variations and toppings to enhance your cheesecake\n",
      "- Ideas for serving and presenting cheesecake\n",
      "- Healthier alternatives and substitutions for those with dietary restrictions\n",
      "- Conclusion and final thoughts on the versatility and deliciousness of cheesecake\u001b[0m\n",
      "\u001b[33;1m\u001b[1;3mIntroduction to Cheesecake as a Popular Dessert\n",
      "\n",
      "Cheesecake is a beloved dessert that has captured the hearts (and taste buds) of people around the world. With its rich and creamy texture, combined with a sweet and tangy flavor, cheesecake has become a staple in many dessert menus. In this blog post, we will explore the origins and evolution of cheesecake, the different types and flavors available, as well as tips and tricks for making the perfect cheesecake at home.\n",
      "\n",
      "Brief History of Cheesecake's Origins and Evolution\n",
      "\n",
      "Cheesecake can trace its roots back to ancient Greece, where it was served to athletes during the first Olympic games in 776 BC. The Greeks believed that cheesecake provided energy and strength to the athletes. Over time, the recipe for cheesecake spread throughout Europe, with each region adding its own unique twist. In the United States, cheesecake gained popularity in the 19th century and has since become a classic American dessert.\n",
      "\n",
      "Different Types of Cheesecake\n",
      "\n",
      "There are several types of cheesecake, each with its own distinct characteristics. The classic cheesecake is made with a graham cracker crust and a smooth and creamy filling. New York-style cheesecake is known for its dense and rich texture, while specialty flavors such as chocolate, strawberry, and caramel offer a delicious twist on the traditional recipe.\n",
      "\n",
      "Ingredients commonly used in Cheesecake Recipes\n",
      "\n",
      "The key ingredients in a cheesecake recipe include cream cheese, sugar, eggs, and vanilla extract. Additional ingredients such as sour cream, lemon juice, and flour may be added to enhance the flavor and texture. The crust is typically made from crushed graham crackers, butter, and sugar.\n",
      "\n",
      "Step-by-Step Instructions for Making a Basic Cheesecake from Scratch\n",
      "\n",
      "To make a basic cheesecake from scratch, start by preparing the crust. Mix together crushed graham crackers, melted butter, and sugar, then press the mixture into the bottom of a springform pan. Next, beat the cream cheese until smooth, then add sugar, eggs, and vanilla extract. Pour the filling into the crust and bake in the oven until set. Allow the cheesecake to cool before refrigerating for a few hours or overnight.\n",
      "\n",
      "Tips and Tricks for Achieving the Perfect Texture and Flavor\n",
      "\n",
      "To achieve the perfect texture and flavor, it's important to follow a few tips and tricks. First, make sure all ingredients are at room temperature before starting. This will ensure a smooth and creamy texture. When mixing the filling, be careful not to overbeat, as this can lead to a dense and heavy cheesecake. Lastly, allow the cheesecake to cool slowly in the oven with the door slightly ajar to prevent cracking.\n",
      "\n",
      "Creative Variations and Toppings to Enhance Your Cheesecake\n",
      "\n",
      "While a classic cheesecake is delicious on its own, there are endless possibilities for creative variations and toppings. Consider adding swirls of fruit puree, chocolate ganache, or caramel sauce to the filling before baking. You can also experiment with different crust options, such as chocolate cookie or nut-based crusts. For added texture and flavor, top your cheesecake with fresh fruit, whipped cream, or crushed cookies.\n",
      "\n",
      "Ideas for Serving and Presenting Cheesecake\n",
      "\n",
      "When it comes to serving and presenting cheesecake, there are no rules. You can slice the cheesecake into wedges and serve it on a dessert plate, or you can use a cookie cutter to create individual servings. Cheesecake can also be served chilled or at room temperature, depending on personal preference. For an elegant touch, garnish each slice with a mint leaf or a dusting of powdered sugar.\n",
      "\n",
      "Healthier Alternatives and Substitutions for Those with Dietary Restrictions\n",
      "\n",
      "For those with dietary restrictions or looking for healthier alternatives, there are options available. Consider using Greek yogurt or cottage cheese instead of cream cheese for a lighter version of cheesecake. You can also experiment with alternative sweeteners such as honey or maple syrup. For a gluten-free crust, use crushed gluten-free cookies or nuts instead of graham crackers.\n",
      "\n",
      "Conclusion and Final Thoughts on the Versatility and Deliciousness of Cheesecake\n",
      "\n",
      "Cheesecake is a dessert that has stood the test of time, evolving and adapting to suit different tastes and dietary needs. Whether you prefer a classic New York-style cheesecake or a unique flavor combination, there is a cheesecake out there for everyone. With a few simple ingredients and some patience, you can create a delicious and decadent cheesecake that will impress your friends and family. So go ahead, indulge in a slice of cheesecake and savor the creamy goodness that this popular dessert has to offer.\u001b[0m\n",
      "\n",
      "\u001b[1m> Finished chain.\u001b[0m\n"
     ]
    }
   ],
   "source": [
    "result = full_chain.run(\"Cheesecake\")"
   ]
  },
  {
   "cell_type": "code",
   "execution_count": 25,
   "id": "5e8d199a-0f43-4e79-9758-8126225a127a",
   "metadata": {},
   "outputs": [
    {
     "name": "stdout",
     "output_type": "stream",
     "text": [
      "Introduction to Cheesecake as a Popular Dessert\n",
      "\n",
      "Cheesecake is a beloved dessert that has captured the hearts (and taste buds) of people around the world. With its rich and creamy texture, combined with a sweet and tangy flavor, cheesecake has become a staple in many dessert menus. In this blog post, we will explore the origins and evolution of cheesecake, the different types and flavors available, as well as tips and tricks for making the perfect cheesecake at home.\n",
      "\n",
      "Brief History of Cheesecake's Origins and Evolution\n",
      "\n",
      "Cheesecake can trace its roots back to ancient Greece, where it was served to athletes during the first Olympic games in 776 BC. The Greeks believed that cheesecake provided energy and strength to the athletes. Over time, the recipe for cheesecake spread throughout Europe, with each region adding its own unique twist. In the United States, cheesecake gained popularity in the 19th century and has since become a classic American dessert.\n",
      "\n",
      "Different Types of Cheesecake\n",
      "\n",
      "There are several types of cheesecake, each with its own distinct characteristics. The classic cheesecake is made with a graham cracker crust and a smooth and creamy filling. New York-style cheesecake is known for its dense and rich texture, while specialty flavors such as chocolate, strawberry, and caramel offer a delicious twist on the traditional recipe.\n",
      "\n",
      "Ingredients commonly used in Cheesecake Recipes\n",
      "\n",
      "The key ingredients in a cheesecake recipe include cream cheese, sugar, eggs, and vanilla extract. Additional ingredients such as sour cream, lemon juice, and flour may be added to enhance the flavor and texture. The crust is typically made from crushed graham crackers, butter, and sugar.\n",
      "\n",
      "Step-by-Step Instructions for Making a Basic Cheesecake from Scratch\n",
      "\n",
      "To make a basic cheesecake from scratch, start by preparing the crust. Mix together crushed graham crackers, melted butter, and sugar, then press the mixture into the bottom of a springform pan. Next, beat the cream cheese until smooth, then add sugar, eggs, and vanilla extract. Pour the filling into the crust and bake in the oven until set. Allow the cheesecake to cool before refrigerating for a few hours or overnight.\n",
      "\n",
      "Tips and Tricks for Achieving the Perfect Texture and Flavor\n",
      "\n",
      "To achieve the perfect texture and flavor, it's important to follow a few tips and tricks. First, make sure all ingredients are at room temperature before starting. This will ensure a smooth and creamy texture. When mixing the filling, be careful not to overbeat, as this can lead to a dense and heavy cheesecake. Lastly, allow the cheesecake to cool slowly in the oven with the door slightly ajar to prevent cracking.\n",
      "\n",
      "Creative Variations and Toppings to Enhance Your Cheesecake\n",
      "\n",
      "While a classic cheesecake is delicious on its own, there are endless possibilities for creative variations and toppings. Consider adding swirls of fruit puree, chocolate ganache, or caramel sauce to the filling before baking. You can also experiment with different crust options, such as chocolate cookie or nut-based crusts. For added texture and flavor, top your cheesecake with fresh fruit, whipped cream, or crushed cookies.\n",
      "\n",
      "Ideas for Serving and Presenting Cheesecake\n",
      "\n",
      "When it comes to serving and presenting cheesecake, there are no rules. You can slice the cheesecake into wedges and serve it on a dessert plate, or you can use a cookie cutter to create individual servings. Cheesecake can also be served chilled or at room temperature, depending on personal preference. For an elegant touch, garnish each slice with a mint leaf or a dusting of powdered sugar.\n",
      "\n",
      "Healthier Alternatives and Substitutions for Those with Dietary Restrictions\n",
      "\n",
      "For those with dietary restrictions or looking for healthier alternatives, there are options available. Consider using Greek yogurt or cottage cheese instead of cream cheese for a lighter version of cheesecake. You can also experiment with alternative sweeteners such as honey or maple syrup. For a gluten-free crust, use crushed gluten-free cookies or nuts instead of graham crackers.\n",
      "\n",
      "Conclusion and Final Thoughts on the Versatility and Deliciousness of Cheesecake\n",
      "\n",
      "Cheesecake is a dessert that has stood the test of time, evolving and adapting to suit different tastes and dietary needs. Whether you prefer a classic New York-style cheesecake or a unique flavor combination, there is a cheesecake out there for everyone. With a few simple ingredients and some patience, you can create a delicious and decadent cheesecake that will impress your friends and family. So go ahead, indulge in a slice of cheesecake and savor the creamy goodness that this popular dessert has to offer.\n"
     ]
    }
   ],
   "source": [
    "print(result)"
   ]
  },
  {
   "attachments": {},
   "cell_type": "markdown",
   "id": "b8423836-e8b3-44d9-b48f-46fc373f14bf",
   "metadata": {},
   "source": [
    "# SequentialChain\n",
    "\n",
    "Very similar to SimpleSequentialChains, but allow to have access to all outputs from the internal LLMChains."
   ]
  },
  {
   "cell_type": "code",
   "execution_count": 14,
   "id": "b37ac465-8f94-4585-b10c-fa08da7ea043",
   "metadata": {},
   "outputs": [],
   "source": [
    "from langchain.chains import LLMChain, SimpleSequentialChain, SequentialChain"
   ]
  },
  {
   "cell_type": "code",
   "execution_count": 15,
   "id": "b81be786-b8aa-4dfe-af2e-debd9ec9cd0c",
   "metadata": {},
   "outputs": [],
   "source": [
    "llm = ChatOpenAI()"
   ]
  },
  {
   "cell_type": "code",
   "execution_count": 16,
   "id": "ef7a1e2a-8cd1-47d1-977c-6aec23ae213a",
   "metadata": {},
   "outputs": [],
   "source": [
    "# 3 Chains\n",
    "# Employee performance review input text\n",
    "# review_text --> LLMChain --> summary\n",
    "# Summary --> LLMChain --> Weaknesses\n",
    "# Weaknesses --> LLMChain --> Improvement Plan"
   ]
  },
  {
   "cell_type": "code",
   "execution_count": 34,
   "id": "3bd34009-48ac-47c0-96aa-530d45e6c29d",
   "metadata": {},
   "outputs": [],
   "source": [
    "template1 = \"Give a summary of this employee's performance review:\\n{review}\"\n",
    "prompt1 = ChatPromptTemplate.from_template(template1)\n",
    "chain1 = LLMChain(llm=llm, prompt=prompt1, output_key=\"review_summary\")  # specify output so next chain knows"
   ]
  },
  {
   "cell_type": "code",
   "execution_count": 35,
   "id": "5555a11b-e26b-466f-b093-2ed7a5c37b34",
   "metadata": {},
   "outputs": [],
   "source": [
    "template2 = \"Identify key employee weaknesses from this performance review summary:\\n{review_summary}\"  # needs to match output key\n",
    "prompt2 = ChatPromptTemplate.from_template(template2)\n",
    "chain2 = LLMChain(llm=llm, prompt=prompt2, output_key=\"weaknesses\")"
   ]
  },
  {
   "cell_type": "code",
   "execution_count": 38,
   "id": "d3aaf5e0-2bac-4bcb-89ed-db1526a54e6b",
   "metadata": {},
   "outputs": [],
   "source": [
    "template3 = \"Create a personalised improvement plan to help address and fix these weaknesses:\\n{weaknesses}\"  # needs to match output key\n",
    "prompt3 = ChatPromptTemplate.from_template(template3)\n",
    "chain3 = LLMChain(llm=llm, prompt=prompt3, output_key=\"final_plan\")"
   ]
  },
  {
   "cell_type": "code",
   "execution_count": 40,
   "id": "cd9181dc-c81d-4615-84cb-c22371d3bb61",
   "metadata": {},
   "outputs": [],
   "source": [
    "employee_review = '''\n",
    "Employee Information:\n",
    "Name: Joe Schmo\n",
    "Position: Software Engineer\n",
    "Date of Review: July 14, 2023\n",
    "\n",
    "Strengths:\n",
    "Joe is a highly skilled software engineer with a deep understanding of programming languages, algorithms, and software development best practices. His technical expertise shines through in his ability to efficiently solve complex problems and deliver high-quality code.\n",
    "\n",
    "One of Joe's greatest strengths is his collaborative nature. He actively engages with cross-functional teams, contributing valuable insights and seeking input from others. His open-mindedness and willingness to learn from colleagues make him a true team player.\n",
    "\n",
    "Joe consistently demonstrates initiative and self-motivation. He takes the lead in seeking out new projects and challenges, and his proactive attitude has led to significant improvements in existing processes and systems. His dedication to self-improvement and growth is commendable.\n",
    "\n",
    "Another notable strength is Joe's adaptability. He has shown great flexibility in handling changing project requirements and learning new technologies. This adaptability allows him to seamlessly transition between different projects and tasks, making him a valuable asset to the team.\n",
    "\n",
    "Joe's problem-solving skills are exceptional. He approaches issues with a logical mindset and consistently finds effective solutions, often thinking outside the box. His ability to break down complex problems into manageable parts is key to his success in resolving issues efficiently.\n",
    "\n",
    "Weaknesses:\n",
    "While Joe possesses numerous strengths, there are a few areas where he could benefit from improvement. One such area is time management. Occasionally, Joe struggles with effectively managing his time, resulting in missed deadlines or the need for additional support to complete tasks on time. Developing better prioritization and time management techniques would greatly enhance his efficiency.\n",
    "\n",
    "Another area for improvement is Joe's written communication skills. While he communicates well verbally, there have been instances where his written documentation lacked clarity, leading to confusion among team members. Focusing on enhancing his written communication abilities will help him effectively convey ideas and instructions.\n",
    "\n",
    "Additionally, Joe tends to take on too many responsibilities and hesitates to delegate tasks to others. This can result in an excessive workload and potential burnout. Encouraging him to delegate tasks appropriately will not only alleviate his own workload but also foster a more balanced and productive team environment.\n",
    "'''"
   ]
  },
  {
   "cell_type": "code",
   "execution_count": 41,
   "id": "124c28c3-79df-4f42-b2b0-290d30a19f14",
   "metadata": {},
   "outputs": [],
   "source": [
    "full_chain = SequentialChain(\n",
    "    chains=[chain1, chain2, chain3],\n",
    "    input_variables=[\"review\"],  # include the input of first chain\n",
    "    output_variables=[\"review_summary\", \"weaknesses\", \"final_plan\"],  # good practice to include all\n",
    "    verbose=True\n",
    ")"
   ]
  },
  {
   "cell_type": "code",
   "execution_count": 43,
   "id": "548b8461-650b-44d8-a93b-dac52438b0c0",
   "metadata": {},
   "outputs": [
    {
     "name": "stdout",
     "output_type": "stream",
     "text": [
      "\n",
      "\n",
      "\u001b[1m> Entering new SequentialChain chain...\u001b[0m\n",
      "\n",
      "\u001b[1m> Finished chain.\u001b[0m\n"
     ]
    }
   ],
   "source": [
    "result = full_chain(employee_review)  # no run.()"
   ]
  },
  {
   "attachments": {},
   "cell_type": "markdown",
   "id": "8732cbc0-e974-4527-b865-a0faa5c20a24",
   "metadata": {},
   "source": [
    "Verbose here does not do anything because we have access to all results in output. A dict with each step."
   ]
  },
  {
   "cell_type": "code",
   "execution_count": 45,
   "id": "ef3a5c27-256e-4979-9e80-65a303d02c85",
   "metadata": {},
   "outputs": [
    {
     "data": {
      "text/plain": [
       "dict"
      ]
     },
     "execution_count": 45,
     "metadata": {},
     "output_type": "execute_result"
    }
   ],
   "source": [
    "type(result)"
   ]
  },
  {
   "cell_type": "code",
   "execution_count": 46,
   "id": "f1e4e6c7-5bd0-4f48-9cf4-947500913a2f",
   "metadata": {},
   "outputs": [
    {
     "data": {
      "text/plain": [
       "dict_keys(['review', 'review_summary', 'weaknesses', 'final_plan'])"
      ]
     },
     "execution_count": 46,
     "metadata": {},
     "output_type": "execute_result"
    }
   ],
   "source": [
    "result.keys()"
   ]
  },
  {
   "cell_type": "code",
   "execution_count": 53,
   "id": "9d742e3a-79ac-4d86-ace3-803b25f14380",
   "metadata": {},
   "outputs": [
    {
     "name": "stdout",
     "output_type": "stream",
     "text": [
      "Summary:\n",
      "\n",
      "Joe Schmo, a software engineer, has received a positive performance review. His strengths include his technical expertise, collaborative nature, initiative and self-motivation, adaptability, and exceptional problem-solving skills. He is highly skilled in programming languages and software development best practices. Joe actively engages with cross-functional teams and seeks input from others. He consistently demonstrates initiative and takes the lead in seeking out new projects. His adaptability allows him to handle changing project requirements and learn new technologies. Joe approaches issues with a logical mindset and finds effective solutions. \n",
      "\n",
      "However, there are areas for improvement. Joe occasionally struggles with time management, leading to missed deadlines or the need for additional support to complete tasks on time. Developing better prioritization and time management techniques would enhance his efficiency. His written communication skills could also be improved to ensure clarity in documentation. Furthermore, Joe tends to take on too many responsibilities and hesitates to delegate tasks to others, which can result in an excessive workload and potential burnout. Encouraging appropriate delegation will create a more balanced and productive team environment.\n"
     ]
    }
   ],
   "source": [
    "print(result[\"review_summary\"])"
   ]
  },
  {
   "cell_type": "code",
   "execution_count": 52,
   "id": "1fbcbc00-b069-475d-8bf7-cc8f0222f7b5",
   "metadata": {},
   "outputs": [
    {
     "name": "stdout",
     "output_type": "stream",
     "text": [
      "Key employee weaknesses identified in the performance review summary for Joe Schmo, the software engineer, include:\n",
      "\n",
      "1. Time management: Joe occasionally struggles with time management, leading to missed deadlines or the need for additional support to complete tasks on time. Developing better prioritization and time management techniques would enhance his efficiency.\n",
      "\n",
      "2. Written communication skills: Joe's written communication skills could be improved to ensure clarity in documentation. This weakness suggests a need for clearer and more effective written communication in his work.\n",
      "\n",
      "3. Reluctance to delegate tasks: Joe tends to take on too many responsibilities and hesitates to delegate tasks to others. This can result in an excessive workload and potential burnout. Encouraging appropriate delegation will create a more balanced and productive team environment.\n"
     ]
    }
   ],
   "source": [
    "print(result[\"weaknesses\"])"
   ]
  },
  {
   "cell_type": "code",
   "execution_count": 51,
   "id": "275e0812-332b-480d-8ed4-9dac8c593287",
   "metadata": {},
   "outputs": [
    {
     "name": "stdout",
     "output_type": "stream",
     "text": [
      "Personalised Improvement Plan for Joe Schmo:\n",
      "\n",
      "1. Time Management:\n",
      "- Set clear goals and deadlines for each task or project.\n",
      "- Prioritize tasks based on their importance and urgency.\n",
      "- Break down larger tasks into smaller, manageable steps.\n",
      "- Use time management tools such as calendars or task management apps.\n",
      "- Regularly review and adjust the schedule as needed.\n",
      "- Seek guidance or training on time management techniques if necessary.\n",
      "\n",
      "2. Written Communication Skills:\n",
      "- Take the time to carefully proofread and edit written communication before submitting or sharing.\n",
      "- Use clear and concise language to convey ideas.\n",
      "- Seek feedback from colleagues or supervisors on written communication to identify areas for improvement.\n",
      "- Consider taking a business writing course or workshop to enhance written communication skills.\n",
      "- Practice writing regularly, both professionally and personally.\n",
      "\n",
      "3. Delegation:\n",
      "- Assess tasks to determine which ones can be delegated to others.\n",
      "- Identify team members with the necessary skills and capabilities to handle delegated tasks.\n",
      "- Clearly communicate expectations and provide clear instructions when delegating tasks.\n",
      "- Trust and empower others to take ownership of their delegated tasks.\n",
      "- Regularly check in with team members to provide support and guidance as needed.\n",
      "- Monitor progress and provide feedback on delegated tasks to ensure they are completed successfully.\n",
      "\n",
      "Overall, Joe should actively work on improving his time management skills, written communication abilities, and willingness to delegate tasks. By addressing these weaknesses, Joe can become a more efficient and effective software engineer, leading to improved productivity and a healthier work-life balance. Regular feedback and support from supervisors and colleagues will be crucial in his growth and development.\n"
     ]
    }
   ],
   "source": [
    "print(result[\"final_plan\"])"
   ]
  },
  {
   "attachments": {},
   "cell_type": "markdown",
   "id": "f4ac608a-647d-40a9-9262-48bde24e2430",
   "metadata": {},
   "source": [
    "# LLMRouterChain\n",
    "- Takes an input and redirects it to the most appropriate LLMChain sequence\n",
    "- The router accepts multiple potential destination LLMChains and then via a specialized prompt, the router will reat the initial input then output a spefic dictionary that matches up to one of the potential destination chains to continue processing.\n",
    "\n",
    "The most important things to build are the:\n",
    "- Templates\n",
    "- Prompt infos dictionary\n",
    "\n",
    "The rest is boilerplate LangChain code."
   ]
  },
  {
   "cell_type": "code",
   "execution_count": 26,
   "id": "3b9150a3-bc1d-4e16-a93e-8a0c1b1dc9a0",
   "metadata": {},
   "outputs": [],
   "source": [
    "# Example: Input --> LLMRouter  --> Path 1: LLMCHain of customer support\n",
    "#                               --> Path 2: LLMChain of internal employee"
   ]
  },
  {
   "cell_type": "code",
   "execution_count": 27,
   "id": "3f3f4d48-140d-40ec-b1d6-5ac533da835b",
   "metadata": {},
   "outputs": [],
   "source": [
    "# student ask question about Physics\n",
    "# \"How does a magnet work?\"\n",
    "# \"Explain what is a Feynman diagram?\"\n",
    "# Questions that can be really simple or difficult\n",
    "# Input --> Router --> LLM decides the correct chain --> Chain --> Output"
   ]
  },
  {
   "cell_type": "code",
   "execution_count": 28,
   "id": "786b9f87-aec7-4da8-b7f1-f65a01c8a265",
   "metadata": {},
   "outputs": [],
   "source": [
    "from langchain.chains import RouterChain"
   ]
  },
  {
   "cell_type": "code",
   "execution_count": 29,
   "id": "965e4503-6ff6-4686-8128-5c9fe663f2cc",
   "metadata": {},
   "outputs": [],
   "source": [
    "beginer_template = \"\"\"You are a physics teacher who is really focused on beginners and explaining complex concepts in simple to understand terms.\n",
    "You assume no prior knowledge. Here is your question:\\n{input}\"\"\""
   ]
  },
  {
   "cell_type": "code",
   "execution_count": 30,
   "id": "398a3bf9-ae0f-420e-8f10-2b4def96ae50",
   "metadata": {},
   "outputs": [],
   "source": [
    "expert_template = \"\"\"You are a physics professor who explains physics topics to advanced audience members. \n",
    "You can assume anyone you answer has a PhD in Physics. Here is your question:\\n{input}\"\"\""
   ]
  },
  {
   "cell_type": "code",
   "execution_count": 31,
   "id": "b0827a26-913e-44a4-9523-0c2b49419f47",
   "metadata": {},
   "outputs": [],
   "source": [
    "# Route prompt information\n",
    "# [{Name, Description, Template}]\n",
    "\n",
    "prompt_infos = [\n",
    "    {\n",
    "        \"name\": \"Beginner Physics\",\n",
    "        \"description\": \"Answers basic physics questions\",  # Important that this matches the template phrasing.\n",
    "        \"template\": beginer_template,\n",
    "    },\n",
    "    {\n",
    "        \"name\": \"Expert Physics\",\n",
    "        \"description\": \"Answers advanced physics questions\",  # Important that this matches the template phrasing.\n",
    "        \"template\": expert_template,\n",
    "    }\n",
    "]"
   ]
  },
  {
   "cell_type": "code",
   "execution_count": 32,
   "id": "4a9d8fff-194c-4c46-bd85-ed2babd958c6",
   "metadata": {},
   "outputs": [],
   "source": [
    "llm = ChatOpenAI()\n",
    "\n",
    "destination_chains = {}\n",
    "\n",
    "for p_info in prompt_infos:\n",
    "    name = p_info[\"name\"]\n",
    "    template = p_info[\"template\"]\n",
    "\n",
    "    prompt = ChatPromptTemplate.from_template(template=template)\n",
    "\n",
    "    chain = LLMChain(llm=llm, prompt=prompt)\n",
    "\n",
    "    destination_chains[name] = chain\n",
    "    "
   ]
  },
  {
   "cell_type": "code",
   "execution_count": 55,
   "id": "f22c758e-418c-49c5-ab61-56c5bc8a1407",
   "metadata": {},
   "outputs": [
    {
     "data": {
      "text/plain": [
       "dict_keys(['Beginner Physics', 'Expert Physics'])"
      ]
     },
     "execution_count": 55,
     "metadata": {},
     "output_type": "execute_result"
    }
   ],
   "source": [
    "destination_chains.keys()"
   ]
  },
  {
   "cell_type": "code",
   "execution_count": 33,
   "id": "6dec29db-5ab9-4b2d-af34-5c8f53ebbb2e",
   "metadata": {},
   "outputs": [],
   "source": [
    "default_prompt = ChatPromptTemplate.from_template(\"{input}\")\n",
    "default_chain = LLMChain(llm=llm, prompt=default_prompt)"
   ]
  },
  {
   "cell_type": "code",
   "execution_count": 34,
   "id": "645efd01-3839-4f94-9fc6-57ed5ae0f8ec",
   "metadata": {},
   "outputs": [],
   "source": [
    "from langchain.chains.router.multi_prompt_prompt import MULTI_PROMPT_ROUTER_TEMPLATE"
   ]
  },
  {
   "cell_type": "code",
   "execution_count": 35,
   "id": "3162708b-c334-4639-8114-3c5f40c0fee3",
   "metadata": {},
   "outputs": [
    {
     "name": "stdout",
     "output_type": "stream",
     "text": [
      "Given a raw text input to a language model select the model prompt best suited for the input. You will be given the names of the available prompts and a description of what the prompt is best suited for. You may also revise the original input if you think that revising it will ultimately lead to a better response from the language model.\n",
      "\n",
      "<< FORMATTING >>\n",
      "Return a markdown code snippet with a JSON object formatted to look like:\n",
      "```json\n",
      "{{{{\n",
      "    \"destination\": string \\ name of the prompt to use or \"DEFAULT\"\n",
      "    \"next_inputs\": string \\ a potentially modified version of the original input\n",
      "}}}}\n",
      "```\n",
      "\n",
      "REMEMBER: \"destination\" MUST be one of the candidate prompt names specified below OR it can be \"DEFAULT\" if the input is not well suited for any of the candidate prompts.\n",
      "REMEMBER: \"next_inputs\" can just be the original input if you don't think any modifications are needed.\n",
      "\n",
      "<< CANDIDATE PROMPTS >>\n",
      "{destinations}\n",
      "\n",
      "<< INPUT >>\n",
      "{{input}}\n",
      "\n",
      "<< OUTPUT (must include ```json at the start of the response) >>\n",
      "\n"
     ]
    }
   ],
   "source": [
    "# This is just a set of instructions\n",
    "print(MULTI_PROMPT_ROUTER_TEMPLATE)"
   ]
  },
  {
   "cell_type": "code",
   "execution_count": 36,
   "id": "90575240-bf0b-49e7-b8a2-94be312ef8a5",
   "metadata": {},
   "outputs": [
    {
     "data": {
      "text/plain": [
       "['Beginner Physics: Answers basic physics questions',\n",
       " 'Expert Physics: Answers advanced physics questions']"
      ]
     },
     "execution_count": 36,
     "metadata": {},
     "output_type": "execute_result"
    }
   ],
   "source": [
    "# Edit the MULTI PROMPT ROUTER TEMPLATE\n",
    "destinations = [f\"{p['name']}: {p['description']}\" for p in prompt_infos]\n",
    "destinations"
   ]
  },
  {
   "cell_type": "code",
   "execution_count": 37,
   "id": "1549f997-b856-40b9-a072-23be53a1f535",
   "metadata": {},
   "outputs": [
    {
     "data": {
      "text/plain": [
       "'Beginner Physics: Answers basic physics questions\\nExpert Physics: Answers advanced physics questions'"
      ]
     },
     "execution_count": 37,
     "metadata": {},
     "output_type": "execute_result"
    }
   ],
   "source": [
    "destination_str = \"\\n\".join(destinations)  # we should follow this format\n",
    "destination_str"
   ]
  },
  {
   "cell_type": "code",
   "execution_count": 38,
   "id": "a2c6425f-e850-48cc-b9a3-2ddca34dd226",
   "metadata": {},
   "outputs": [],
   "source": [
    "from langchain.prompts import PromptTemplate\n",
    "from langchain.chains.router.llm_router import LLMRouterChain, RouterOutputParser"
   ]
  },
  {
   "cell_type": "code",
   "execution_count": 39,
   "id": "4d376e73-cf49-47a6-9319-9b53dbc73e66",
   "metadata": {},
   "outputs": [
    {
     "name": "stdout",
     "output_type": "stream",
     "text": [
      "Given a raw text input to a language model select the model prompt best suited for the input. You will be given the names of the available prompts and a description of what the prompt is best suited for. You may also revise the original input if you think that revising it will ultimately lead to a better response from the language model.\n",
      "\n",
      "<< FORMATTING >>\n",
      "Return a markdown code snippet with a JSON object formatted to look like:\n",
      "```json\n",
      "{{\n",
      "    \"destination\": string \\ name of the prompt to use or \"DEFAULT\"\n",
      "    \"next_inputs\": string \\ a potentially modified version of the original input\n",
      "}}\n",
      "```\n",
      "\n",
      "REMEMBER: \"destination\" MUST be one of the candidate prompt names specified below OR it can be \"DEFAULT\" if the input is not well suited for any of the candidate prompts.\n",
      "REMEMBER: \"next_inputs\" can just be the original input if you don't think any modifications are needed.\n",
      "\n",
      "<< CANDIDATE PROMPTS >>\n",
      "Beginner Physics: Answers basic physics questions\n",
      "Expert Physics: Answers advanced physics questions\n",
      "\n",
      "<< INPUT >>\n",
      "{input}\n",
      "\n",
      "<< OUTPUT (must include ```json at the start of the response) >>\n",
      "\n"
     ]
    }
   ],
   "source": [
    "# Destinations are now filled\n",
    "router_template = MULTI_PROMPT_ROUTER_TEMPLATE.format(\n",
    "    destinations=destination_str\n",
    ")\n",
    "print(router_template)"
   ]
  },
  {
   "cell_type": "code",
   "execution_count": 48,
   "id": "458f3d72-0cb5-4296-a2f6-1e22d129dd5c",
   "metadata": {},
   "outputs": [],
   "source": [
    "router_prompt = PromptTemplate(\n",
    "    template=router_template,\n",
    "    input_variables=[\"input\"],\n",
    "    output_parser=RouterOutputParser()\n",
    ")"
   ]
  },
  {
   "cell_type": "code",
   "execution_count": 49,
   "id": "c5ce4ddd-9d32-4b59-a5d4-7348a80de316",
   "metadata": {},
   "outputs": [],
   "source": [
    "from langchain.chains.router import MultiPromptChain"
   ]
  },
  {
   "cell_type": "code",
   "execution_count": 50,
   "id": "7d76689d-938c-49c1-a2a1-ecc71d1c54e9",
   "metadata": {},
   "outputs": [],
   "source": [
    "router_chain = LLMRouterChain.from_llm(llm=llm, prompt=router_prompt)"
   ]
  },
  {
   "cell_type": "code",
   "execution_count": 51,
   "id": "f0be0fc8-f8c3-4d6a-8264-54f2dc47d2b1",
   "metadata": {},
   "outputs": [],
   "source": [
    "chain = MultiPromptChain(\n",
    "    router_chain=router_chain, \n",
    "    destination_chains=destination_chains, \n",
    "    default_chain=default_chain,\n",
    "    verbose=True\n",
    ")"
   ]
  },
  {
   "cell_type": "code",
   "execution_count": 52,
   "id": "22db7f73-df6f-4073-8b31-9384f73b8ac9",
   "metadata": {},
   "outputs": [
    {
     "name": "stdout",
     "output_type": "stream",
     "text": [
      "\n",
      "\n",
      "\u001b[1m> Entering new MultiPromptChain chain...\u001b[0m\n",
      "Beginner Physics: {'input': 'How do magnets work?'}\n",
      "\u001b[1m> Finished chain.\u001b[0m\n"
     ]
    }
   ],
   "source": [
    "import warnings\n",
    "warnings.filterwarnings(\"ignore\")\n",
    "\n",
    "result = chain.run(\"How do magnets work?\")"
   ]
  },
  {
   "cell_type": "code",
   "execution_count": 53,
   "id": "9f9e7e06-52dc-47ca-af57-489201c5707a",
   "metadata": {},
   "outputs": [
    {
     "name": "stdout",
     "output_type": "stream",
     "text": [
      "Great question! Let's start by understanding what magnets are. Magnets are special materials that have the ability to attract certain objects made of metal, like iron or steel. They can also repel or push away other magnets. \n",
      "\n",
      "Now, magnets work because of something called magnetic fields. Imagine that magnets have invisible lines of force around them, like a force field. These lines of force create a magnetic field that surrounds the magnet. \n",
      "\n",
      "When two magnets are brought close together, their magnetic fields interact with each other. There are two important things to remember about these interactions:\n",
      "\n",
      "1. Like poles repel: Magnets have two ends, called poles, known as the North pole (N) and South pole (S). The North pole of one magnet will repel the North pole of another magnet, and the same goes for the South poles. So, if you try to bring two North poles together, they will push each other away. The same happens with two South poles.\n",
      "\n",
      "2. Opposite poles attract: On the other hand, if you bring the North pole of one magnet close to the South pole of another magnet, they will attract each other and stick together. This is because they are attracted to the opposite magnetic field.\n",
      "\n",
      "So, the interaction between the magnetic fields of magnets determines how they work. This is also why magnets can attract certain metals. The magnetic field of the magnet causes the tiny particles inside the metal to align, creating a temporary magnet. This alignment allows the magnet and the metal object to attract each other.\n",
      "\n",
      "It's important to note that magnets can lose their magnetism over time, but some materials, like iron, can become permanent magnets when exposed to a strong magnetic field. These permanent magnets can then be used to attract or repel other magnets.\n",
      "\n",
      "I hope this explanation helps you understand how magnets work! Let me know if you have any more questions.\n"
     ]
    }
   ],
   "source": [
    "print(result)"
   ]
  },
  {
   "cell_type": "code",
   "execution_count": 54,
   "id": "4207b92c-6221-4eba-a2c9-f3ce9c90d2b5",
   "metadata": {},
   "outputs": [
    {
     "name": "stdout",
     "output_type": "stream",
     "text": [
      "\n",
      "\n",
      "\u001b[1m> Entering new MultiPromptChain chain...\u001b[0m\n",
      "Expert Physics: {'input': 'Please explain Feynman diagrams'}\n",
      "\u001b[1m> Finished chain.\u001b[0m\n",
      "Feynman diagrams are powerful tools used in theoretical physics, particularly in the field of quantum field theory, to visualize and calculate the interactions between elementary particles. They were introduced by physicist Richard Feynman in the 1940s and have since become an integral part of particle physics.\n",
      "\n",
      "At its core, a Feynman diagram represents a specific mathematical expression called a Feynman amplitude, which describes the probability amplitude for a particular particle interaction to occur. Feynman amplitudes are derived from the principles of quantum mechanics and allow us to calculate the likelihood of various particle interactions.\n",
      "\n",
      "In a Feynman diagram, particles are represented by lines, and the interactions between them are depicted as vertices. The lines can be straight or wavy, depending on the nature of the particle being represented. For example, straight lines typically represent particles like electrons or quarks, while wavy lines represent force-carrying particles, such as photons or gluons.\n",
      "\n",
      "The vertices in a Feynman diagram represent the points of interaction between particles. Each vertex is associated with a mathematical term that describes the strength and nature of the interaction between the particles involved. The Feynman amplitude is then obtained by multiplying together the terms associated with each vertex and integrating over all possible configurations of particles.\n",
      "\n",
      "The power of Feynman diagrams lies in their ability to provide a visual representation of complex particle interactions, making it easier to understand and calculate them. By following the lines and vertices, physicists can easily identify the particles involved and determine the possible outcomes of a given interaction.\n",
      "\n",
      "Furthermore, Feynman diagrams allow us to calculate the probabilities of different particle interactions by assigning a mathematical expression to each diagram. These expressions can be combined and manipulated to obtain the overall probability amplitude for a specific process. By summing over all possible Feynman diagrams contributing to a particular physical process, we can calculate the total probability of that process occurring.\n",
      "\n",
      "In summary, Feynman diagrams are graphical representations of particle interactions in quantum field theory. They provide a visual language that simplifies complex calculations and allows physicists to understand and predict the behavior of elementary particles in various physical processes.\n"
     ]
    }
   ],
   "source": [
    "result = chain.run(\"Please explain Feynman diagrams\")\n",
    "print(result)"
   ]
  },
  {
   "attachments": {},
   "cell_type": "markdown",
   "id": "e7ae4589-b4e2-4d97-90cb-3d37d3e3d148",
   "metadata": {},
   "source": [
    "# Transform Chain"
   ]
  },
  {
   "cell_type": "code",
   "execution_count": 43,
   "id": "06fdfe9c-a3bd-44b3-bc3d-a75400ccd945",
   "metadata": {},
   "outputs": [],
   "source": [
    "yelp_review = open(\"yelp_review.txt\").read()"
   ]
  },
  {
   "attachments": {},
   "cell_type": "markdown",
   "id": "fe9c469f-c154-4318-8a6d-433252781dbd",
   "metadata": {},
   "source": [
    "Instead of asking LLM to lower the text and some other cleaning (more expensive), we can do it using a transform chain."
   ]
  },
  {
   "cell_type": "code",
   "execution_count": 45,
   "id": "8044debb-b5fe-4da8-a3ec-ec458ef715df",
   "metadata": {},
   "outputs": [
    {
     "name": "stdout",
     "output_type": "stream",
     "text": [
      "TITLE: AN ABSOLUTE DELIGHT! A CULINARY HAVEN!\n",
      "\n",
      "REVIEW:\n",
      "OH MY GOODNESS, WHERE DO I BEGIN? THIS RESTAURANT IS ABSOLUTELY PHENOMENAL! I WENT THERE LAST NIGHT WITH MY FRIENDS, AND WE WERE BLOWN AWAY BY THE EXPERIENCE!\n",
      "\n",
      "FIRST OF ALL, THE AMBIANCE IS OUT OF THIS WORLD! THE MOMENT YOU STEP INSIDE, YOU'RE GREETED WITH A WARM AND INVITING ATMOSPHERE. THE DECOR IS STUNNING, AND IT IMMEDIATELY SETS THE TONE FOR AN UNFORGETTABLE DINING EXPERIENCE.\n",
      "\n",
      "NOW, LET'S TALK ABOUT THE FOOD! WOW, JUST WOW! THE MENU IS A PARADISE FOR FOOD LOVERS. EVERY DISH WE ORDERED WAS A MASTERPIECE. THE FLAVORS WERE BOLD, VIBRANT, AND EXPLODED IN OUR MOUTHS. FROM STARTERS TO DESSERTS, EVERY BITE WAS PURE BLISS!\n",
      "\n",
      "THEIR SEAFOOD PLATTER IS A MUST-TRY! THE FRESHNESS OF THE SEAFOOD IS UNMATCHED, AND THE PRESENTATION IS SIMPLY STUNNING. I HAVE NEVER TASTED SUCH DELICIOUS AND PERFECTLY COOKED SEAFOOD IN MY LIFE. IT'S A SEAFOOD LOVER'S DREAM COME TRUE!\n",
      "\n",
      "THE SERVICE WAS EXEMPLARY. THE STAFF WAS ATTENTIVE, FRIENDLY, AND EXTREMELY KNOWLEDGEABLE ABOUT THE MENU. THEY WENT ABOVE AND BEYOND TO ENSURE THAT WE HAD THE BEST DINING EXPERIENCE POSSIBLE.\n",
      "\n",
      "AND LET'S NOT FORGET ABOUT THE DESSERTS! OH MY, OH MY! I HAD THEIR SIGNATURE CHOCOLATE LAVA CAKE, AND IT WAS PURE HEAVEN. THE CAKE WAS MOIST, AND WHEN I CUT INTO IT, THE WARM CHOCOLATE OOOZED OUT, CREATING AN EXPLOSION OF FLAVOR IN MY MOUTH. IT WAS LIKE A SYMPHONY OF CHOCOLATEY GOODNESS!\n",
      "\n",
      "IN CONCLUSION, THIS RESTAURANT IS A HIDDEN GEM! IF YOU WANT TO INDULGE IN A MEMORABLE DINING EXPERIENCE, DO YOURSELF A FAVOR AND VISIT THIS PLACE. YOU WON'T REGRET IT! I CAN'T WAIT TO GO BACK AND TRY MORE OF THEIR DELECTABLE DISHES. KUDOS TO THE ENTIRE TEAM FOR CREATING SUCH A CULINARY HAVEN!\n",
      "\n",
      "ALL I CAN SAY IS... WOOHOO!\n"
     ]
    }
   ],
   "source": [
    "print(yelp_review)"
   ]
  },
  {
   "cell_type": "code",
   "execution_count": 48,
   "id": "fad5bcd2-8579-4449-a97b-349ed79c0f1b",
   "metadata": {},
   "outputs": [
    {
     "name": "stdout",
     "output_type": "stream",
     "text": [
      "\n",
      "oh my goodness, where do i begin? this restaurant is absolutely phenomenal! i went there last night with my friends, and we were blown away by the experience!\n",
      "\n",
      "first of all, the ambiance is out of this world! the moment you step inside, you're greeted with a warm and inviting atmosphere. the decor is stunning, and it immediately sets the tone for an unforgettable dining experience.\n",
      "\n",
      "now, let's talk about the food! wow, just wow! the menu is a paradise for food lovers. every dish we ordered was a masterpiece. the flavors were bold, vibrant, and exploded in our mouths. from starters to desserts, every bite was pure bliss!\n",
      "\n",
      "their seafood platter is a must-try! the freshness of the seafood is unmatched, and the presentation is simply stunning. i have never tasted such delicious and perfectly cooked seafood in my life. it's a seafood lover's dream come true!\n",
      "\n",
      "the service was exemplary. the staff was attentive, friendly, and extremely knowledgeable about the menu. they went above and beyond to ensure that we had the best dining experience possible.\n",
      "\n",
      "and let's not forget about the desserts! oh my, oh my! i had their signature chocolate lava cake, and it was pure heaven. the cake was moist, and when i cut into it, the warm chocolate ooozed out, creating an explosion of flavor in my mouth. it was like a symphony of chocolatey goodness!\n",
      "\n",
      "in conclusion, this restaurant is a hidden gem! if you want to indulge in a memorable dining experience, do yourself a favor and visit this place. you won't regret it! i can't wait to go back and try more of their delectable dishes. kudos to the entire team for creating such a culinary haven!\n",
      "\n",
      "all i can say is... woohoo!\n"
     ]
    }
   ],
   "source": [
    "# We want something like this: Lowercase and only the review text\n",
    "print(yelp_review.split(\"REVIEW:\")[-1].lower())"
   ]
  },
  {
   "cell_type": "code",
   "execution_count": 49,
   "id": "eb99ef18-5287-4fbb-84da-c6dcb37a4245",
   "metadata": {},
   "outputs": [],
   "source": [
    "# Input --> custom python transformation --> LLMChain"
   ]
  },
  {
   "cell_type": "code",
   "execution_count": 50,
   "id": "93abc925-4c4a-424b-ba64-a799f87487c6",
   "metadata": {},
   "outputs": [],
   "source": [
    "from langchain.chains import TransformChain, LLMChain, SimpleSequentialChain\n",
    "from langchain.chat_models import ChatOpenAI\n",
    "from langchain.prompts import ChatPromptTemplate"
   ]
  },
  {
   "cell_type": "code",
   "execution_count": 62,
   "id": "2dfcb8b4-74c7-47bf-b60e-036e27c48fbd",
   "metadata": {},
   "outputs": [],
   "source": [
    "def transformer_fun(inputs: dict) -> dict:\n",
    "    text = inputs[\"text\"]\n",
    "    only_review_text = text.split(\"REVIEW\")[-1]\n",
    "    lower_case_text = only_review_text.lower()\n",
    "    return {\"output\": lower_case_text}"
   ]
  },
  {
   "cell_type": "code",
   "execution_count": 63,
   "id": "dfd34fa9-881e-4b41-8a35-6007357f66e1",
   "metadata": {},
   "outputs": [],
   "source": [
    "transform_chain = TransformChain(\n",
    "    input_variables=[\"text\"],\n",
    "    output_variables=[\"output\"],\n",
    "    transform=transformer_fun\n",
    ")"
   ]
  },
  {
   "cell_type": "code",
   "execution_count": 64,
   "id": "e2d9a6f2-d594-43d9-9011-007907021d3a",
   "metadata": {},
   "outputs": [],
   "source": [
    "template = \"Create a one sentence summary of this review:\\n{review}\""
   ]
  },
  {
   "cell_type": "code",
   "execution_count": 65,
   "id": "7f731c2c-81c0-44b0-807a-8b057dbf4172",
   "metadata": {},
   "outputs": [],
   "source": [
    "llm = ChatOpenAI()\n",
    "prompt = ChatPromptTemplate.from_template(template)\n",
    "summary_chain = LLMChain(llm=llm, prompt=prompt, output_key=\"review_summary\")"
   ]
  },
  {
   "cell_type": "code",
   "execution_count": 66,
   "id": "4de63ec9-8c83-43f6-aab2-89a11e2051fe",
   "metadata": {},
   "outputs": [],
   "source": [
    "sequential_chain = SimpleSequentialChain(\n",
    "    chains=[transform_chain, summary_chain],\n",
    "    verbose=True\n",
    ")"
   ]
  },
  {
   "cell_type": "code",
   "execution_count": 67,
   "id": "9e5d1872-58f7-44a7-9866-7b2d448f5815",
   "metadata": {},
   "outputs": [
    {
     "name": "stdout",
     "output_type": "stream",
     "text": [
      "\n",
      "\n",
      "\u001b[1m> Entering new SimpleSequentialChain chain...\u001b[0m\n",
      "\u001b[36;1m\u001b[1;3m:\n",
      "oh my goodness, where do i begin? this restaurant is absolutely phenomenal! i went there last night with my friends, and we were blown away by the experience!\n",
      "\n",
      "first of all, the ambiance is out of this world! the moment you step inside, you're greeted with a warm and inviting atmosphere. the decor is stunning, and it immediately sets the tone for an unforgettable dining experience.\n",
      "\n",
      "now, let's talk about the food! wow, just wow! the menu is a paradise for food lovers. every dish we ordered was a masterpiece. the flavors were bold, vibrant, and exploded in our mouths. from starters to desserts, every bite was pure bliss!\n",
      "\n",
      "their seafood platter is a must-try! the freshness of the seafood is unmatched, and the presentation is simply stunning. i have never tasted such delicious and perfectly cooked seafood in my life. it's a seafood lover's dream come true!\n",
      "\n",
      "the service was exemplary. the staff was attentive, friendly, and extremely knowledgeable about the menu. they went above and beyond to ensure that we had the best dining experience possible.\n",
      "\n",
      "and let's not forget about the desserts! oh my, oh my! i had their signature chocolate lava cake, and it was pure heaven. the cake was moist, and when i cut into it, the warm chocolate ooozed out, creating an explosion of flavor in my mouth. it was like a symphony of chocolatey goodness!\n",
      "\n",
      "in conclusion, this restaurant is a hidden gem! if you want to indulge in a memorable dining experience, do yourself a favor and visit this place. you won't regret it! i can't wait to go back and try more of their delectable dishes. kudos to the entire team for creating such a culinary haven!\n",
      "\n",
      "all i can say is... woohoo!\u001b[0m\n",
      "\u001b[33;1m\u001b[1;3mThis review is a glowing endorsement of a restaurant with phenomenal ambiance, delicious food, impeccable service, and heavenly desserts, making it a hidden gem for a memorable dining experience.\u001b[0m\n",
      "\n",
      "\u001b[1m> Finished chain.\u001b[0m\n"
     ]
    }
   ],
   "source": [
    "result = sequential_chain(yelp_review)"
   ]
  },
  {
   "cell_type": "code",
   "execution_count": 69,
   "id": "77e492c8-5e68-49ef-a771-252a78c9a7ca",
   "metadata": {},
   "outputs": [
    {
     "name": "stdout",
     "output_type": "stream",
     "text": [
      "This review is a glowing endorsement of a restaurant with phenomenal ambiance, delicious food, impeccable service, and heavenly desserts, making it a hidden gem for a memorable dining experience.\n"
     ]
    }
   ],
   "source": [
    "print(result[\"output\"])"
   ]
  },
  {
   "attachments": {},
   "cell_type": "markdown",
   "id": "df1b94d2-d135-4f00-8117-c2a2de963383",
   "metadata": {},
   "source": [
    "# OpenAI function calling with LangChain"
   ]
  },
  {
   "cell_type": "code",
   "execution_count": 70,
   "id": "16714045-67cf-4b4e-91ea-812c7f77abbe",
   "metadata": {},
   "outputs": [],
   "source": [
    "from langchain.chat_models import ChatOpenAI"
   ]
  },
  {
   "cell_type": "code",
   "execution_count": 79,
   "id": "31b3830a-a6eb-4c21-9f6a-8f0c9e9e12f5",
   "metadata": {},
   "outputs": [],
   "source": [
    "llm = ChatOpenAI(model=\"gpt-3.5-turbo\")"
   ]
  },
  {
   "cell_type": "code",
   "execution_count": 92,
   "id": "45043fbf-1ac3-4042-bfbf-1cc2baf6ff0c",
   "metadata": {},
   "outputs": [],
   "source": [
    "# Not using pydantic\n",
    "class Scientist():\n",
    "    def __init__(self, first_name, last_name):\n",
    "        self.first_name = first_name\n",
    "        self.last_name = last_name"
   ]
  },
  {
   "cell_type": "code",
   "execution_count": 82,
   "id": "1b0c276f-be3a-494f-8a1f-e729c8a2d4dd",
   "metadata": {},
   "outputs": [],
   "source": [
    "json_schema = {\n",
    "    \"title\": \"Scientist\",\n",
    "    \"description\": \"Information about a famous scientist\",\n",
    "    \"type\": \"object\",\n",
    "    \"properties\": {\n",
    "        \"first_name\": {\n",
    "            \"title\": \"First Name\",\n",
    "            \"description\": \"First name of scientist\",\n",
    "            \"type\": \"string\"\n",
    "        },\n",
    "        \"last_name\": {\n",
    "            \"title\": \"Last Name\",\n",
    "            \"description\": \"Last name of scientist\",\n",
    "            \"type\": \"string\"\n",
    "        }\n",
    "    },\n",
    "    \"required\": [\"first_name\", \"last_name\"]\n",
    "}"
   ]
  },
  {
   "cell_type": "code",
   "execution_count": 85,
   "id": "d32802bb-48b0-4fd8-a6c8-f7650fa35315",
   "metadata": {},
   "outputs": [],
   "source": [
    "template = \"Name a famous {country} scientist\""
   ]
  },
  {
   "cell_type": "code",
   "execution_count": 87,
   "id": "81cef62d-28b6-4602-b35b-3bd57c841ce2",
   "metadata": {},
   "outputs": [],
   "source": [
    "from langchain.chains.openai_functions import create_structured_output_chain\n",
    "\n",
    "chat_prompt = ChatPromptTemplate.from_template(template)"
   ]
  },
  {
   "cell_type": "code",
   "execution_count": 88,
   "id": "07e73f50-a3d9-490f-8e9d-b7c3a9b3d2be",
   "metadata": {},
   "outputs": [],
   "source": [
    "chain = create_structured_output_chain(json_schema, llm, chat_prompt, verbose=True)"
   ]
  },
  {
   "cell_type": "code",
   "execution_count": 89,
   "id": "f9c0bb19-f414-4aff-b882-bacedb73f02c",
   "metadata": {},
   "outputs": [
    {
     "name": "stdout",
     "output_type": "stream",
     "text": [
      "\n",
      "\n",
      "\u001b[1m> Entering new LLMChain chain...\u001b[0m\n",
      "Prompt after formatting:\n",
      "\u001b[32;1m\u001b[1;3mHuman: Name a famous American scientist\u001b[0m\n",
      "\n",
      "\u001b[1m> Finished chain.\u001b[0m\n"
     ]
    }
   ],
   "source": [
    "result = chain.run(\"American\")"
   ]
  },
  {
   "attachments": {},
   "cell_type": "markdown",
   "id": "9804f924-0a5b-495b-aab6-545f2c6db576",
   "metadata": {},
   "source": [
    "albert = Scientist(result[\"first_name\"], result[\"last_name\"])"
   ]
  },
  {
   "cell_type": "code",
   "execution_count": 95,
   "id": "252f65ae-eb05-4082-94cf-05b9dcfef3a1",
   "metadata": {},
   "outputs": [
    {
     "data": {
      "text/plain": [
       "'Albert'"
      ]
     },
     "execution_count": 95,
     "metadata": {},
     "output_type": "execute_result"
    }
   ],
   "source": [
    "albert.first_name"
   ]
  },
  {
   "attachments": {},
   "cell_type": "markdown",
   "id": "477be5fb-2bf0-45c0-bfa1-ef1be60409e6",
   "metadata": {},
   "source": [
    "# Math Chain"
   ]
  },
  {
   "cell_type": "code",
   "execution_count": 97,
   "id": "d88b44aa-4d7f-4587-b6a8-2dca83d87ae4",
   "metadata": {},
   "outputs": [],
   "source": [
    "from langchain.chat_models import ChatOpenAI\n",
    "from langchain.prompts import ChatPromptTemplate, HumanMessagePromptTemplate\n",
    "from langchain.schema import HumanMessage"
   ]
  },
  {
   "cell_type": "code",
   "execution_count": 98,
   "id": "53f5c391-17f2-48a1-b18c-5fc5d3fa12d8",
   "metadata": {},
   "outputs": [],
   "source": [
    "model = ChatOpenAI()\n",
    "result = model([HumanMessage(content=\"What is 2 + 2\")])"
   ]
  },
  {
   "cell_type": "code",
   "execution_count": 99,
   "id": "09413af6-bdaf-4dc9-97d8-a6c2fef779db",
   "metadata": {},
   "outputs": [
    {
     "data": {
      "text/plain": [
       "'2 + 2 equals 4.'"
      ]
     },
     "execution_count": 99,
     "metadata": {},
     "output_type": "execute_result"
    }
   ],
   "source": [
    "result.content"
   ]
  },
  {
   "cell_type": "code",
   "execution_count": 100,
   "id": "26215cbf-81dc-46d9-94a7-ab077e29c294",
   "metadata": {},
   "outputs": [
    {
     "data": {
      "text/plain": [
       "34271896307633"
      ]
     },
     "execution_count": 100,
     "metadata": {},
     "output_type": "execute_result"
    }
   ],
   "source": [
    "17**11"
   ]
  },
  {
   "attachments": {},
   "cell_type": "markdown",
   "id": "ed804c18-e76f-4502-8343-cc71c99a74ae",
   "metadata": {},
   "source": [
    "With mathematical operations, the model starts to hallucinate."
   ]
  },
  {
   "cell_type": "code",
   "execution_count": 101,
   "id": "c7f9599b-b7f5-4252-b2a3-9f0562bf28d4",
   "metadata": {},
   "outputs": [
    {
     "name": "stdout",
     "output_type": "stream",
     "text": [
      "17 raised to the power of 11 is equal to 137,858,491,849.\n"
     ]
    }
   ],
   "source": [
    "result = model([HumanMessage(content=\"What is 17 raised to the power of 11\")])\n",
    "print(result.content)"
   ]
  },
  {
   "cell_type": "code",
   "execution_count": 102,
   "id": "5b9b6c62-6bc8-48f1-91bd-174afa2a950c",
   "metadata": {},
   "outputs": [
    {
     "data": {
      "text/plain": [
       "34271896307633"
      ]
     },
     "execution_count": 102,
     "metadata": {},
     "output_type": "execute_result"
    }
   ],
   "source": [
    "eval(\"17**11\")"
   ]
  },
  {
   "cell_type": "code",
   "execution_count": 103,
   "id": "25da6095-57be-40c2-8f43-7d8a854f6309",
   "metadata": {},
   "outputs": [],
   "source": [
    "from langchain import LLMMathChain"
   ]
  },
  {
   "cell_type": "code",
   "execution_count": 104,
   "id": "2012256c-d651-4c76-9175-6d43720a6a87",
   "metadata": {},
   "outputs": [],
   "source": [
    "llm_math_model = LLMMathChain.from_llm(model)"
   ]
  },
  {
   "cell_type": "code",
   "execution_count": 107,
   "id": "543ad5de-b046-4433-a7a7-a74e82e4cbde",
   "metadata": {},
   "outputs": [
    {
     "data": {
      "text/plain": [
       "{'question': 'What is 17 raised to the power of 11',\n",
       " 'answer': 'Answer: 34271896307633'}"
      ]
     },
     "execution_count": 107,
     "metadata": {},
     "output_type": "execute_result"
    }
   ],
   "source": [
    "llm_math_model(\"What is 17 raised to the power of 11\")"
   ]
  },
  {
   "attachments": {},
   "cell_type": "markdown",
   "id": "7abd6186-fcf5-4d38-b665-fe39f0ddf8df",
   "metadata": {},
   "source": [
    "# QA Documents"
   ]
  },
  {
   "cell_type": "code",
   "execution_count": 108,
   "id": "b6928e34-6983-4f92-872b-dbe08f05ede5",
   "metadata": {},
   "outputs": [],
   "source": [
    "# Vector store\n",
    "# QA on that vector store"
   ]
  },
  {
   "cell_type": "code",
   "execution_count": 110,
   "id": "0a4ad246-a43f-48f5-a51b-b16b0563fb2a",
   "metadata": {},
   "outputs": [],
   "source": [
    "from langchain.embeddings.openai import OpenAIEmbeddings\n",
    "from langchain.vectorstores import Chroma"
   ]
  },
  {
   "cell_type": "code",
   "execution_count": 130,
   "id": "9077b1f9-6815-4fcc-b756-93bf565e1f88",
   "metadata": {},
   "outputs": [],
   "source": [
    "embedding_function = OpenAIEmbeddings()\n",
    "db_connection = Chroma(persist_directory=\"US_Constitution\", embedding_function=embedding_function)"
   ]
  },
  {
   "cell_type": "code",
   "execution_count": 131,
   "id": "33d39be2-596b-4cbb-80f2-b9752bba304e",
   "metadata": {},
   "outputs": [],
   "source": [
    "from langchain.chains.question_answering import load_qa_chain"
   ]
  },
  {
   "cell_type": "code",
   "execution_count": 132,
   "id": "e732fcb6-14fb-4703-bb91-bf7d24dbe148",
   "metadata": {},
   "outputs": [],
   "source": [
    "from langchain.chains.qa_with_sources import load_qa_with_sources_chain # very similar, more metadata"
   ]
  },
  {
   "cell_type": "code",
   "execution_count": 133,
   "id": "4e46cce4-16f5-46ba-8660-cf8d87c54592",
   "metadata": {},
   "outputs": [],
   "source": [
    "from langchain.chat_models import ChatOpenAI"
   ]
  },
  {
   "cell_type": "code",
   "execution_count": 134,
   "id": "45ea8c8f-e112-4dbd-a33c-cab757c4955c",
   "metadata": {},
   "outputs": [],
   "source": [
    "llm = ChatOpenAI(temperature=0)"
   ]
  },
  {
   "cell_type": "code",
   "execution_count": 135,
   "id": "59a365bd-13ce-424a-ba59-645a517f81f8",
   "metadata": {},
   "outputs": [],
   "source": [
    "chain = load_qa_chain(\n",
    "    llm=llm,\n",
    "    chain_type=\"stuff\"  # means we are going to insert (\"stuff\") some context from vector store\n",
    ")"
   ]
  },
  {
   "cell_type": "code",
   "execution_count": 136,
   "id": "a7d521ec-2c84-433b-9533-5547bb7bfded",
   "metadata": {},
   "outputs": [],
   "source": [
    "question = \"What is the 15th amendment?\""
   ]
  },
  {
   "cell_type": "code",
   "execution_count": 140,
   "id": "20f32c2f-80bf-4224-9198-4b468c87c84d",
   "metadata": {},
   "outputs": [],
   "source": [
    "docs = db_connection.similarity_search(question)  # Document that will be context"
   ]
  },
  {
   "cell_type": "code",
   "execution_count": 141,
   "id": "41b8afad-867f-494e-b429-5aa1cb63b22d",
   "metadata": {},
   "outputs": [
    {
     "data": {
      "text/plain": [
       "'The 15th Amendment to the United States Constitution prohibits the denial or abridgment of the right to vote based on race, color, or previous condition of servitude. It grants Congress the power to enforce this amendment through appropriate legislation.\\nSOURCES: some_data/US_Constitution.txt'"
      ]
     },
     "execution_count": 141,
     "metadata": {},
     "output_type": "execute_result"
    }
   ],
   "source": [
    "chain = load_qa_with_sources_chain(llm, chain_type=\"stuff\")\n",
    "chain.run(\n",
    "    input_documents=docs,\n",
    "    question=question\n",
    ")"
   ]
  },
  {
   "cell_type": "code",
   "execution_count": null,
   "id": "f7ae8e7a-32f5-4d1c-bf03-f634b8e2645d",
   "metadata": {},
   "outputs": [],
   "source": []
  }
 ],
 "metadata": {
  "kernelspec": {
   "display_name": "Python 3 (ipykernel)",
   "language": "python",
   "name": "python3"
  },
  "language_info": {
   "codemirror_mode": {
    "name": "ipython",
    "version": 3
   },
   "file_extension": ".py",
   "mimetype": "text/x-python",
   "name": "python",
   "nbconvert_exporter": "python",
   "pygments_lexer": "ipython3",
   "version": "3.11.1"
  }
 },
 "nbformat": 4,
 "nbformat_minor": 5
}
